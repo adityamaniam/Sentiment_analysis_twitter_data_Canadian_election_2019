{
 "cells": [
  {
   "cell_type": "markdown",
   "metadata": {
    "colab_type": "text",
    "id": "TkGDGiXNvaAo"
   },
   "source": [
    "# ASSIGNMENT-2"
   ]
  },
  {
   "cell_type": "markdown",
   "metadata": {
    "colab_type": "text",
    "id": "OxPMtVeGk0Fl"
   },
   "source": [
    "  Importing required libraries"
   ]
  },
  {
   "cell_type": "code",
   "execution_count": 1,
   "metadata": {
    "colab": {
     "base_uri": "https://localhost:8080/",
     "height": 119
    },
    "colab_type": "code",
    "id": "UO6CM8Vscpz3",
    "outputId": "4b1cb0db-a2d9-4929-ee25-ca6326fa38d2"
   },
   "outputs": [
    {
     "name": "stdout",
     "output_type": "stream",
     "text": [
      "Requirement already satisfied: nltk in c:\\users\\aditya\\anaconda3\\lib\\site-packages (3.4.4)\n",
      "Requirement already satisfied: six in c:\\users\\aditya\\anaconda3\\lib\\site-packages (from nltk) (1.12.0)\n"
     ]
    },
    {
     "name": "stderr",
     "output_type": "stream",
     "text": [
      "[nltk_data] Downloading package stopwords to\n",
      "[nltk_data]     C:\\Users\\aditya\\AppData\\Roaming\\nltk_data...\n",
      "[nltk_data]   Package stopwords is already up-to-date!\n",
      "[nltk_data] Downloading package punkt to\n",
      "[nltk_data]     C:\\Users\\aditya\\AppData\\Roaming\\nltk_data...\n",
      "[nltk_data]   Package punkt is already up-to-date!\n",
      "[nltk_data] Downloading package wordnet to\n",
      "[nltk_data]     C:\\Users\\aditya\\AppData\\Roaming\\nltk_data...\n",
      "[nltk_data]   Package wordnet is already up-to-date!\n"
     ]
    }
   ],
   "source": [
    "import pandas as pd\n",
    "import numpy as np\n",
    "import matplotlib.pyplot as plt\n",
    "import seaborn as sns\n",
    "import string\n",
    "try:\n",
    "    import emoji #If tweepy is already installed on the system\n",
    "except:\n",
    "    !pip install emoji\n",
    "    import emoji\n",
    "\n",
    "!pip install nltk\n",
    "#import nltk package for text processing\n",
    "import nltk\n",
    "nltk.download('stopwords')\n",
    "nltk.download('punkt')\n",
    "nltk.download('wordnet')\n",
    "from nltk.corpus import stopwords\n",
    "from nltk.tokenize import word_tokenize\n",
    "from nltk.stem.porter import PorterStemmer\n",
    "from nltk.tokenize import RegexpTokenizer\n",
    "\n",
    "\n",
    "from sklearn.feature_extraction.text import CountVectorizer\n",
    "from sklearn.feature_extraction.text import TfidfVectorizer\n",
    "from sklearn.model_selection import train_test_split, KFold,GridSearchCV\n",
    "from sklearn.preprocessing import StandardScaler \n",
    "import re\n",
    "import requests"
   ]
  },
  {
   "cell_type": "markdown",
   "metadata": {
    "colab_type": "text",
    "id": "ZJceXYEuxFCC"
   },
   "source": [
    "# DATA CLEANING AND EXPLORATORY DATA ANALYSIS- SENTIMENT.CSV"
   ]
  },
  {
   "cell_type": "markdown",
   "metadata": {
    "colab_type": "text",
    "id": "5orHPjSOk9DN"
   },
   "source": [
    "  Now lets inspect the Sentiment dataset"
   ]
  },
  {
   "cell_type": "code",
   "execution_count": 2,
   "metadata": {
    "colab": {
     "base_uri": "https://localhost:8080/",
     "height": 204
    },
    "colab_type": "code",
    "id": "dOdZv8_UczJ_",
    "outputId": "fc143720-973f-401e-ac8a-9e9f45139b17"
   },
   "outputs": [
    {
     "data": {
      "text/html": [
       "<div>\n",
       "<style scoped>\n",
       "    .dataframe tbody tr th:only-of-type {\n",
       "        vertical-align: middle;\n",
       "    }\n",
       "\n",
       "    .dataframe tbody tr th {\n",
       "        vertical-align: top;\n",
       "    }\n",
       "\n",
       "    .dataframe thead th {\n",
       "        text-align: right;\n",
       "    }\n",
       "</style>\n",
       "<table border=\"1\" class=\"dataframe\">\n",
       "  <thead>\n",
       "    <tr style=\"text-align: right;\">\n",
       "      <th></th>\n",
       "      <th>sentiment</th>\n",
       "      <th>text</th>\n",
       "    </tr>\n",
       "  </thead>\n",
       "  <tbody>\n",
       "    <tr>\n",
       "      <th>133806</th>\n",
       "      <td>Positive</td>\n",
       "      <td>@scottw Nice, I have the 20/20 but to be hones...</td>\n",
       "    </tr>\n",
       "    <tr>\n",
       "      <th>133807</th>\n",
       "      <td>Positive</td>\n",
       "      <td>â€œ@BW_React: #GOPDebate verdict: @JohnKasich ...</td>\n",
       "    </tr>\n",
       "    <tr>\n",
       "      <th>133808</th>\n",
       "      <td>Negative</td>\n",
       "      <td>@amtrack  i am sorry .... i love you tho and t...</td>\n",
       "    </tr>\n",
       "    <tr>\n",
       "      <th>133809</th>\n",
       "      <td>Positive</td>\n",
       "      <td>@RazorTV http://tinyurl.com/d96txo - Champions...</td>\n",
       "    </tr>\n",
       "    <tr>\n",
       "      <th>133810</th>\n",
       "      <td>Negative</td>\n",
       "      <td>Beautiful day, and I'm on my way to the office...</td>\n",
       "    </tr>\n",
       "  </tbody>\n",
       "</table>\n",
       "</div>"
      ],
      "text/plain": [
       "       sentiment                                               text\n",
       "133806  Positive  @scottw Nice, I have the 20/20 but to be hones...\n",
       "133807  Positive  â€œ@BW_React: #GOPDebate verdict: @JohnKasich ...\n",
       "133808  Negative  @amtrack  i am sorry .... i love you tho and t...\n",
       "133809  Positive  @RazorTV http://tinyurl.com/d96txo - Champions...\n",
       "133810  Negative  Beautiful day, and I'm on my way to the office..."
      ]
     },
     "execution_count": 2,
     "metadata": {},
     "output_type": "execute_result"
    }
   ],
   "source": [
    "df=pd.read_csv(\"Sentiment.csv\")\n",
    "df.tail()"
   ]
  },
  {
   "cell_type": "markdown",
   "metadata": {
    "colab_type": "text",
    "id": "vXbSmoExlHgV"
   },
   "source": [
    "**On inspection we see that we have @,# and other punctuations in the tweets. Lets convert the words to lowercase and remove all sopword, punctuations, emoticons and emoji. We also have to do lemmetization or stemming of the remaining words left in the tweet**"
   ]
  },
  {
   "cell_type": "code",
   "execution_count": 3,
   "metadata": {
    "colab": {
     "base_uri": "https://localhost:8080/",
     "height": 51
    },
    "colab_type": "code",
    "id": "LTrlD_mqc350",
    "outputId": "501b2ecb-5434-49a9-f05a-d40d3e711c14"
   },
   "outputs": [
    {
     "name": "stdout",
     "output_type": "stream",
     "text": [
      "rt @diplomtc_immnty: @realdonaldtrump they tried to take you out &amp; your poll numbers skyrocketed. voters matter, not @foxnews moderators.\n",
      "#â€¦\n"
     ]
    }
   ],
   "source": [
    "#CONVERT TWEETS TO LOWER CASE\n",
    "dfa=df[\"text\"]\n",
    "dfa=np.array(dfa)\n",
    "dfa=[str(i) for i in dfa]\n",
    "dfa=[i.lower() for i in dfa]\n",
    "print(dfa[0])"
   ]
  },
  {
   "cell_type": "code",
   "execution_count": 4,
   "metadata": {
    "colab": {
     "base_uri": "https://localhost:8080/",
     "height": 34
    },
    "colab_type": "code",
    "id": "QPiDJiDyiIZq",
    "outputId": "f3707387-7a6c-4f1f-b497-e651f481e8a1"
   },
   "outputs": [
    {
     "name": "stdout",
     "output_type": "stream",
     "text": [
      "['@diplomtc_immnty:', '@realdonaldtrump', '@foxnews']\n"
     ]
    }
   ],
   "source": [
    "#EXTRACTING THE @ DATA FROM THE TWEETS\n",
    "l_dfa=[]\n",
    "for i in dfa:  \n",
    "  w=[]\n",
    "  List = i.split()\n",
    "  for s in List:\n",
    "      if s.startswith('@'):\n",
    "          w.append(s)\n",
    "  l_dfa.append(w)\n",
    "print(l_dfa[0])\n",
    "df[\"at\"]=str(l_dfa)"
   ]
  },
  {
   "cell_type": "code",
   "execution_count": 5,
   "metadata": {
    "colab": {
     "base_uri": "https://localhost:8080/",
     "height": 34
    },
    "colab_type": "code",
    "id": "igSFl9NB1AGd",
    "outputId": "7bd1bc22-2c7b-4dbf-9d9e-002bead907bc"
   },
   "outputs": [
    {
     "name": "stdout",
     "output_type": "stream",
     "text": [
      "[]\n"
     ]
    }
   ],
   "source": [
    "#EXTRACTING THE HASH DATA FROM THE TWEETS\n",
    "l1_dfa=[]\n",
    "for i in dfa:  \n",
    "  w=[]\n",
    "  List = i.split()\n",
    "  for s in List:\n",
    "      if s.startswith('#'):\n",
    "          w.append(s)\n",
    "  l1_dfa.append(w)\n",
    "print(l1_dfa[5])\n",
    "df[\"hsh\"]=l1_dfa"
   ]
  },
  {
   "cell_type": "code",
   "execution_count": 6,
   "metadata": {
    "colab": {
     "base_uri": "https://localhost:8080/",
     "height": 51
    },
    "colab_type": "code",
    "id": "xF6gs2dzqMAZ",
    "outputId": "52cd2120-dcd7-434e-d94c-f796a81de702"
   },
   "outputs": [
    {
     "name": "stdout",
     "output_type": "stream",
     "text": [
      "   they tried to take you out &amp; your poll numbers skyrocketed. voters matter, not  moderators.\n",
      "â€¦\n"
     ]
    }
   ],
   "source": [
    "#REMOVING RT-RETWEETS,URLS AND USERNAMES AND # IN HASHTAG\n",
    "dfa=[re.sub('rt', '', i) for i in dfa] # remove rt[RETWEET]\n",
    "dfa=[re.sub('((www\\.[^\\s]+)|(https?://[^\\s]+))', '', i) for i in dfa] # remove URLs\n",
    "dfa=[re.sub('@[^\\s]+', '', i) for i in dfa] # remove usernames\n",
    "dfa=[re.sub(r'#([^\\s]+)', r'\\1', i) for i in dfa] # remove the # in #hashtag\n",
    "print(dfa[0])"
   ]
  },
  {
   "cell_type": "code",
   "execution_count": 7,
   "metadata": {
    "colab": {
     "base_uri": "https://localhost:8080/",
     "height": 34
    },
    "colab_type": "code",
    "id": "E68I6TQndBYd",
    "outputId": "1f55fa7b-f9ba-4a53-b4e2-577558be5614"
   },
   "outputs": [
    {
     "name": "stdout",
     "output_type": "stream",
     "text": [
      "['damn', 'jealous', 'wanna', 'watch', 'fight', 'love', 'ufc', 'one', 'knows']\n"
     ]
    }
   ],
   "source": [
    "# TOKENIZING THE TWEETS AND REMOVING STOP WORDS\n",
    "lst=[]\n",
    "tokenizer = RegexpTokenizer(r'\\w+')\n",
    "for i in dfa:     \n",
    "    b = tokenizer.tokenize(i)\n",
    "    i_stop= [word for word in b if word not in stopwords.words('english')]\n",
    "    lst.append(i_stop)\n",
    "lst=np.array(lst)\n",
    "print(lst[1])\n"
   ]
  },
  {
   "cell_type": "code",
   "execution_count": 8,
   "metadata": {
    "colab": {},
    "colab_type": "code",
    "id": "_3OzXktSlneG"
   },
   "outputs": [],
   "source": [
    "# Define set of happy emoticons\n",
    "emoticons_happy = set([\n",
    "    ':-)', ':)', ';)', ':o)', ':]', ':3', ':c)', ':>', '=]', '8)', '=)', ':}',\n",
    "    ':^)', ':-D', ':D', '8-D', '8D', 'x-D', 'xD', 'X-D', 'XD', '=-D', '=D',\n",
    "    '=-3', '=3', ':-))', \":'-)\", \":')\", ':*', ':^*', '>:P', ':-P', ':P', 'X-P',\n",
    "    'x-p', 'xp', 'XP', ':-p', ':p', '=p', ':-b', ':b', '>:)', '>;)', '>:-)',\n",
    "    '<3'\n",
    "    ])\n",
    " \n",
    "# Sad Emoticons\n",
    "emoticons_sad = set([\n",
    "    ':L', ':-/', '>:/', ':S', '>:[', ':@', ':-(', ':[', ':-||', '=L', ':<',\n",
    "    ':-[', ':-<', '=\\\\', '=/', '>:(', ':(', '>.<', \":'-(\", \":'(\", ':\\\\', ':-c',\n",
    "    ':c', ':{', '>:\\\\', ';('\n",
    "    ])\n",
    " \n",
    "#Function to remove emojis\n",
    "def remove_emoji(text):\n",
    "    return emoji.get_emoji_regexp().sub(u'', text)\n",
    " \n",
    "#combine sad and happy emoticons\n",
    "emoticons = emoticons_happy.union(emoticons_sad)"
   ]
  },
  {
   "cell_type": "code",
   "execution_count": 9,
   "metadata": {
    "colab": {
     "base_uri": "https://localhost:8080/",
     "height": 34
    },
    "colab_type": "code",
    "id": "QbNSRrS_mcmL",
    "outputId": "1b41dfef-5556-4520-a29e-f96a3a33e5d7"
   },
   "outputs": [
    {
     "name": "stdout",
     "output_type": "stream",
     "text": [
      "['looks', 'good', 'personal', 'yet', 'professional', 'lucky', 'wife', 'could', 'say', 'got', 'done', 'house']\n"
     ]
    }
   ],
   "source": [
    "#REMOVE EMOTICONS \n",
    "l=[]\n",
    "for i in lst:\n",
    "  word_tokens = [word for word in i if not word in emoticons]\n",
    "  l.append(word_tokens)\n",
    "print(l[10])"
   ]
  },
  {
   "cell_type": "code",
   "execution_count": 10,
   "metadata": {
    "colab": {
     "base_uri": "https://localhost:8080/",
     "height": 34
    },
    "colab_type": "code",
    "id": "4C3d6MXiqoOF",
    "outputId": "59f99744-7cd3-4a35-9d19-bd299d180f22"
   },
   "outputs": [
    {
     "name": "stdout",
     "output_type": "stream",
     "text": [
      "['looks', 'good', 'personal', 'yet', 'professional', 'lucky', 'wife', 'could', 'say', 'got', 'done', 'house']\n"
     ]
    }
   ],
   "source": [
    "#REMOVW EMOJI'S\n",
    "l1=[]\n",
    "for i in l:\n",
    "  word_tokens = [remove_emoji(word) for word in i]\n",
    "  l1.append(word_tokens)\n",
    "print(l1[10])"
   ]
  },
  {
   "cell_type": "code",
   "execution_count": 11,
   "metadata": {
    "colab": {
     "base_uri": "https://localhost:8080/",
     "height": 34
    },
    "colab_type": "code",
    "id": "XyvGcHprn-FL",
    "outputId": "8d69c879-320c-4dd8-8175-55cf3d943264"
   },
   "outputs": [
    {
     "name": "stdout",
     "output_type": "stream",
     "text": [
      "['looks', 'good', 'personal', 'yet', 'professional', 'lucky', 'wife', 'could', 'say', 'got', 'done', 'house']\n"
     ]
    }
   ],
   "source": [
    "#remove punctuation signs from tokens\n",
    "table = str.maketrans('', '', string.punctuation)\n",
    "l2=[]\n",
    "for i in l1:\n",
    "  word_tokens = [word.translate(table) for word in i]\n",
    "  l2.append(word_tokens)\n",
    "print(l2[10])"
   ]
  },
  {
   "cell_type": "code",
   "execution_count": 12,
   "metadata": {
    "colab": {
     "base_uri": "https://localhost:8080/",
     "height": 34
    },
    "colab_type": "code",
    "id": "G2zwpYLzoLRN",
    "outputId": "c8e2ad98-33f6-44d0-8b58-4f7059b50ba9"
   },
   "outputs": [
    {
     "name": "stdout",
     "output_type": "stream",
     "text": [
      "['looks', 'good', 'personal', 'yet', 'professional', 'lucky', 'wife', 'could', 'say', 'got', 'done', 'house']\n"
     ]
    }
   ],
   "source": [
    "#remove non-alphabetic characters\n",
    "l3=[]\n",
    "for i in l2:\n",
    "  word_tokens = [word for word in i if word.isalpha()]\n",
    "  l3.append(word_tokens)\n",
    "print(l3[10])"
   ]
  },
  {
   "cell_type": "markdown",
   "metadata": {
    "colab_type": "text",
    "id": "JaQBtUJRn3KR"
   },
   "source": [
    "**EVENTHOUGH LEMMATIZATION TAKES LONGER TO RUN,WE CHOOSE LEMMATIZATION OVER STEMMING BECAUSE IT GIVES US THE ROOT WORD**"
   ]
  },
  {
   "cell_type": "code",
   "execution_count": 13,
   "metadata": {
    "colab": {
     "base_uri": "https://localhost:8080/",
     "height": 34
    },
    "colab_type": "code",
    "id": "ODXgrQufReZy",
    "outputId": "89817d4f-aa57-40bf-abe5-6f81f0753481"
   },
   "outputs": [
    {
     "name": "stdout",
     "output_type": "stream",
     "text": [
      "['look', 'good', 'personal', 'yet', 'professional', 'lucky', 'wife', 'could', 'say', 'got', 'done', 'house']\n"
     ]
    }
   ],
   "source": [
    "#LEMMATIZATION\n",
    "from nltk.stem import WordNetLemmatizer\n",
    "lemmatizer = WordNetLemmatizer()\n",
    "l4=[]\n",
    "for i in l3:\n",
    "  lem=[lemmatizer.lemmatize(word) for word in i]\n",
    "  l4.append(lem)\n",
    "print(l4[10])"
   ]
  },
  {
   "cell_type": "markdown",
   "metadata": {
    "colab_type": "text",
    "id": "xXqAkHTAwwoF"
   },
   "source": [
    "**NOW LETS VISUALIZE THE WORDS IN THE TWEETS USING WORD CLOUD**"
   ]
  },
  {
   "cell_type": "code",
   "execution_count": 14,
   "metadata": {
    "colab": {
     "base_uri": "https://localhost:8080/",
     "height": 54
    },
    "colab_type": "code",
    "id": "LgjmSOPvFMqb",
    "outputId": "376fc90f-ef27-4fff-d67f-6ee01cc475fc"
   },
   "outputs": [
    {
     "name": "stdout",
     "output_type": "stream",
     "text": [
      "['tried', 'take', 'amp', 'poll', 'number', 'skyrocketed', 'voter', 'matter', 'moderator', 'â', 'damn', 'jealous', 'wanna', 'watch', 'fight', 'love', 'ufc', 'one', 'know', 'listening', 'beatles', 'great', 'could', 'please', 'get', 'shout', 'anything', 'huge', 'fan', 'wait', 'new', 'cd', 'spotted', 'ur', 'message', 'tony', 'replied', 'finished', 'watching', 'lost', 'oh', 'faraday', 'pity', 'eloise', 'hawking', 'cold', 'heaed', 'b', 'hoping', 'nice']\n"
     ]
    }
   ],
   "source": [
    "#COMBINING THE LIST OF TWEETS(LIST) TO A SINGLE LIST\n",
    "from itertools import chain\n",
    "wordc=list(chain(*l4))\n",
    "print(wordc[0:50])"
   ]
  },
  {
   "cell_type": "code",
   "execution_count": 15,
   "metadata": {
    "colab": {
     "base_uri": "https://localhost:8080/",
     "height": 54
    },
    "colab_type": "code",
    "id": "FY3BbuhQm9Gw",
    "outputId": "3b024b69-e3bc-4787-f216-d9f667b95735"
   },
   "outputs": [
    {
     "name": "stdout",
     "output_type": "stream",
     "text": [
      "{'gopdebate': 8939, 'day': 8607, 'good': 7163, 'get': 7041, 'like': 6733, 'go': 6141, 'work': 5741, 'today': 5464, 'time': 5391, 'gopdebates': 5276, 'going': 5205, 'quot': 5049, 'u': 4969, 'one': 4901, 'love': 4767, 'back': 4736, 'got': 4716, 'night': 4527, 'amp': 4356, 'know': 4266, 'want': 4208, 'really': 4170, 'lol': 4028, 'think': 3897, 'need': 3688, 'last': 3674, 'im': 3643, 'see': 3640, 'still': 3477, 'well': 3417, 'twitter': 3245, 'morning': 3227, 'new': 3162, 'home': 3129, 'oh': 3124, 'thanks': 3084, 'much': 3001, 'great': 2819, 'make': 2778, 'hope': 2733, 'feel': 2709, 'miss': 2646, 'tomorrow': 2645, 'would': 2572, 'wish': 2540, 'sleep': 2511, 'right': 2423, 'come': 2326, 'thing': 2274, 'people': 2269, 'sad': 2231, 'fun': 2208, 'week': 2197, 'bad': 2181, 'ðÿ': 2157, 'tonight': 2094, 'happy': 2083, 'look': 2041, 'getting': 2031, 'sorry': 2029, 'say': 2028, 'nice': 2026, 'way': 2010, 'haha': 2001, 'bed': 1986, 'though': 1943, 'watching': 1926, 'trump': 1910, 'friend': 1904, 'better': 1890, 'could': 1862, 'ºðÿ': 1833, 'school': 1790, 'hour': 1757, 'hate': 1756, 'next': 1696, 'even': 1652, 'take': 1628, 'gonna': 1628, 'yeah': 1584, 'guy': 1528, 'show': 1527, 'wait': 1524, 'never': 1522, 'yes': 1496, 'first': 1482, 'hey': 1472, 'tweet': 1469, 'long': 1443, 'let': 1433, 'life': 1426, 'watch': 1387, 'weekend': 1381, 'best': 1378, 'fox': 1377, 'sick': 1361, 'working': 1355, 'tired': 1344, 'little': 1317, 'soon': 1314}\n"
     ]
    }
   ],
   "source": [
    "# WORD COUNTER FOR WORD CLOUD\n",
    "from collections import Counter\n",
    "wcounter=Counter(wordc).most_common(100)\n",
    "wco=dict(wcounter)\n",
    "print(wco)"
   ]
  },
  {
   "cell_type": "code",
   "execution_count": 16,
   "metadata": {
    "colab": {
     "base_uri": "https://localhost:8080/",
     "height": 507
    },
    "colab_type": "code",
    "id": "03k0enrBwPH7",
    "outputId": "1f641618-6467-42ea-f957-31e9c226fef6"
   },
   "outputs": [
    {
     "name": "stdout",
     "output_type": "stream",
     "text": [
      "Requirement already satisfied: wordcloud in c:\\users\\aditya\\anaconda3\\lib\\site-packages (1.6.0)\n",
      "Requirement already satisfied: numpy>=1.6.1 in c:\\users\\aditya\\anaconda3\\lib\\site-packages (from wordcloud) (1.16.4)\n",
      "Requirement already satisfied: matplotlib in c:\\users\\aditya\\anaconda3\\lib\\site-packages (from wordcloud) (3.1.0)\n",
      "Requirement already satisfied: pillow in c:\\users\\aditya\\anaconda3\\lib\\site-packages (from wordcloud) (6.1.0)\n",
      "Requirement already satisfied: cycler>=0.10 in c:\\users\\aditya\\anaconda3\\lib\\site-packages (from matplotlib->wordcloud) (0.10.0)\n",
      "Requirement already satisfied: kiwisolver>=1.0.1 in c:\\users\\aditya\\anaconda3\\lib\\site-packages (from matplotlib->wordcloud) (1.1.0)\n",
      "Requirement already satisfied: pyparsing!=2.0.4,!=2.1.2,!=2.1.6,>=2.0.1 in c:\\users\\aditya\\anaconda3\\lib\\site-packages (from matplotlib->wordcloud) (2.4.0)\n",
      "Requirement already satisfied: python-dateutil>=2.1 in c:\\users\\aditya\\anaconda3\\lib\\site-packages (from matplotlib->wordcloud) (2.8.0)\n",
      "Requirement already satisfied: six in c:\\users\\aditya\\anaconda3\\lib\\site-packages (from cycler>=0.10->matplotlib->wordcloud) (1.12.0)\n",
      "Requirement already satisfied: setuptools in c:\\users\\aditya\\anaconda3\\lib\\site-packages (from kiwisolver>=1.0.1->matplotlib->wordcloud) (41.0.1)\n"
     ]
    },
    {
     "data": {
      "image/png": "[encoded data removed]",
      "text/plain": [
       "<Figure size 576x576 with 1 Axes>"
      ]
     },
     "metadata": {
      "needs_background": "light"
     },
     "output_type": "display_data"
    }
   ],
   "source": [
    "!pip install wordcloud\n",
    "from wordcloud import WordCloud, STOPWORDS,ImageColorGenerator\n",
    "wordcloud = WordCloud(width = 800, height = 800,background_color ='white',stopwords = stopwords, min_font_size = 10).generate_from_frequencies(wco) \n",
    "\n",
    "# plot the WordCloud image                        \n",
    "plt.figure(figsize = (8, 8), facecolor = None) \n",
    "plt.imshow(wordcloud) \n",
    "plt.axis(\"off\") \n",
    "plt.tight_layout(pad = 5) \n",
    "  \n",
    "plt.show() "
   ]
  },
  {
   "cell_type": "markdown",
   "metadata": {
    "colab_type": "text",
    "id": "B7kpuMGsxlWS"
   },
   "source": [
    "**LETS TRY TO CREATE WORD CLOUD IN THE FORM OF TWITTER ICON**"
   ]
  },
  {
   "cell_type": "code",
   "execution_count": 17,
   "metadata": {
    "colab": {},
    "colab_type": "code",
    "id": "4XlAIcx_zANK"
   },
   "outputs": [],
   "source": [
    "#Downloading Twitter icon image\n",
    "img_data = requests.get(\"https://c10.patreonusercontent.com/3/eyJwIjoxfQ%3D%3D/patreon-media/p/post/7200517/72644204bb68492d917dce21a9796cd4/1.jpg?token-time=1585683389&token-hash=6YZh8ze3uiJlW60WWrwLsfN_2hhtzLVGHUD6-8tuL9o%3D\").content\n",
    "with open('p1.png', 'wb') as handler:\n",
    "    handler.write(img_data)"
   ]
  },
  {
   "cell_type": "code",
   "execution_count": 18,
   "metadata": {
    "colab": {},
    "colab_type": "code",
    "id": "VwbMgFfq06Gh"
   },
   "outputs": [],
   "source": [
    "# Generate a word cloud image mask\n",
    "from PIL import Image, ImageDraw\n",
    "mask = np.array(Image.open(\"p1.png\"))"
   ]
  },
  {
   "cell_type": "code",
   "execution_count": 19,
   "metadata": {
    "colab": {
     "base_uri": "https://localhost:8080/",
     "height": 507
    },
    "colab_type": "code",
    "id": "K-VqERH4lInO",
    "outputId": "c2c5f117-2288-44f0-d18d-81f2050e8c7c"
   },
   "outputs": [
    {
     "data": {
      "image/png": "[encoded data removed]",
      "text/plain": [
       "<Figure size 576x576 with 1 Axes>"
      ]
     },
     "metadata": {
      "needs_background": "light"
     },
     "output_type": "display_data"
    }
   ],
   "source": [
    "from wordcloud import WordCloud, STOPWORDS,ImageColorGenerator\n",
    "wordcloud = WordCloud(width = 800, height = 800,background_color ='white',stopwords = stopwords, mask=mask, min_font_size = 10).generate_from_frequencies(wco) \n",
    "\n",
    "# plot the WordCloud image                        \n",
    "plt.figure(figsize = (8, 8), facecolor = \"none\") \n",
    "plt.imshow(wordcloud) \n",
    "plt.axis(\"off\") \n",
    "plt.tight_layout(pad = 2) \n",
    "plt.tight_layout()\n",
    "plt.show()"
   ]
  },
  {
   "cell_type": "markdown",
   "metadata": {
    "colab_type": "text",
    "id": "FMcyvcO4ygmV"
   },
   "source": [
    "**NOW LETS SAVE THE TWEETS IN DATAFRAME**"
   ]
  },
  {
   "cell_type": "code",
   "execution_count": 20,
   "metadata": {
    "colab": {
     "base_uri": "https://localhost:8080/",
     "height": 54
    },
    "colab_type": "code",
    "id": "gfFECVtIysqV",
    "outputId": "d50f1c90-89d2-4298-c13f-3e5ebfa194eb"
   },
   "outputs": [
    {
     "name": "stdout",
     "output_type": "stream",
     "text": [
      "['damn jealous wanna watch fight love ufc one know', 'listening beatles great', 'could please get shout anything huge fan wait new cd', 'spotted ur message tony replied']\n"
     ]
    }
   ],
   "source": [
    "# JOINING CLEANED TOKENIZED WORDS INTO TWEETS\n",
    "splf=[]\n",
    "s1 = \" \"\n",
    "for i in l4:\n",
    "  s1 = \" \"\n",
    "  # print(i)\n",
    "  s1=s1.join(i)\n",
    "  splf.append (s1)\n",
    "print(splf[1:5])"
   ]
  },
  {
   "cell_type": "code",
   "execution_count": 21,
   "metadata": {
    "colab": {},
    "colab_type": "code",
    "id": "eIshqqIUjJqo"
   },
   "outputs": [],
   "source": [
    "#STORING THE CLEANED TWEETS IN DATA FRAME\n",
    "df[\"clean_data\"]=splf"
   ]
  },
  {
   "cell_type": "markdown",
   "metadata": {
    "colab_type": "text",
    "id": "_E7rP23TxUNg"
   },
   "source": [
    "# CANADIAN ELECTION"
   ]
  },
  {
   "cell_type": "code",
   "execution_count": 22,
   "metadata": {
    "colab": {
     "base_uri": "https://localhost:8080/",
     "height": 221
    },
    "colab_type": "code",
    "id": "gAuCc5VrxS0A",
    "outputId": "e359ca89-140b-4dda-e5dd-322ab63ea3ca"
   },
   "outputs": [
    {
     "name": "stdout",
     "output_type": "stream",
     "text": [
      "b\"#AllWomanSpacewalk it's real!\\n@Space_Station \\n#EtobicokeNorth #CityofTO #ONPoli #cdnpoli #elxn43 https://t.co/wgdXLksTbQ\"\n"
     ]
    },
    {
     "data": {
      "text/html": [
       "<div>\n",
       "<style scoped>\n",
       "    .dataframe tbody tr th:only-of-type {\n",
       "        vertical-align: middle;\n",
       "    }\n",
       "\n",
       "    .dataframe tbody tr th {\n",
       "        vertical-align: top;\n",
       "    }\n",
       "\n",
       "    .dataframe thead th {\n",
       "        text-align: right;\n",
       "    }\n",
       "</style>\n",
       "<table border=\"1\" class=\"dataframe\">\n",
       "  <thead>\n",
       "    <tr style=\"text-align: right;\">\n",
       "      <th></th>\n",
       "      <th>sentiment</th>\n",
       "      <th>negative_reason</th>\n",
       "      <th>text</th>\n",
       "    </tr>\n",
       "  </thead>\n",
       "  <tbody>\n",
       "    <tr>\n",
       "      <th>0</th>\n",
       "      <td>Negative</td>\n",
       "      <td>Women Reproductive right and Racism</td>\n",
       "      <td>b\"@RosieBarton So instead of your suggestion, ...</td>\n",
       "    </tr>\n",
       "    <tr>\n",
       "      <th>1</th>\n",
       "      <td>Positive</td>\n",
       "      <td>NaN</td>\n",
       "      <td>b\"#AllWomanSpacewalk it's real!\\n@Space_Statio...</td>\n",
       "    </tr>\n",
       "    <tr>\n",
       "      <th>2</th>\n",
       "      <td>Negative</td>\n",
       "      <td>Economy</td>\n",
       "      <td>b\"#Brantford It's going to cost YOU $94 BILLIO...</td>\n",
       "    </tr>\n",
       "    <tr>\n",
       "      <th>3</th>\n",
       "      <td>Positive</td>\n",
       "      <td>NaN</td>\n",
       "      <td>b\"#Canada #CanadaElection2019 #CanadaVotes \\n#...</td>\n",
       "    </tr>\n",
       "    <tr>\n",
       "      <th>4</th>\n",
       "      <td>Negative</td>\n",
       "      <td>Economy</td>\n",
       "      <td>b\"#Canada #taxpayers are sick &amp;amp; tired of h...</td>\n",
       "    </tr>\n",
       "  </tbody>\n",
       "</table>\n",
       "</div>"
      ],
      "text/plain": [
       "  sentiment                      negative_reason  \\\n",
       "0  Negative  Women Reproductive right and Racism   \n",
       "1  Positive                                  NaN   \n",
       "2  Negative                              Economy   \n",
       "3  Positive                                  NaN   \n",
       "4  Negative                              Economy   \n",
       "\n",
       "                                                text  \n",
       "0  b\"@RosieBarton So instead of your suggestion, ...  \n",
       "1  b\"#AllWomanSpacewalk it's real!\\n@Space_Statio...  \n",
       "2  b\"#Brantford It's going to cost YOU $94 BILLIO...  \n",
       "3  b\"#Canada #CanadaElection2019 #CanadaVotes \\n#...  \n",
       "4  b\"#Canada #taxpayers are sick &amp; tired of h...  "
      ]
     },
     "execution_count": 22,
     "metadata": {},
     "output_type": "execute_result"
    }
   ],
   "source": [
    "df1=pd.read_csv(\"Canadian_elections_2019.csv\")\n",
    "print(df1['text'][1])\n",
    "df1.head()"
   ]
  },
  {
   "cell_type": "markdown",
   "metadata": {
    "colab_type": "text",
    "id": "3E1dJOC4ura_"
   },
   "source": [
    "**WHEN WE OBSERVE THE TWEETS WE SEE THAT THERE IS b\" CHARECTER IN FRONT OF TWEETS.     \n",
    "WE WILL REMOVE b\" CHARECTER AND DO THE SAME DATA CLEANING STEPS WE DID FOR SENTIMENT DATASET (i.e) EXTRACTING @ AND # WORDS IN TWEET.  \n",
    "REMOVING URLS,STOPWORDS,PUNCTUATIONS, EMOTICON,EMOJIS AND THEN FINALLY WE WILL LEMMATIZE THE TWEETS**"
   ]
  },
  {
   "cell_type": "code",
   "execution_count": 23,
   "metadata": {
    "colab": {},
    "colab_type": "code",
    "id": "hPTR2nicxS1B"
   },
   "outputs": [],
   "source": [
    "dfa1=df1[\"text\"]"
   ]
  },
  {
   "cell_type": "code",
   "execution_count": 24,
   "metadata": {
    "colab": {},
    "colab_type": "code",
    "id": "LfcSoDU-zz6d"
   },
   "outputs": [],
   "source": [
    "dfa1 =[re.sub(r'b\"([^\\s]+)', r'\\1', i) for i in dfa1] # remove the b\" "
   ]
  },
  {
   "cell_type": "code",
   "execution_count": 25,
   "metadata": {
    "colab": {
     "base_uri": "https://localhost:8080/",
     "height": 54
    },
    "colab_type": "code",
    "id": "ukXX6mGaxS1H",
    "outputId": "56486248-c9b2-4b00-f9f1-77461865c069"
   },
   "outputs": [
    {
     "name": "stdout",
     "output_type": "stream",
     "text": [
      "@rosiebarton so instead of your suggestion, how about we agree that #canadian #women can not and should not trust that #andrewscheer and a #conservatives government will protect a woman's right to have automony over her body. let's go with that.  #cdnpoli #elxn43  #canada #abortion\"\n"
     ]
    }
   ],
   "source": [
    "# CONVERTING THE TWEETS TO LOWER CASE\n",
    "dfa1=np.array(dfa1)\n",
    "dfa1=[str(i) for i in dfa1]\n",
    "dfa1=[i.lower() for i in dfa1]\n",
    "print(dfa1[0])"
   ]
  },
  {
   "cell_type": "code",
   "execution_count": 26,
   "metadata": {
    "colab": {
     "base_uri": "https://localhost:8080/",
     "height": 34
    },
    "colab_type": "code",
    "id": "127knugjxS1S",
    "outputId": "df6b308b-6422-42be-d9ac-1e48e60cd274"
   },
   "outputs": [
    {
     "name": "stdout",
     "output_type": "stream",
     "text": [
      "rosiebarton\n"
     ]
    }
   ],
   "source": [
    "#EXTRACTING THE @ DATA FROM THE DF\n",
    "l_dfa1=[]\n",
    "for i in dfa1:  \n",
    "  w=[]\n",
    "  List = i.split()\n",
    "  for s in List:\n",
    "      if s.startswith('@'):\n",
    "          s=s.lstrip(\"@\")\n",
    "          w.append(s)\n",
    "  w1='  '.join(w)\n",
    "  l_dfa1.append(w1)\n",
    "\n",
    "print(l_dfa1[0])\n",
    "l_dfa1s=[str(i) for i in l_dfa1]\n",
    "df1[\"at\"]=l_dfa1s"
   ]
  },
  {
   "cell_type": "code",
   "execution_count": 27,
   "metadata": {
    "colab": {
     "base_uri": "https://localhost:8080/",
     "height": 34
    },
    "colab_type": "code",
    "id": "4UPc-AVCy5kf",
    "outputId": "df63243b-999d-441c-f6bd-ba422cb70d86"
   },
   "outputs": [
    {
     "name": "stdout",
     "output_type": "stream",
     "text": [
      "canadian  women  andrewscheer  conservatives  cdnpoli  elxn43  canada  abortion\"\n"
     ]
    }
   ],
   "source": [
    "#EXTRACTING THE # DATA FROM THE DF\n",
    "l_dfa2=[]\n",
    "for i in dfa1:  \n",
    "  w=[]\n",
    "  List = i.split()\n",
    "  for s in List:\n",
    "      if s.startswith('#'):\n",
    "          s=s.lstrip(\"#\")\n",
    "          w.append(s)\n",
    "          # print(w)\n",
    "  w1='  '.join(w)\n",
    "  # print(w1)\n",
    "  l_dfa2.append(w1)\n",
    "print(l_dfa2[0])\n",
    "l_dfa2s=[str(i) for i in l_dfa2]\n",
    "df1[\"hsh\"]=l_dfa2s"
   ]
  },
  {
   "cell_type": "code",
   "execution_count": 28,
   "metadata": {
    "colab": {
     "base_uri": "https://localhost:8080/",
     "height": 54
    },
    "colab_type": "code",
    "id": "c_-BKYJexS1Y",
    "outputId": "ff9b8d18-1ce2-439c-8eac-80d40dccf3de"
   },
   "outputs": [
    {
     "name": "stdout",
     "output_type": "stream",
     "text": [
      " so instead of your suggestion, how about we agree that canadian women can not and should not trust that andrewscheer and a conservatives government will protect a woman's right to have automony over her body. let's go with that.  cdnpoli elxn43  canada abortion\"\n"
     ]
    }
   ],
   "source": [
    "#REMOVING URLS, USERNAMES AND HASHES\n",
    "dfa1=[re.sub('((www\\.[^\\s]+)|(https?://[^\\s]+))', '', i) for i in dfa1] # remove URLs\n",
    "dfa1=[re.sub('@[^\\s]+', '', i) for i in dfa1] # remove usernames\n",
    "dfa1 =[re.sub(r'#([^\\s]+)', r'\\1', i) for i in dfa1] # remove the # in #hashtag\n",
    "\n",
    "print(dfa1[0])"
   ]
  },
  {
   "cell_type": "code",
   "execution_count": 29,
   "metadata": {
    "colab": {
     "base_uri": "https://localhost:8080/",
     "height": 54
    },
    "colab_type": "code",
    "id": "jz8jalbsxS1e",
    "outputId": "ff6aea3e-8966-4eb6-8f38-c781f655c057"
   },
   "outputs": [
    {
     "name": "stdout",
     "output_type": "stream",
     "text": [
      "['instead', 'suggestion', 'agree', 'canadian', 'women', 'trust', 'andrewscheer', 'conservatives', 'government', 'protect', 'woman', 'right', 'automony', 'body', 'let', 'go', 'cdnpoli', 'elxn43', 'canada', 'abortion']\n"
     ]
    }
   ],
   "source": [
    "#REMOVING STOP WORDS AND TOKENIZING TWEETS\n",
    "lstc=[]\n",
    "tokenizer = RegexpTokenizer(r'\\w+')\n",
    "for i in dfa1:    \n",
    "    b = tokenizer.tokenize(i)\n",
    "    i_stop= [word for word in b if word not in stopwords.words('english')]\n",
    "    lstc.append(i_stop)\n",
    "lstc=np.array(lstc)\n",
    "print(lstc[0])\n"
   ]
  },
  {
   "cell_type": "code",
   "execution_count": 30,
   "metadata": {
    "colab": {
     "base_uri": "https://localhost:8080/",
     "height": 34
    },
    "colab_type": "code",
    "id": "JAn0rjl3xS1k",
    "outputId": "f2a88ad8-a3d2-4ca4-8cf8-5201f4286db7"
   },
   "outputs": [
    {
     "name": "stdout",
     "output_type": "stream",
     "text": [
      "['elxn43', 'two', 'days', 'away', 'voting', 'e', 'day', 'read', 'primer', 'learn', 'vote', 'vote', 'vote', 'vote', 'n', 'n']\n"
     ]
    }
   ],
   "source": [
    "#remove emoticons \n",
    "lc=[]\n",
    "for i in lstc:\n",
    "  word_tokens = [word for word in i if not word in emoticons]\n",
    "  lc.append(word_tokens)\n",
    "print(lc[10])"
   ]
  },
  {
   "cell_type": "code",
   "execution_count": 31,
   "metadata": {
    "colab": {
     "base_uri": "https://localhost:8080/",
     "height": 34
    },
    "colab_type": "code",
    "id": "41My2gRjxS1t",
    "outputId": "4e823752-228b-437f-faa6-c01eb91dc5bd"
   },
   "outputs": [
    {
     "name": "stdout",
     "output_type": "stream",
     "text": [
      "['elxn43', 'two', 'days', 'away', 'voting', 'e', 'day', 'read', 'primer', 'learn', 'vote', 'vote', 'vote', 'vote', 'n', 'n']\n"
     ]
    }
   ],
   "source": [
    "#remove emojis\n",
    "lc1=[]\n",
    "for i in lc:\n",
    "  word_tokens = [remove_emoji(word) for word in i]\n",
    "  lc1.append(word_tokens)\n",
    "print(lc1[10])"
   ]
  },
  {
   "cell_type": "code",
   "execution_count": 32,
   "metadata": {
    "colab": {
     "base_uri": "https://localhost:8080/",
     "height": 34
    },
    "colab_type": "code",
    "id": "Y9sVAh5LxS1y",
    "outputId": "6a61c15a-b171-447b-ed7d-d3582af6e7a9"
   },
   "outputs": [
    {
     "name": "stdout",
     "output_type": "stream",
     "text": [
      "['elxn43', 'two', 'days', 'away', 'voting', 'e', 'day', 'read', 'primer', 'learn', 'vote', 'vote', 'vote', 'vote', 'n', 'n']\n"
     ]
    }
   ],
   "source": [
    "#remove punctuation signs from tokens\n",
    "table = str.maketrans('', '', string.punctuation)\n",
    "lc2=[]\n",
    "for i in lc1:\n",
    "  word_tokens = [word.translate(table) for word in i]\n",
    "  lc2.append(word_tokens)\n",
    "print(lc2[10])"
   ]
  },
  {
   "cell_type": "code",
   "execution_count": 33,
   "metadata": {
    "colab": {
     "base_uri": "https://localhost:8080/",
     "height": 34
    },
    "colab_type": "code",
    "id": "UPgWdXvlxS14",
    "outputId": "7dee593d-d5a7-4dd2-8b8c-9a4decf0d0e7"
   },
   "outputs": [
    {
     "name": "stdout",
     "output_type": "stream",
     "text": [
      "['two', 'days', 'away', 'voting', 'e', 'day', 'read', 'primer', 'learn', 'vote', 'vote', 'vote', 'vote', 'n', 'n']\n"
     ]
    }
   ],
   "source": [
    "#remove non-alphabetic characters\n",
    "lc3=[]\n",
    "for i in lc2:\n",
    "  word_tokens = [word for word in i if word.isalpha()]\n",
    "  lc3.append(word_tokens)\n",
    "print(lc3[10])"
   ]
  },
  {
   "cell_type": "code",
   "execution_count": 34,
   "metadata": {
    "colab": {
     "base_uri": "https://localhost:8080/",
     "height": 34
    },
    "colab_type": "code",
    "id": "KeNaE2D_xS2A",
    "outputId": "ed418a5c-55d4-446b-f512-27f15be16089"
   },
   "outputs": [
    {
     "name": "stdout",
     "output_type": "stream",
     "text": [
      "['two', 'day', 'away', 'voting', 'e', 'day', 'read', 'primer', 'learn', 'vote', 'vote', 'vote', 'vote', 'n', 'n']\n"
     ]
    }
   ],
   "source": [
    "# LEMMATIZATION OF TWEETS\n",
    "from nltk.stem import WordNetLemmatizer\n",
    "lemmatizer = WordNetLemmatizer()\n",
    "lc4=[]\n",
    "for i in lc3:\n",
    "  lem=[lemmatizer.lemmatize(word) for word in i]\n",
    "  lc4.append(lem)\n",
    "print(lc4[10])"
   ]
  },
  {
   "cell_type": "code",
   "execution_count": 35,
   "metadata": {
    "colab": {
     "base_uri": "https://localhost:8080/",
     "height": 54
    },
    "colab_type": "code",
    "id": "XCCKzwAxxS2p",
    "outputId": "07cd3de0-28f1-4492-c600-30d13a74e75b"
   },
   "outputs": [
    {
     "name": "stdout",
     "output_type": "stream",
     "text": [
      "['allwomanspacewalk real n netobicokenorth cityofto onpoli cdnpoli', 'brantford going cost billion next year ask justin cdnpoli canada', 'canada canadavotes n ncan decide help n n', 'canada taxpayer sick amp tired hard earned donated corporate welfare bum need one many reason trudeaumustgo leave canada care snclavalinscandal cdnpoli']\n"
     ]
    }
   ],
   "source": [
    "# JOINING CLEANED TOKENIZED WORDS INTO TWEETS\n",
    "splfc=[]\n",
    "s1 = \" \"\n",
    "for i in lc4:\n",
    "  s1 = \" \"\n",
    "  s1=s1.join(i)\n",
    "  splfc.append (s1)\n",
    "print(splfc[1:5])"
   ]
  },
  {
   "cell_type": "code",
   "execution_count": 36,
   "metadata": {
    "colab": {},
    "colab_type": "code",
    "id": "u4Rgdg-Syg02"
   },
   "outputs": [],
   "source": [
    "#STORING THE CLEANED DATA\n",
    "df1[\"clean_tweet\"]=splfc"
   ]
  },
  {
   "cell_type": "markdown",
   "metadata": {
    "colab_type": "text",
    "id": "pWhYjywP_diS"
   },
   "source": [
    "# CONSERVATIVE,LIBERALS,NDP,NONE"
   ]
  },
  {
   "cell_type": "markdown",
   "metadata": {
    "colab_type": "text",
    "id": "hh95hC7q1aAU"
   },
   "source": [
    " **TO IDENTIFY THE PARTY TO WHICH THE TWEET BELONGS TO, LETS FIRST ANALYZE THE @ AND # DATA EXTRACTED DURING DATA CLEANING TO LOOK AT THE MOST FREQUENT WORDS AND TAGS**"
   ]
  },
  {
   "cell_type": "code",
   "execution_count": 37,
   "metadata": {
    "colab": {},
    "colab_type": "code",
    "id": "khJmr_IUKhkg"
   },
   "outputs": [],
   "source": [
    "hsh=(df1[\"hsh\"]) # HASH TAGS IN THE TWEETS\n",
    "at=df1[\"at\"] #AT DATA IN THE TWEETS\n",
    "ct=df1[\"clean_tweet\"] #CLEANED TWITTER DATA"
   ]
  },
  {
   "cell_type": "markdown",
   "metadata": {
    "colab_type": "text",
    "id": "U7f_u7Bk1x06"
   },
   "source": [
    "**HASH DATA ANALYSIS:**"
   ]
  },
  {
   "cell_type": "code",
   "execution_count": 38,
   "metadata": {
    "colab": {
     "base_uri": "https://localhost:8080/",
     "height": 34
    },
    "colab_type": "code",
    "id": "vzKmHLEAcXuX",
    "outputId": "1f40fa7b-f5cb-4387-f27a-16de1af6fffe"
   },
   "outputs": [
    {
     "name": "stdout",
     "output_type": "stream",
     "text": [
      "['allwomanspacewalk', 'cityofto', 'onpoli', 'cdnpoli', 'elxn43']\n"
     ]
    }
   ],
   "source": [
    "#TOKENIZING HASH DATA\n",
    "l=[]\n",
    "for i in hsh:\n",
    "  j=i.split()\n",
    "  l.append(j) \n",
    "print(l[1])\n",
    "\n",
    "#CONVERTING LIST OF LIST TO SINGLE LIST\n",
    "u=[j for i in l for j in i]\n",
    "u=np.array(u)\n",
    "\n",
    "#STORING THE DATA IN A DF FOR ANALYSIS PURPOSE\n",
    "tdf=pd.DataFrame(u)\n",
    "tdf.columns=[\"tweets\"]"
   ]
  },
  {
   "cell_type": "code",
   "execution_count": 39,
   "metadata": {
    "colab": {
     "base_uri": "https://localhost:8080/",
     "height": 357
    },
    "colab_type": "code",
    "id": "n7gn_6HOgv9a",
    "outputId": "fa40a44b-cf8d-420f-d6f7-c18b409cf485"
   },
   "outputs": [
    {
     "data": {
      "text/plain": [
       "cdnpoli          798\n",
       "elxn43'          261\n",
       "chooseforward    109\n",
       "elxn43\"           95\n",
       "cdnpoli'          72\n",
       "cpc               62\n",
       "elxn2019          53\n",
       "trudeaumustgo     51\n",
       "kinsellagate      47\n",
       "cdnelxn2019       41\n",
       "uprisingh         40\n",
       "canada            40\n",
       "abpoli            39\n",
       "ndp               35\n",
       "bcpoli            30\n",
       "ableg             28\n",
       "cdnmedia          27\n",
       "onpoli            27\n",
       "skpoli            26\n",
       "Name: tweets, dtype: int64"
      ]
     },
     "execution_count": 39,
     "metadata": {},
     "output_type": "execute_result"
    }
   ],
   "source": [
    "#TOP 20 HASH DATA BASED ON COUNTS\n",
    "tdf.tweets.value_counts()[1:20]"
   ]
  },
  {
   "cell_type": "markdown",
   "metadata": {
    "colab_type": "text",
    "id": "sRqF-dBU15dI"
   },
   "source": [
    "**FROM THE TOP 20 HASH DATA WE GET KEY WORDS LIKE  \n",
    "\"chooseforward\",  \n",
    "\"trudeaumustgo\",   \n",
    "\"kinsellagate\",   \n",
    "\"uprisingh\"**   \n",
    "  \n",
    "   **THESE WORDS CAN BE USED TO CREATE A MASTER LIST FOR EACH PARTY AND BASED ON THE LIST WE SEARCH THE TWEETS TO FIND THE PARTY TO WHICH THE TWEET BELONGS TO**  "
   ]
  },
  {
   "cell_type": "markdown",
   "metadata": {
    "colab_type": "text",
    "id": "EOCsVDJh2vux"
   },
   "source": [
    "**@ DATA ANALYSIS:**"
   ]
  },
  {
   "cell_type": "code",
   "execution_count": 40,
   "metadata": {
    "colab": {
     "base_uri": "https://localhost:8080/",
     "height": 34
    },
    "colab_type": "code",
    "id": "8lWuh3473OkA",
    "outputId": "0f45b46e-2d86-45b6-b37a-b8baee69b076"
   },
   "outputs": [
    {
     "name": "stdout",
     "output_type": "stream",
     "text": [
      "['rosiebarton']\n"
     ]
    }
   ],
   "source": [
    "#TOKENIZING @ DATA\n",
    "a1=[]\n",
    "for i in at:\n",
    "  j=i.split()\n",
    "  a1.append(j) \n",
    "print(a1[0])\n",
    "\n",
    "#CONVERTING LIST OF LIST TO SINGLE LIST\n",
    "a2=[j for i in a1 for j in i]\n",
    "a2=np.array(a2)\n",
    "\n",
    "#STORING THE DATA IN A DF FOR ANALYSIS PURPOSE\n",
    "tdf1=pd.DataFrame(a2)\n",
    "tdf1.columns=[\"at\"]"
   ]
  },
  {
   "cell_type": "code",
   "execution_count": 41,
   "metadata": {
    "colab": {
     "base_uri": "https://localhost:8080/",
     "height": 374
    },
    "colab_type": "code",
    "id": "ISg0jpoz3u8_",
    "outputId": "cc426958-9b5e-4212-8121-678ce8fa1708"
   },
   "outputs": [
    {
     "data": {
      "text/plain": [
       "andrewscheer       132\n",
       "justintrudeau       98\n",
       "cpc_hq              79\n",
       "thejagmeetsingh     43\n",
       "liberal_party       43\n",
       "maximebernier       31\n",
       "cbckatie            30\n",
       "ndp                 30\n",
       "canadiangreens      26\n",
       "kinsellawarren      23\n",
       "vankayak            22\n",
       "ctvnews             20\n",
       "elizabethmay        18\n",
       "globeandmail        17\n",
       "rosiebarton         17\n",
       "jkenney             17\n",
       "cbcnews             15\n",
       "peoplespca          14\n",
       "puglaas             13\n",
       "electionscan_e      13\n",
       "Name: at, dtype: int64"
      ]
     },
     "execution_count": 41,
     "metadata": {},
     "output_type": "execute_result"
    }
   ],
   "source": [
    "#TOP 20 @ DATA BASED ON COUNTS\n",
    "tdf1[\"at\"].value_counts()[0:20]"
   ]
  },
  {
   "cell_type": "markdown",
   "metadata": {
    "colab_type": "text",
    "id": "D7oPxTI02-pT"
   },
   "source": [
    "**FROM THE TOP 20 @ DATA WE GET KEY WORDS LIKE  \n",
    "\"andrewscheer\",       \n",
    "\"justintrudeau\",     \n",
    "\"cpc_hq\",              \n",
    "\"thejagmeetsingh\"** \n",
    "  "
   ]
  },
  {
   "cell_type": "markdown",
   "metadata": {
    "colab_type": "text",
    "id": "OB7cJ8VgyqBX"
   },
   "source": [
    "**NOW LETS CREATE THE LIST OF WORDS TO IDENTIFY POLITICAL PARTY BASED ON MOST USED HASH AND @ WORDS**"
   ]
  },
  {
   "cell_type": "code",
   "execution_count": 42,
   "metadata": {
    "colab": {},
    "colab_type": "code",
    "id": "Vei1JzO-Qokj"
   },
   "outputs": [],
   "source": [
    "# MASTER LIST TO IDENTIFY POLITICAL PARTY\n",
    "co=['conser',\"schee\",\"cpc\",\"kinsella\",\"jkenney\",\"maximebernier\"]\n",
    "li=[\"liber\",\"snc\",\"trudeau\",\"lpc\",\"vankayak\",\"chooseforward\",\"puglaas\",\"Jody\"]\n",
    "ndp=[\"singh\",\"ndp\"]"
   ]
  },
  {
   "cell_type": "markdown",
   "metadata": {
    "colab_type": "text",
    "id": "DBrX3TR_7WKh"
   },
   "source": [
    "**NOW WE CREATE A FUNCTION TO SEARCH THE TWEETS FRO THE STRINGS IN MASTER LIST.**\n",
    "\n"
   ]
  },
  {
   "cell_type": "code",
   "execution_count": 43,
   "metadata": {
    "colab": {},
    "colab_type": "code",
    "id": "2H5ObuITzmRP"
   },
   "outputs": [],
   "source": [
    "# FUNCTION TO FIND THE COUNT OF TWEETS BELONGING TO EACH POLITICAL PARTY\n",
    "def count (data,master_list):\n",
    "  p=[]\n",
    "  for i in data:\n",
    "    s=len(p)\n",
    "    for j in master_list:\n",
    "      if re.search(j,i):\n",
    "        p.append(1)\n",
    "        break\n",
    "      else:\n",
    "        continue\n",
    "    if (len(p) == s):\n",
    "      p.append(0)\n",
    "  return(np.sum(p),p) # FUNCTION RETURNS COUNTS AND INDEX"
   ]
  },
  {
   "cell_type": "markdown",
   "metadata": {
    "colab_type": "text",
    "id": "vGLI2Au57m3Z"
   },
   "source": [
    "**HASH DATA COUNT:**"
   ]
  },
  {
   "cell_type": "code",
   "execution_count": 44,
   "metadata": {
    "colab": {
     "base_uri": "https://localhost:8080/",
     "height": 85
    },
    "colab_type": "code",
    "id": "OSQyJoW80QuO",
    "outputId": "91afeac0-2bff-478d-8dc5-f94d1a67aaa9"
   },
   "outputs": [
    {
     "name": "stdout",
     "output_type": "stream",
     "text": [
      "HASH DATA\n",
      "Conservative Party of Canada,Tweet count= 284\n",
      "Liberal Party of Canada,Tweet count= 293\n",
      "New Democratic Party of Canada,Tweet count= 116\n"
     ]
    }
   ],
   "source": [
    "#COUNTS BASED ON HASH DATA\n",
    "print(\"HASH DATA\")\n",
    "u1,s1=count(hsh,co) # U1 IS THE COUNTS, S1 IS THE INDEX\n",
    "print(\"Conservative Party of Canada,Tweet count=\",u1)\n",
    "u2,s2=count(hsh,li)\n",
    "print(\"Liberal Party of Canada,Tweet count=\",u2)\n",
    "u3,s3=count(hsh,ndp)\n",
    "print(\"New Democratic Party of Canada,Tweet count=\",u3)"
   ]
  },
  {
   "cell_type": "markdown",
   "metadata": {
    "colab_type": "text",
    "id": "ClGQGDX17pjU"
   },
   "source": [
    "**AT DATA COUNT:**"
   ]
  },
  {
   "cell_type": "code",
   "execution_count": 45,
   "metadata": {
    "colab": {
     "base_uri": "https://localhost:8080/",
     "height": 85
    },
    "colab_type": "code",
    "id": "dpxYzZEM0Q53",
    "outputId": "b55d8240-20a2-456e-975e-5e6fe19fce15"
   },
   "outputs": [
    {
     "name": "stdout",
     "output_type": "stream",
     "text": [
      "AT DATA\n",
      "Conservative Party of Canada,Tweet count= 251\n",
      "Liberal Party of Canada,Tweet count= 154\n",
      "New Democratic Party of Canada,Tweet count= 73\n"
     ]
    }
   ],
   "source": [
    "#COUNTS BASED ON AT DATA\n",
    "print(\"AT DATA\")\n",
    "ua1,sa1=count(at,co)\n",
    "print(\"Conservative Party of Canada,Tweet count=\",ua1)\n",
    "ua2,sa2=count(at,li)\n",
    "print(\"Liberal Party of Canada,Tweet count=\",ua2)\n",
    "ua3,sa3=count(at,ndp)\n",
    "print(\"New Democratic Party of Canada,Tweet count=\",ua3)"
   ]
  },
  {
   "cell_type": "markdown",
   "metadata": {
    "colab_type": "text",
    "id": "D39b2BsO7r1k"
   },
   "source": [
    "**WHOLE TWEET COUNT:** "
   ]
  },
  {
   "cell_type": "code",
   "execution_count": 46,
   "metadata": {
    "colab": {
     "base_uri": "https://localhost:8080/",
     "height": 85
    },
    "colab_type": "code",
    "id": "6iNsRT7L2SQ1",
    "outputId": "374ec9cc-52bb-4857-ce95-8239230a55e8"
   },
   "outputs": [
    {
     "name": "stdout",
     "output_type": "stream",
     "text": [
      "WHOLE TWEET\n",
      "Conservative Party of Canada,Tweet count= 632\n",
      "Liberal Party of Canada,Tweet count= 582\n",
      "New Democratic Party of Canada,Tweet count= 194\n"
     ]
    }
   ],
   "source": [
    "#COUNTS BASED ON WHOLE TWEET\n",
    "print(\"WHOLE TWEET\")\n",
    "uc1,sc1=count(ct,co)\n",
    "print(\"Conservative Party of Canada,Tweet count=\",uc1)\n",
    "uc2,sc2=count(ct,li)\n",
    "print(\"Liberal Party of Canada,Tweet count=\",uc2)\n",
    "uc3,sc3=count(ct,ndp)\n",
    "print(\"New Democratic Party of Canada,Tweet count=\",uc3)"
   ]
  },
  {
   "cell_type": "markdown",
   "metadata": {
    "colab_type": "text",
    "id": "2FSONNYP7w5a"
   },
   "source": [
    "# TOTAL TWEET COUNT FOR EACH PARTY:"
   ]
  },
  {
   "cell_type": "code",
   "execution_count": 47,
   "metadata": {
    "colab": {
     "base_uri": "https://localhost:8080/",
     "height": 34
    },
    "colab_type": "code",
    "id": "fxm-r-g42qcX",
    "outputId": "63e0496e-67d3-40f3-fcdc-7785c0edcb8f"
   },
   "outputs": [
    {
     "name": "stdout",
     "output_type": "stream",
     "text": [
      "Conservative Party of Canada,Tweet count= 776\n"
     ]
    }
   ],
   "source": [
    "# COMBINING COUNTS BASED ON HASH,@,WHOLE TWEET\n",
    "z1=[a + b+c for a, b,c in zip(s1, sa1, sc1)]\n",
    "z1=[bool(i) for i in z1]\n",
    "print(\"Conservative Party of Canada,Tweet count=\",np.sum(z1))\n",
    "df1[\"co\"]=z1"
   ]
  },
  {
   "cell_type": "code",
   "execution_count": 48,
   "metadata": {
    "colab": {
     "base_uri": "https://localhost:8080/",
     "height": 34
    },
    "colab_type": "code",
    "id": "YUzlEg0W3GXO",
    "outputId": "e1f7aeb6-9a2d-4775-fe99-2b1fe3d08c0a"
   },
   "outputs": [
    {
     "name": "stdout",
     "output_type": "stream",
     "text": [
      "Liberal Party of Canada,Tweet count= 667\n"
     ]
    }
   ],
   "source": [
    "# COMBINING COUNTS BASED ON HASH,@,WHOLE TWEET\n",
    "z2=[a + b + c for a, b, c in zip(s2, sa2, sc2)]\n",
    "z2=[bool(i) for i in z2]\n",
    "print(\"Liberal Party of Canada,Tweet count=\",np.sum(z2))\n",
    "df1[\"li\"]=z2"
   ]
  },
  {
   "cell_type": "code",
   "execution_count": 49,
   "metadata": {
    "colab": {
     "base_uri": "https://localhost:8080/",
     "height": 34
    },
    "colab_type": "code",
    "id": "r9F-MPkD3Gim",
    "outputId": "0782496c-b60f-4767-a39c-7be241051270"
   },
   "outputs": [
    {
     "name": "stdout",
     "output_type": "stream",
     "text": [
      "New Democratic Party of Canada,Tweet count= 245\n"
     ]
    }
   ],
   "source": [
    "# COMBINING COUNTS BASED ON HASH,@,WHOLE TWEET\n",
    "z3=[a + b + c for a, b, c in zip(s3, sa3, sc3)]\n",
    "z3=[bool(i) for i in z3]\n",
    "print(\"New Democratic Party of Canada,Tweet count=\",np.sum(z3))\n",
    "# print(int(z3[1]))\n",
    "df1[\"ndp\"]=z3"
   ]
  },
  {
   "cell_type": "markdown",
   "metadata": {
    "colab_type": "text",
    "id": "99YqcEmj75i8"
   },
   "source": [
    "**IDENTIFYTING TWEETS WHICH INVOLVES MORE THAN ONE PARTY**"
   ]
  },
  {
   "cell_type": "code",
   "execution_count": 50,
   "metadata": {
    "colab": {
     "base_uri": "https://localhost:8080/",
     "height": 51
    },
    "colab_type": "code",
    "id": "Qn5eOWl1EeSy",
    "outputId": "7633eb27-0bfc-485d-e9f4-aeef04dd36a6"
   },
   "outputs": [
    {
     "name": "stdout",
     "output_type": "stream",
     "text": [
      "[1, 0, 0, 0, 2, 1, 0, 5, 2, 3]\n",
      "cdnpoli liberal double promised national debt next term elected forecasting billion w national pharmacare program incl w ndp coalition billion seems possible imo\n"
     ]
    }
   ],
   "source": [
    "# IDENTIFYING TWEETS BASED ON MONE THAN ONE PARTY\n",
    "z1=[int(i)*1 for i in z1]\n",
    "z2=[int(i)*2 for i in z2]\n",
    "z3=[int(i)*3 for i in z3]\n",
    "z=[a + b + c for a, b, c in zip(z1, z2, z3)]\n",
    "print(z[0:10])\n",
    "print(ct[7])"
   ]
  },
  {
   "cell_type": "markdown",
   "metadata": {
    "colab_type": "text",
    "id": "tdzcv_2_65_j"
   },
   "source": [
    "**WE SEE THAT THE INDEX SHOWS THAT THE 7TH DATA VALUE IS 5 THAT IS IT IS BASED ON MORE THAN ONE PARTY    \n",
    "WHILE PRINTING OUT THE TWEET WE SEE THAT THE TWEET HAS TWO KEYWORDS \"LIBERAL\", \"NDP\"**\n"
   ]
  },
  {
   "cell_type": "code",
   "execution_count": 51,
   "metadata": {
    "colab": {
     "base_uri": "https://localhost:8080/",
     "height": 353
    },
    "colab_type": "code",
    "id": "Y8cmOEoNPst_",
    "outputId": "daac8237-dec3-4da4-8f9f-fa74103e20eb"
   },
   "outputs": [
    {
     "name": "stdout",
     "output_type": "stream",
     "text": [
      "['1+ party' 'CONSERVATIVES' 'LIBERALS' 'NDP' 'OTHERS']\n"
     ]
    },
    {
     "data": {
      "image/png": "[encoded data removed]",
      "text/plain": [
       "<Figure size 720x360 with 1 Axes>"
      ]
     },
     "metadata": {
      "needs_background": "light"
     },
     "output_type": "display_data"
    }
   ],
   "source": [
    "#CONVERTING THE INDEX TO LABELS\n",
    "zf=z\n",
    "for i in range(len(zf)):\n",
    "  if zf[i]==0:\n",
    "    zf[i]=\"OTHERS\"\n",
    "  elif zf[i]==1:\n",
    "    zf[i]=\"CONSERVATIVES\"\n",
    "  elif zf[i]==2:\n",
    "    zf[i]=\"LIBERALS\"\n",
    "  elif zf[i]==3:\n",
    "    zf[i]=\"NDP\"\n",
    "  else:\n",
    "    zf[i]=\"1+ party\"\n",
    "# print(len(zf))\n",
    "print(np.unique(zf))\n",
    "\n",
    "plt.figure(figsize=(10,5))\n",
    "plt.title(\"TWEET DISTRIBUTION\")\n",
    "sns.countplot(x=zf)\n",
    "plt.show()"
   ]
  },
  {
   "cell_type": "markdown",
   "metadata": {
    "colab_type": "text",
    "id": "bevcjn9bJ3YO"
   },
   "source": [
    "# MODEL PREPARATION AND MODEL IMPLEMENTATION\n",
    "# SENTIMENT DATA SET:"
   ]
  },
  {
   "cell_type": "code",
   "execution_count": 52,
   "metadata": {
    "colab": {
     "base_uri": "https://localhost:8080/",
     "height": 34
    },
    "colab_type": "code",
    "id": "cuNLiuGlitxR",
    "outputId": "e77a1df5-7026-40b6-d21e-0e49dc44bf26"
   },
   "outputs": [
    {
     "data": {
      "text/plain": [
       "Index(['sentiment', 'text', 'at', 'hsh', 'clean_data'], dtype='object')"
      ]
     },
     "execution_count": 52,
     "metadata": {},
     "output_type": "execute_result"
    }
   ],
   "source": [
    "df.columns"
   ]
  },
  {
   "cell_type": "code",
   "execution_count": 53,
   "metadata": {
    "colab": {
     "base_uri": "https://localhost:8080/",
     "height": 34
    },
    "colab_type": "code",
    "id": "gBA501oV8YNc",
    "outputId": "226c870d-5ec5-4a35-82db-94cec5951545"
   },
   "outputs": [
    {
     "name": "stdout",
     "output_type": "stream",
     "text": [
      "['Positive' 'Negative' 'Neutral']\n"
     ]
    }
   ],
   "source": [
    "print(df.sentiment.unique())"
   ]
  },
  {
   "cell_type": "markdown",
   "metadata": {
    "colab_type": "text",
    "id": "LdAAHHgL8ayt"
   },
   "source": [
    "**WE SEE THAT THE SENTIMENT DATASET HAS NEUTRAL VALUES.   \n",
    "WE DONT NEED NEUTRAL VALUES, SO LETS DROP THEM**"
   ]
  },
  {
   "cell_type": "code",
   "execution_count": 54,
   "metadata": {
    "colab": {
     "base_uri": "https://localhost:8080/",
     "height": 51
    },
    "colab_type": "code",
    "id": "dVV9crOlhDE2",
    "outputId": "6b912fb0-16d2-4553-8c77-649932b76bdd"
   },
   "outputs": [
    {
     "name": "stdout",
     "output_type": "stream",
     "text": [
      "Before Dropping (133811, 5)\n",
      "After Dropping (130669, 5)\n"
     ]
    }
   ],
   "source": [
    "print(\"Before Dropping\",df.shape)\n",
    "ind=df[df.sentiment==\"Neutral\"].index\n",
    "dff=df.drop(axis=0,index=ind)\n",
    "print(\"After Dropping\",dff.shape)"
   ]
  },
  {
   "cell_type": "code",
   "execution_count": 55,
   "metadata": {
    "colab": {
     "base_uri": "https://localhost:8080/",
     "height": 51
    },
    "colab_type": "code",
    "id": "JprJCu5GLsNh",
    "outputId": "3f54de89-b4b5-49cc-976d-c1fc3acdd3a3"
   },
   "outputs": [
    {
     "name": "stdout",
     "output_type": "stream",
     "text": [
      "TARGET [1 0 1 1 1]\n",
      "SHAPE OF TARGET (130669,)\n"
     ]
    }
   ],
   "source": [
    "# ENCODING THE SENTIMENT DATA\n",
    "s_map={'Positive': 1, 'Negative' :0}\n",
    "target=dff.sentiment.map(s_map)\n",
    "target=np.array(target)\n",
    "print(\"TARGET\",target[0:5])\n",
    "print(\"SHAPE OF TARGET\",np.shape(target))"
   ]
  },
  {
   "cell_type": "code",
   "execution_count": 56,
   "metadata": {
    "colab": {
     "base_uri": "https://localhost:8080/",
     "height": 34
    },
    "colab_type": "code",
    "id": "LXSZH9QCi9Pj",
    "outputId": "1475c332-c24c-452a-fc65-f3a2fdae5cc1"
   },
   "outputs": [
    {
     "data": {
      "text/plain": [
       "(130669,)"
      ]
     },
     "execution_count": 56,
     "metadata": {},
     "output_type": "execute_result"
    }
   ],
   "source": [
    "#FEATURES\n",
    "feat=dff[\"clean_data\"]\n",
    "feat.shape"
   ]
  },
  {
   "cell_type": "markdown",
   "metadata": {
    "colab_type": "text",
    "id": "FruiB3Vxsq4C"
   },
   "source": [
    " **WE ARE USING TF-IDF AND WORD FREQUENCY FOR FEATURE CONVERSION**"
   ]
  },
  {
   "cell_type": "markdown",
   "metadata": {
    "colab_type": "text",
    "id": "k_O_tHH--F0E"
   },
   "source": [
    "# TF-IDF"
   ]
  },
  {
   "cell_type": "code",
   "execution_count": 57,
   "metadata": {
    "colab": {},
    "colab_type": "code",
    "id": "Fy5Gc_5phIp8"
   },
   "outputs": [],
   "source": [
    "from sklearn.feature_extraction.text import TfidfVectorizer\n",
    "tfidf = TfidfVectorizer(use_idf=True,max_features=1000)\n",
    "tfs = tfidf.fit_transform(feat)"
   ]
  },
  {
   "cell_type": "code",
   "execution_count": 58,
   "metadata": {
    "colab": {
     "base_uri": "https://localhost:8080/",
     "height": 34
    },
    "colab_type": "code",
    "id": "6cjhAwsSJMSb",
    "outputId": "eb3b978d-d903-4e36-e2e8-dfb391f82aae"
   },
   "outputs": [
    {
     "name": "stdout",
     "output_type": "stream",
     "text": [
      "(130669, 1000)\n"
     ]
    }
   ],
   "source": [
    "print(tfs.shape)"
   ]
  },
  {
   "cell_type": "code",
   "execution_count": 59,
   "metadata": {
    "colab": {
     "base_uri": "https://localhost:8080/",
     "height": 34
    },
    "colab_type": "code",
    "id": "V8dALMxQPJS_",
    "outputId": "c98e0ca1-0d59-424c-9d04-fe7e6342eacf"
   },
   "outputs": [
    {
     "name": "stdout",
     "output_type": "stream",
     "text": [
      "(98001, 1000) (32668, 1000)\n"
     ]
    }
   ],
   "source": [
    "xtrain,xtest,ytrain,ytest=train_test_split(tfs,target,random_state=42)\n",
    "print(np.shape(xtrain),np.shape(xtest))"
   ]
  },
  {
   "cell_type": "markdown",
   "metadata": {
    "colab_type": "text",
    "id": "eEv0aRI9tudZ"
   },
   "source": [
    "**WE FIT THE TF-IDF FEATURE VECTOR WITH THE FOLLOWING MODELS\n",
    " LOGISTIC REGRESSION      \n",
    " MULTINOMIAL NAIVE BAYES     \n",
    " KNN  \n",
    " SVM   \n",
    " DECISION TREES  \n",
    " RANDOM FOREST     \n",
    " GRADIENT BOOSTING    \n",
    " XGBOOST**  "
   ]
  },
  {
   "cell_type": "code",
   "execution_count": 60,
   "metadata": {
    "colab": {},
    "colab_type": "code",
    "id": "sN1IeeviJrc4"
   },
   "outputs": [],
   "source": [
    "from sklearn.metrics import accuracy_score\n",
    "from sklearn.linear_model import LogisticRegression\n",
    "from sklearn.naive_bayes import MultinomialNB\n",
    "from sklearn.neighbors import KNeighborsClassifier\n",
    "from sklearn.linear_model import SGDClassifier\n",
    "from sklearn.tree import DecisionTreeClassifier\n",
    "from sklearn.ensemble import RandomForestClassifier\n",
    "from sklearn.ensemble import GradientBoostingClassifier"
   ]
  },
  {
   "cell_type": "markdown",
   "metadata": {
    "colab_type": "text",
    "id": "NGD3l46HuKOU"
   },
   "source": [
    "# HYPER PARAMETER TUNING: \n",
    "**HYPER PARAMETER TUNING WITH CROSSVALIDATION IS DONE FOR ALL THESE MODELS AND THE BEST MODEL IS SELECTED FOR ACCURACY CALCULATION**\n",
    "\n",
    "**THE HYPERPARAMETER TUNING PART OF THE CODE HAS BEEN CONVERTED TO COMMENTS SINCE IT TAKES LONGER TIME TO RUN**\n",
    "\n",
    "**THEY CAN BE UNCOMMENTED AND CHECKED IF NEEDED**\n",
    "\n"
   ]
  },
  {
   "cell_type": "code",
   "execution_count": 61,
   "metadata": {
    "colab": {},
    "colab_type": "code",
    "id": "ULQC7SHWZHlz"
   },
   "outputs": [],
   "source": [
    "# #List Hyperparameters that we want to tune.\n",
    "# solver= ['newton-cg','lbfgs','liblinear', 'sag', 'saga']\n",
    "# C = [0.001,0.01,0.1,1]\n",
    "\n",
    "# #Convert to dictionary\n",
    "# hyperparameters = dict(solver=solver,C=C)\n",
    "\n",
    "# #Create new model\n",
    "# lr=LogisticRegression()\n",
    "\n",
    "# #Use GridSearch\n",
    "# clf = GridSearchCV(lr, hyperparameters, cv=5)\n",
    "\n",
    "# #Fit the model\n",
    "# lr_best_model = clf.fit(xtrain,ytrain)\n",
    "\n",
    "# #Print The value of best Hyperparameters\n",
    "# print('Best solver:', lr_best_model.best_estimator_.get_params()['solver'])\n",
    "# print('Best C:', lr_best_model.best_estimator_.get_params()['C'])\n",
    "# print('Best Model score:', lr_best_model.best_score_*100)\n",
    "# print('\\n Best model:',lr_best_model.best_estimator_)"
   ]
  },
  {
   "cell_type": "markdown",
   "metadata": {
    "colab_type": "text",
    "id": "L3QZ0uJFtA93"
   },
   "source": [
    "Best solver: newton-cg   \n",
    "Best C: 1   \n",
    "Best Model score: 74.21556719825831   \n",
    "\n",
    " Best model: LogisticRegression(C=1, class_weight=None, dual=False, fit_intercept=True,\n",
    "                   intercept_scaling=1, l1_ratio=None, max_iter=100,\n",
    "                   multi_class='auto', n_jobs=None, penalty='l2',\n",
    "                   random_state=None, solver='newton-cg', tol=0.0001, verbose=0,\n",
    "                   warm_start=False)"
   ]
  },
  {
   "cell_type": "code",
   "execution_count": 62,
   "metadata": {
    "colab": {
     "base_uri": "https://localhost:8080/",
     "height": 85
    },
    "colab_type": "code",
    "id": "Dbo71FV8Oxqn",
    "outputId": "b3b2fb17-a3df-429e-ab49-3d3706d5251a",
    "scrolled": true
   },
   "outputs": [
    {
     "name": "stdout",
     "output_type": "stream",
     "text": [
      "\n",
      "LOGISTIC REGRESSION\n",
      "TRAINING ACCURACY 75.03\n",
      "TESTING ACCURACY 74.15\n"
     ]
    }
   ],
   "source": [
    "#LOGISTIC REGRESSION\n",
    "print(\"\\nLOGISTIC REGRESSION\")\n",
    "# lr=lr_best_model\n",
    "\n",
    "lr=LogisticRegression(C=1,solver='newton-cg')\n",
    "lr_model=lr.fit(xtrain,ytrain)\n",
    "\n",
    "lr_pred=lr.predict(xtrain)\n",
    "print(\"TRAINING ACCURACY\",round(accuracy_score(lr_pred,ytrain)*100,2))\n",
    "lr_pred=lr.predict(xtest)\n",
    "print(\"TESTING ACCURACY\",round(accuracy_score(lr_pred,ytest)*100,2))"
   ]
  },
  {
   "cell_type": "code",
   "execution_count": 63,
   "metadata": {
    "colab": {
     "base_uri": "https://localhost:8080/",
     "height": 85
    },
    "colab_type": "code",
    "id": "HsBGQw8CWyaT",
    "outputId": "9668eb62-b437-4ce8-9c93-a8f662d8cd9a"
   },
   "outputs": [
    {
     "name": "stdout",
     "output_type": "stream",
     "text": [
      "\n",
      "MULTINOMIAL NAIVE BAYES\n",
      "TRAINING ACCURACY 73.33\n",
      "TESTING ACCURACY 72.58\n"
     ]
    }
   ],
   "source": [
    "#MULTINOMIAL NAIVE BAYES\n",
    "print(\"\\nMULTINOMIAL NAIVE BAYES\")\n",
    "mnb=MultinomialNB()\n",
    "mnb=mnb.fit(xtrain,ytrain)\n",
    "mnb_pred=mnb.predict(xtrain)\n",
    "print(\"TRAINING ACCURACY\",round(accuracy_score(mnb_pred,ytrain)*100,2))\n",
    "mnb_pred=mnb.predict(xtest)\n",
    "print(\"TESTING ACCURACY\",round(accuracy_score(mnb_pred,ytest)*100,2))"
   ]
  },
  {
   "cell_type": "code",
   "execution_count": 64,
   "metadata": {
    "colab": {},
    "colab_type": "code",
    "id": "_lHxC5ivCPso"
   },
   "outputs": [],
   "source": [
    "# #List Hyperparameters that we want to tune.\n",
    "# n_neighbors = list(range(1,5))\n",
    "\n",
    "# #Convert to dictionary\n",
    "# hyperparameters = dict( n_neighbors=n_neighbors)\n",
    "\n",
    "# #Create new KNN object\n",
    "# knn = KNeighborsClassifier()\n",
    "\n",
    "# #Use GridSearch\n",
    "# clf = GridSearchCV(knn, hyperparameters, cv=5)\n",
    "\n",
    "# #Fit the model\n",
    "# knn_best_model = clf.fit(xtrain,ytrain)\n",
    "\n",
    "# #Print The value of best Hyperparameters\n",
    "# print('Best n_neighbors:', knn_best_model.best_estimator_.get_params()['n_neighbors'])\n",
    "# print('Best Model score:', knn_best_model.best_score_*100)\n",
    "# print('\\n Best model:',knn_best_model.best_estimator_)"
   ]
  },
  {
   "cell_type": "markdown",
   "metadata": {
    "colab_type": "text",
    "id": "gejBWcEvtMfx"
   },
   "source": [
    "Best n_neighbors: 4  \n",
    "Best Model score: 65.1136211813433  \n",
    "\n",
    " Best model: KNeighborsClassifier(algorithm='auto', leaf_size=30, metric='minkowski',\n",
    "                     metric_params=None, n_jobs=None, n_neighbors=4, p=2,\n",
    "                     weights='uniform')"
   ]
  },
  {
   "cell_type": "code",
   "execution_count": 65,
   "metadata": {
    "colab": {
     "base_uri": "https://localhost:8080/",
     "height": 85
    },
    "colab_type": "code",
    "id": "ZAXl0D8ikCkY",
    "outputId": "94ab5187-453a-4e33-fd83-05ab046882a6"
   },
   "outputs": [
    {
     "name": "stdout",
     "output_type": "stream",
     "text": [
      "\n",
      "K NEAREST NEIGHBOUR-KNN\n",
      "TRAINING ACCURACY 77.51\n",
      "TESTING ACCURACY 65.53\n"
     ]
    }
   ],
   "source": [
    "# K NEAREST NEIGHBOUR-KNN\n",
    "print(\"\\nK NEAREST NEIGHBOUR-KNN\")\n",
    "# knn=knn_best_model\n",
    "\n",
    "knn=KNeighborsClassifier(n_neighbors=4)\n",
    "knn.fit(xtrain,ytrain)\n",
    "pred=knn.predict(xtrain)\n",
    "print(\"TRAINING ACCURACY\",round(accuracy_score(pred,ytrain)*100,2))\n",
    "pred=knn.predict(xtest)\n",
    "print(\"TESTING ACCURACY\",round(accuracy_score(pred,ytest)*100,2))"
   ]
  },
  {
   "cell_type": "markdown",
   "metadata": {
    "colab_type": "text",
    "id": "vIkdnF-DvDxt"
   },
   "source": [
    "**SVM** IS IMPLEMENTED USING SGD **(Stochastic Gradient Descent)** WITH **HINGE LOSS** "
   ]
  },
  {
   "cell_type": "code",
   "execution_count": 66,
   "metadata": {
    "colab": {},
    "colab_type": "code",
    "id": "QywSieF2b7BK"
   },
   "outputs": [],
   "source": [
    "# #List Hyperparameters that we want to tune.\n",
    "# a = [0.0001,0.001,0.01,0.1,1]\n",
    "\n",
    "# #Convert to dictionary\n",
    "# hyperparameters = dict(alpha=a)\n",
    "\n",
    "# #Create new model\n",
    "# sgd=SGDClassifier(loss='hinge')\n",
    "\n",
    "# #Use GridSearch\n",
    "# clf = GridSearchCV(sgd, hyperparameters, cv=5)\n",
    "\n",
    "# #Fit the model\n",
    "# sgd_best_model = clf.fit(xtrain,ytrain)\n",
    "\n",
    "# #Print The value of best Hyperparameters\n",
    "# print('Best Learning Rate:', sgd_best_model.best_estimator_.get_params()['alpha'])\n",
    "# print('Best Model score:', sgd_best_model.best_score_*100)\n",
    "# print('\\n Best model:',sgd_best_model.best_estimator_)"
   ]
  },
  {
   "cell_type": "markdown",
   "metadata": {
    "colab_type": "text",
    "id": "KaV1Av1ltO-o"
   },
   "source": [
    "Best Learning Rate: 0.0001   \n",
    "Best Model score: 74.06760915988251   \n",
    "\n",
    " Best model: SGDClassifier(alpha=0.0001, average=False, class_weight=None,\n",
    "              early_stopping=False, epsilon=0.1, eta0=0.0, fit_intercept=True,\n",
    "              l1_ratio=0.15, learning_rate='optimal', loss='hinge',\n",
    "              max_iter=1000, n_iter_no_change=5, n_jobs=None, penalty='l2',\n",
    "              power_t=0.5, random_state=None, shuffle=True, tol=0.001,\n",
    "              validation_fraction=0.1, verbose=0, warm_start=False)"
   ]
  },
  {
   "cell_type": "code",
   "execution_count": 67,
   "metadata": {
    "colab": {
     "base_uri": "https://localhost:8080/",
     "height": 85
    },
    "colab_type": "code",
    "id": "2u_wFPxbRZPs",
    "outputId": "cb1bd485-1642-43c5-953b-0e6875d46f19"
   },
   "outputs": [
    {
     "name": "stdout",
     "output_type": "stream",
     "text": [
      "\n",
      "SVM-SGD\n",
      "TRAINING ACCURACY 74.84\n",
      "TESTING ACCURACY 73.85\n"
     ]
    }
   ],
   "source": [
    "# SVM-SGD\n",
    "print(\"\\nSVM-SGD\")\n",
    "# sgd=sgd_best_model\n",
    "\n",
    "sgd= SGDClassifier(alpha=0.0001,loss='hinge')\n",
    "# sgd=SGDClassifier(loss='hinge')\n",
    "sgd.fit(xtrain,ytrain)\n",
    "pred=sgd.predict(xtrain)\n",
    "print(\"TRAINING ACCURACY\",round(accuracy_score(pred,ytrain)*100,2))\n",
    "pred=sgd.predict(xtest)\n",
    "print(\"TESTING ACCURACY\",round(accuracy_score(pred,ytest)*100,2))"
   ]
  },
  {
   "cell_type": "code",
   "execution_count": 68,
   "metadata": {
    "colab": {},
    "colab_type": "code",
    "id": "73Q5zhhAk2nG"
   },
   "outputs": [],
   "source": [
    "# #List Hyperparameters that we want to tune.\n",
    "# criterion=['gini', 'entropy']\n",
    "# splitter=['best', 'random']\n",
    "\n",
    "# #Convert to dictionary\n",
    "# hyperparameters = dict(criterion=criterion,splitter=splitter)\n",
    "\n",
    "# #Create a new model\n",
    "# dt=DecisionTreeClassifier()\n",
    "\n",
    "# #Use GridSearch\n",
    "# clf = GridSearchCV(dt, hyperparameters, cv=5)\n",
    "\n",
    "# #Fit the model\n",
    "# dt_best_model = clf.fit(xtrain,ytrain)\n",
    "\n",
    "# #Print The value of best Hyperparameters\n",
    "# print('Best Criterion:', dt_best_model.best_estimator_.get_params()['criterion'])\n",
    "# print('Best Splitter:', dt_best_model.best_estimator_.get_params()['splitter'])\n",
    "\n",
    "# print('Best Model score:', dt_best_model.best_score_*100)\n",
    "# print('\\n Best model:',dt_best_model.best_estimator_)"
   ]
  },
  {
   "cell_type": "markdown",
   "metadata": {
    "colab_type": "text",
    "id": "1CdU4F3ctVZv"
   },
   "source": [
    "Best Criterion: entropy  \n",
    "Best Splitter: random  \n",
    "Best Model score: 69.0819436013781  \n",
    "\n",
    " Best model: DecisionTreeClassifier(ccp_alpha=0.0, class_weight=None, criterion='entropy',\n",
    "                       max_depth=None, max_features=None, max_leaf_nodes=None,\n",
    "                       min_impurity_decrease=0.0, min_impurity_split=None,\n",
    "                       min_samples_leaf=1, min_samples_split=2,\n",
    "                       min_weight_fraction_leaf=0.0, presort='deprecated',\n",
    "                       random_state=None, splitter='random')"
   ]
  },
  {
   "cell_type": "code",
   "execution_count": 69,
   "metadata": {
    "colab": {
     "base_uri": "https://localhost:8080/",
     "height": 85
    },
    "colab_type": "code",
    "id": "GaAZ9QSeUXGj",
    "outputId": "400b4613-dfd1-46a6-f300-9ae9cbd8db8e"
   },
   "outputs": [
    {
     "name": "stdout",
     "output_type": "stream",
     "text": [
      "\n",
      "DECISION TREES\n",
      "TRAINING ACCURACY 95.78\n",
      "TESTING ACCURACY 69.07\n"
     ]
    }
   ],
   "source": [
    "# DECISION TREES\n",
    "print(\"\\nDECISION TREES\")\n",
    "# dt=dt_best_model\n",
    "dt= DecisionTreeClassifier( criterion='entropy', splitter='random')\n",
    "\n",
    "dt.fit(xtrain,ytrain)\n",
    "\n",
    "pred=dt.predict(xtrain)\n",
    "print(\"TRAINING ACCURACY\",round(accuracy_score(pred,ytrain)*100,2))\n",
    "pred=dt.predict(xtest)\n",
    "print(\"TESTING ACCURACY\",round(accuracy_score(pred,ytest)*100,2))"
   ]
  },
  {
   "cell_type": "code",
   "execution_count": 70,
   "metadata": {
    "colab": {},
    "colab_type": "code",
    "id": "sVaQFIqmoaOT"
   },
   "outputs": [],
   "source": [
    "# #List Hyperparameters that we want to tune.\n",
    "# n_estimators=[25,50,100]\n",
    "\n",
    "# #Convert to dictionary\n",
    "# hyperparameters = dict(n_estimators=n_estimators)\n",
    "\n",
    "# #Create new model\n",
    "# rf=RandomForestClassifier()\n",
    "\n",
    "# #Use GridSearch\n",
    "# clf = GridSearchCV(rf, hyperparameters, cv=2)\n",
    "\n",
    "# #Fit the model\n",
    "# rf_best_model = clf.fit(xtrain,ytrain)\n",
    "\n",
    "# #Print The value of best Hyperparameters\n",
    "# print('Best Estimator Count:', rf_best_model.best_estimator_.get_params()['n_estimators'])\n",
    "# print('Best Model score:', rf_best_model.best_score_*100)\n",
    "# print('\\n Best model:',rf_best_model.best_estimator_)"
   ]
  },
  {
   "cell_type": "markdown",
   "metadata": {
    "colab_type": "text",
    "id": "KvOpsPslAJCH"
   },
   "source": [
    "Best Estimator Count: 100  \n",
    "Best Model score: 72.95741779947015  \n",
    "\n",
    " Best model: RandomForestClassifier(bootstrap=True, ccp_alpha=0.0, class_weight=None,\n",
    "                       criterion='gini', max_depth=None, max_features='auto',\n",
    "                       max_leaf_nodes=None, max_samples=None,\n",
    "                       min_impurity_decrease=0.0, min_impurity_split=None,\n",
    "                       min_samples_leaf=1, min_samples_split=2,\n",
    "                       min_weight_fraction_leaf=0.0, n_estimators=100,\n",
    "                       n_jobs=None, oob_score=False, random_state=None,\n",
    "                       verbose=0, warm_start=False)"
   ]
  },
  {
   "cell_type": "code",
   "execution_count": 71,
   "metadata": {
    "colab": {
     "base_uri": "https://localhost:8080/",
     "height": 85
    },
    "colab_type": "code",
    "id": "WCqXfHOfnYXb",
    "outputId": "a5d2df4e-52fa-4192-d9a0-6e096635b159"
   },
   "outputs": [
    {
     "name": "stdout",
     "output_type": "stream",
     "text": [
      "\n",
      "RANDOM FOREST\n",
      "TRAINING ACCURACY 95.78\n",
      "TESTING ACCURACY 73.04\n"
     ]
    }
   ],
   "source": [
    "# RANDOM FOREST\n",
    "print(\"\\nRANDOM FOREST\")\n",
    "# rf=rf_best_model\n",
    "rf=RandomForestClassifier(n_estimators=100)\n",
    "\n",
    "\n",
    "rf.fit(xtrain,ytrain)\n",
    "pred=rf.predict(xtrain)\n",
    "print(\"TRAINING ACCURACY\",round(accuracy_score(pred,ytrain)*100,2))\n",
    "pred=rf.predict(xtest)\n",
    "print(\"TESTING ACCURACY\",round(accuracy_score(pred,ytest)*100,2))"
   ]
  },
  {
   "cell_type": "code",
   "execution_count": 72,
   "metadata": {
    "colab": {},
    "colab_type": "code",
    "id": "hHSEG76BobCq"
   },
   "outputs": [],
   "source": [
    "# #List Hyperparameters that we want to tune.\n",
    "# n_estimators=[25,50,75,100]\n",
    "\n",
    "# #Convert to dictionary\n",
    "# hyperparameters = dict(n_estimators=n_estimators)\n",
    "\n",
    "# #Create new model\n",
    "# gb=GradientBoostingClassifier()\n",
    "\n",
    "# #Use GridSearch\n",
    "# clf = GridSearchCV(gb, hyperparameters, cv=2)\n",
    "\n",
    "# #Fit the model\n",
    "# gb_best_model = clf.fit(xtrain,ytrain)\n",
    "\n",
    "# #Print The value of best Hyperparameters\n",
    "# print('Best Estimator Count:', gb_best_model.best_estimator_.get_params()['n_estimators'])\n",
    "# print('Best Model score:', gb_best_model.best_score_*100)\n",
    "# print('\\n Best model:',gb_best_model.best_estimator_)"
   ]
  },
  {
   "cell_type": "markdown",
   "metadata": {
    "colab_type": "text",
    "id": "QfeRi95IBXra"
   },
   "source": [
    "Best Estimator Count: 100  \n",
    "Best Model score: 66.51972479528739  \n",
    "\n",
    " Best model: GradientBoostingClassifier(ccp_alpha=0.0, criterion='friedman_mse', init=None,\n",
    "                           learning_rate=0.1, loss='deviance', max_depth=3,\n",
    "                           max_features=None, max_leaf_nodes=None,\n",
    "                           min_impurity_decrease=0.0, min_impurity_split=None,\n",
    "                           min_samples_leaf=1, min_samples_split=2,\n",
    "                           min_weight_fraction_leaf=0.0, n_estimators=100,\n",
    "                           n_iter_no_change=None, presort='deprecated',\n",
    "                           random_state=None, subsample=1.0, tol=0.0001,\n",
    "                           validation_fraction=0.1, verbose=0,\n",
    "                           warm_start=False)"
   ]
  },
  {
   "cell_type": "code",
   "execution_count": 73,
   "metadata": {
    "colab": {
     "base_uri": "https://localhost:8080/",
     "height": 85
    },
    "colab_type": "code",
    "id": "4BAY91Vrn13q",
    "outputId": "1797124a-73e6-4a2c-8aab-d4aa43f22325"
   },
   "outputs": [
    {
     "name": "stdout",
     "output_type": "stream",
     "text": [
      "\n",
      "GRADIENT BOOSTING\n",
      "TRAINING ACCURACY 67.36\n",
      "TESTING ACCURACY 66.48\n"
     ]
    }
   ],
   "source": [
    "# GRADIENT BOOSTING\n",
    "print(\"\\nGRADIENT BOOSTING\")\n",
    "gb=GradientBoostingClassifier(n_estimators=100)\n",
    "# gb=gb_best_model\n",
    "gb.fit(xtrain,ytrain)\n",
    "pred=gb.predict(xtrain)\n",
    "print(\"TRAINING ACCURACY\",round(accuracy_score(pred,ytrain)*100,2))\n",
    "pred=gb.predict(xtest)\n",
    "print(\"TESTING ACCURACY\",round(accuracy_score(pred,ytest)*100,2))"
   ]
  },
  {
   "cell_type": "code",
   "execution_count": 74,
   "metadata": {
    "colab": {
     "base_uri": "https://localhost:8080/",
     "height": 68
    },
    "colab_type": "code",
    "id": "LHHlRbNUfKtR",
    "outputId": "a6cc59c0-b118-42f2-b978-cd0844437a50"
   },
   "outputs": [
    {
     "name": "stdout",
     "output_type": "stream",
     "text": [
      "Requirement already up-to-date: xgboost in c:\\users\\aditya\\anaconda3\\lib\\site-packages (1.0.2)\n",
      "Requirement already satisfied, skipping upgrade: numpy in c:\\users\\aditya\\anaconda3\\lib\\site-packages (from xgboost) (1.16.4)\n",
      "Requirement already satisfied, skipping upgrade: scipy in c:\\users\\aditya\\anaconda3\\lib\\site-packages (from xgboost) (1.4.1)\n"
     ]
    }
   ],
   "source": [
    "! pip install --upgrade xgboost\n",
    "from xgboost import XGBClassifier"
   ]
  },
  {
   "cell_type": "code",
   "execution_count": 75,
   "metadata": {
    "colab": {},
    "colab_type": "code",
    "id": "_Xju8mN0j_in"
   },
   "outputs": [],
   "source": [
    "# #List Hyperparameters that we want to tune.\n",
    "# n_estimators=[25,50,100]\n",
    "\n",
    "# #Convert to dictionary\n",
    "# hyperparameters = dict(n_estimators=n_estimators)\n",
    "\n",
    "# #Create new model\n",
    "# xgb = XGBClassifier()\n",
    "\n",
    "# #Use GridSearch\n",
    "# clf = GridSearchCV(xgb, hyperparameters, cv=2)\n",
    "\n",
    "# #Fit the model\n",
    "# xgb_best_model = clf.fit(xtrain,ytrain)\n",
    "\n",
    "# #Print The value of best Hyperparameters\n",
    "# print('Best Estimator Count:', xgb_best_model.best_estimator_.get_params()['n_estimators'])\n",
    "# print('Best Model score:', xgb_best_model.best_score_*100)\n",
    "# print('\\n Best model:',xgb_best_model.best_estimator_)"
   ]
  },
  {
   "cell_type": "markdown",
   "metadata": {
    "colab_type": "text",
    "id": "kd-d49rSk0mg"
   },
   "source": [
    "Best Estimator Count: 100  \n",
    "Best Model score: 72.38089376768238   \n",
    "\n",
    " Best model: XGBClassifier(base_score=0.5, booster=None, colsample_bylevel=1,\n",
    "              colsample_bynode=1, colsample_bytree=1, gamma=0, gpu_id=-1,\n",
    "              importance_type='gain', interaction_constraints=None,\n",
    "              learning_rate=0.300000012, max_delta_step=0, max_depth=6,\n",
    "              min_child_weight=1, missing=nan, monotone_constraints=None,\n",
    "              n_estimators=100, n_jobs=0, num_parallel_tree=1,\n",
    "              objective='binary:logistic', random_state=0, reg_alpha=0,\n",
    "              reg_lambda=1, scale_pos_weight=1, subsample=1, tree_method=None,\n",
    "              validate_parameters=False, verbosity=None)"
   ]
  },
  {
   "cell_type": "code",
   "execution_count": 76,
   "metadata": {
    "colab": {
     "base_uri": "https://localhost:8080/",
     "height": 68
    },
    "colab_type": "code",
    "id": "tXkPHJvCg2kj",
    "outputId": "d9fa0a7c-cfac-4ab0-82ea-ec04f9a2af9e"
   },
   "outputs": [
    {
     "name": "stdout",
     "output_type": "stream",
     "text": [
      "XGBOOST\n",
      "TRAINING ACCURACY 75.49\n",
      "TESTING ACCURACY 72.72\n"
     ]
    }
   ],
   "source": [
    "# xgb_model = XGBClassifier()\n",
    "xgb_model=XGBClassifier(n_estimators=100)\n",
    "xgb_model.fit(xtrain,ytrain)\n",
    "print(\"XGBOOST\")\n",
    "pred=xgb_model.predict(xtrain)\n",
    "print(\"TRAINING ACCURACY\",round(accuracy_score(pred,ytrain)*100,2))\n",
    "pred=xgb_model.predict(xtest)\n",
    "print(\"TESTING ACCURACY\",round(accuracy_score(pred,ytest)*100,2))"
   ]
  },
  {
   "cell_type": "markdown",
   "metadata": {
    "colab_type": "text",
    "id": "AR3GSgAICTZT"
   },
   "source": [
    "# SENTIMENT DATASET ACCURACIES:   \n",
    "\n",
    "**LOGISTIC REGRESSION**   \n",
    "TRAINING ACCURACY 75.03  \n",
    "TESTING ACCURACY 74.15   \n",
    "\n",
    "**MULTINOMIAL NAIVE BAYES**  \n",
    "TRAINING ACCURACY 73.33  \n",
    "TESTING ACCURACY 72.58    \n",
    "\n",
    "**K NEAREST NEIGHBOUR-KNN**    \n",
    "TRAINING ACCURACY 77.51  \n",
    "TESTING ACCURACY 65.53   \n",
    "\n",
    "**SVM-SGD**   \n",
    "TRAINING ACCURACY 74.81  \n",
    "TESTING ACCURACY 73.88    \n",
    "\n",
    "**DECISION TREES**  \n",
    "TRAINING ACCURACY 95.78   \n",
    "TESTING ACCURACY 69.02     \n",
    "  \n",
    "**RANDOM FOREST**  \n",
    "TRAINING ACCURACY 95.78  \n",
    "TESTING ACCURACY 72.92  \n",
    "\n",
    "**GRADIENT BOOSTING**  \n",
    "TRAINING ACCURACY 67.03  \n",
    "TESTING ACCURACY 66.32    \n",
    "\n",
    "**XGBOOST:**    \n",
    "TRAINING ACCURACY 75.49   \n",
    "TESTING ACCURACY 72.72  \n",
    "\n",
    "**WE CAN SEE THAT ALMOST ALL MODELS HAVE TESTING ACCURACY IN THE 70'S**     \n",
    " \n",
    "**WE CAN ALSO SEE THAT THE RANDOM FOREST AND DECISON TREES HAVE VERY HIGH TRAINING ACCURACIES COMPARED TO OTHER MODELS EVEN AFTER HYPERPARAMETER TUNING WITH CROSS VALIDATION**\n"
   ]
  },
  {
   "cell_type": "markdown",
   "metadata": {
    "colab_type": "text",
    "id": "MOOE_NKYDrFj"
   },
   "source": [
    "# CANADIAN DATA SET:"
   ]
  },
  {
   "cell_type": "markdown",
   "metadata": {
    "colab_type": "text",
    "id": "Fj15UAfjwJQZ"
   },
   "source": [
    "**NOW LETS TEST THESE MODELS ON CANADIAN DATASET**"
   ]
  },
  {
   "cell_type": "code",
   "execution_count": 77,
   "metadata": {
    "colab": {
     "base_uri": "https://localhost:8080/",
     "height": 428
    },
    "colab_type": "code",
    "id": "xvtHn3CJwI8D",
    "outputId": "ffd4df7b-176e-41f1-e39d-6e95b1edde1d"
   },
   "outputs": [
    {
     "data": {
      "text/html": [
       "<div>\n",
       "<style scoped>\n",
       "    .dataframe tbody tr th:only-of-type {\n",
       "        vertical-align: middle;\n",
       "    }\n",
       "\n",
       "    .dataframe tbody tr th {\n",
       "        vertical-align: top;\n",
       "    }\n",
       "\n",
       "    .dataframe thead th {\n",
       "        text-align: right;\n",
       "    }\n",
       "</style>\n",
       "<table border=\"1\" class=\"dataframe\">\n",
       "  <thead>\n",
       "    <tr style=\"text-align: right;\">\n",
       "      <th></th>\n",
       "      <th>sentiment</th>\n",
       "      <th>negative_reason</th>\n",
       "      <th>text</th>\n",
       "      <th>at</th>\n",
       "      <th>hsh</th>\n",
       "      <th>clean_tweet</th>\n",
       "      <th>co</th>\n",
       "      <th>li</th>\n",
       "      <th>ndp</th>\n",
       "    </tr>\n",
       "  </thead>\n",
       "  <tbody>\n",
       "    <tr>\n",
       "      <th>0</th>\n",
       "      <td>Negative</td>\n",
       "      <td>Women Reproductive right and Racism</td>\n",
       "      <td>b\"@RosieBarton So instead of your suggestion, ...</td>\n",
       "      <td>rosiebarton</td>\n",
       "      <td>canadian  women  andrewscheer  conservatives  ...</td>\n",
       "      <td>instead suggestion agree canadian woman trust ...</td>\n",
       "      <td>True</td>\n",
       "      <td>False</td>\n",
       "      <td>False</td>\n",
       "    </tr>\n",
       "    <tr>\n",
       "      <th>1</th>\n",
       "      <td>Positive</td>\n",
       "      <td>NaN</td>\n",
       "      <td>b\"#AllWomanSpacewalk it's real!\\n@Space_Statio...</td>\n",
       "      <td></td>\n",
       "      <td>allwomanspacewalk  cityofto  onpoli  cdnpoli  ...</td>\n",
       "      <td>allwomanspacewalk real n netobicokenorth cityo...</td>\n",
       "      <td>False</td>\n",
       "      <td>False</td>\n",
       "      <td>False</td>\n",
       "    </tr>\n",
       "    <tr>\n",
       "      <th>2</th>\n",
       "      <td>Negative</td>\n",
       "      <td>Economy</td>\n",
       "      <td>b\"#Brantford It's going to cost YOU $94 BILLIO...</td>\n",
       "      <td></td>\n",
       "      <td>brantford  elxn43  cdnpoli  canada</td>\n",
       "      <td>brantford going cost billion next year ask jus...</td>\n",
       "      <td>False</td>\n",
       "      <td>False</td>\n",
       "      <td>False</td>\n",
       "    </tr>\n",
       "    <tr>\n",
       "      <th>3</th>\n",
       "      <td>Positive</td>\n",
       "      <td>NaN</td>\n",
       "      <td>b\"#Canada #CanadaElection2019 #CanadaVotes \\n#...</td>\n",
       "      <td></td>\n",
       "      <td>canada  canadaelection2019  canadavotes</td>\n",
       "      <td>canada canadavotes n ncan decide help n n</td>\n",
       "      <td>False</td>\n",
       "      <td>False</td>\n",
       "      <td>False</td>\n",
       "    </tr>\n",
       "    <tr>\n",
       "      <th>4</th>\n",
       "      <td>Negative</td>\n",
       "      <td>Economy</td>\n",
       "      <td>b\"#Canada #taxpayers are sick &amp;amp; tired of h...</td>\n",
       "      <td>snclavalin  sheila_copps</td>\n",
       "      <td>canada  taxpayers  trudeaumustgo.  canada  snc...</td>\n",
       "      <td>canada taxpayer sick amp tired hard earned don...</td>\n",
       "      <td>False</td>\n",
       "      <td>True</td>\n",
       "      <td>False</td>\n",
       "    </tr>\n",
       "  </tbody>\n",
       "</table>\n",
       "</div>"
      ],
      "text/plain": [
       "  sentiment                      negative_reason  \\\n",
       "0  Negative  Women Reproductive right and Racism   \n",
       "1  Positive                                  NaN   \n",
       "2  Negative                              Economy   \n",
       "3  Positive                                  NaN   \n",
       "4  Negative                              Economy   \n",
       "\n",
       "                                                text  \\\n",
       "0  b\"@RosieBarton So instead of your suggestion, ...   \n",
       "1  b\"#AllWomanSpacewalk it's real!\\n@Space_Statio...   \n",
       "2  b\"#Brantford It's going to cost YOU $94 BILLIO...   \n",
       "3  b\"#Canada #CanadaElection2019 #CanadaVotes \\n#...   \n",
       "4  b\"#Canada #taxpayers are sick &amp; tired of h...   \n",
       "\n",
       "                         at  \\\n",
       "0               rosiebarton   \n",
       "1                             \n",
       "2                             \n",
       "3                             \n",
       "4  snclavalin  sheila_copps   \n",
       "\n",
       "                                                 hsh  \\\n",
       "0  canadian  women  andrewscheer  conservatives  ...   \n",
       "1  allwomanspacewalk  cityofto  onpoli  cdnpoli  ...   \n",
       "2                 brantford  elxn43  cdnpoli  canada   \n",
       "3            canada  canadaelection2019  canadavotes   \n",
       "4  canada  taxpayers  trudeaumustgo.  canada  snc...   \n",
       "\n",
       "                                         clean_tweet     co     li    ndp  \n",
       "0  instead suggestion agree canadian woman trust ...   True  False  False  \n",
       "1  allwomanspacewalk real n netobicokenorth cityo...  False  False  False  \n",
       "2  brantford going cost billion next year ask jus...  False  False  False  \n",
       "3          canada canadavotes n ncan decide help n n  False  False  False  \n",
       "4  canada taxpayer sick amp tired hard earned don...  False   True  False  "
      ]
     },
     "execution_count": 77,
     "metadata": {},
     "output_type": "execute_result"
    }
   ],
   "source": [
    "df1.head() "
   ]
  },
  {
   "cell_type": "code",
   "execution_count": 78,
   "metadata": {
    "colab": {
     "base_uri": "https://localhost:8080/",
     "height": 34
    },
    "colab_type": "code",
    "id": "CyL7gwG0GZok",
    "outputId": "1855417d-7796-4cd6-e500-b3f74c268093"
   },
   "outputs": [
    {
     "data": {
      "text/plain": [
       "array(['Negative', 'Positive'], dtype=object)"
      ]
     },
     "execution_count": 78,
     "metadata": {},
     "output_type": "execute_result"
    }
   ],
   "source": [
    "df1.sentiment.unique()"
   ]
  },
  {
   "cell_type": "markdown",
   "metadata": {
    "colab_type": "text",
    "id": "xflGy59XwVAG"
   },
   "source": [
    "**LETS LABEL ENCODE THE SENTIMENT DATA**"
   ]
  },
  {
   "cell_type": "code",
   "execution_count": 79,
   "metadata": {
    "colab": {
     "base_uri": "https://localhost:8080/",
     "height": 136
    },
    "colab_type": "code",
    "id": "pxMMDgYjGCoU",
    "outputId": "80a89661-da6b-47e9-c8d3-f889d41bd651"
   },
   "outputs": [
    {
     "name": "stdout",
     "output_type": "stream",
     "text": [
      "0    0\n",
      "1    1\n",
      "2    0\n",
      "3    1\n",
      "4    0\n",
      "Name: sentiment, dtype: int64\n",
      "(2133,)\n"
     ]
    }
   ],
   "source": [
    "ct=df1[\"clean_tweet\"]\n",
    "s_map={'Positive': 1, 'Negative' :0}\n",
    "tgt=df1.sentiment.map(s_map)\n",
    "print(tgt[0:5])\n",
    "print(np.shape(tgt))\n",
    "df1[\"sentiment_le\"]=tgt"
   ]
  },
  {
   "cell_type": "code",
   "execution_count": 80,
   "metadata": {
    "colab": {},
    "colab_type": "code",
    "id": "RsQQ-RbxGlDT"
   },
   "outputs": [],
   "source": [
    "#TF-IDF\n",
    "from sklearn.feature_extraction.text import TfidfVectorizer\n",
    "tfidf = TfidfVectorizer(use_idf=True,max_features=1000)\n",
    "tfs_ca = tfidf.fit_transform(ct)"
   ]
  },
  {
   "cell_type": "markdown",
   "metadata": {
    "colab_type": "text",
    "id": "vGivz7-_HPSD"
   },
   "source": [
    "**TESTING DATA WITH THE TRAINED MODEL:**"
   ]
  },
  {
   "cell_type": "code",
   "execution_count": 81,
   "metadata": {
    "colab": {
     "base_uri": "https://localhost:8080/",
     "height": 408
    },
    "colab_type": "code",
    "id": "t1BGLXrsG_KI",
    "outputId": "a9fa00c5-c43a-4651-a4a1-5a2caffaca87"
   },
   "outputs": [
    {
     "name": "stdout",
     "output_type": "stream",
     "text": [
      "LOGISTIC REGRESSION\n",
      "CANADIAN DATASET ACCURACY 52.18\n",
      "\n",
      "NAIVE BAYES\n",
      "CANADIAN DATASET ACCURACY 51.01\n",
      "\n",
      "KNN\n",
      "CANADIAN DATASET ACCURACY 48.85\n",
      "\n",
      "SVM-SGD\n",
      "CANADIAN DATASET ACCURACY 51.01\n",
      "\n",
      "DECISION TREES\n",
      "CANADIAN DATASET ACCURACY 52.23\n",
      "\n",
      "RANDOM FOREST\n",
      "CANADIAN DATASET ACCURACY 53.35\n",
      "\n",
      "GRADIENT BOOSTING\n",
      "CANADIAN DATASET ACCURACY 50.4\n",
      "\n",
      "XGRADIENT BOOSTING\n",
      "CANADIAN DATASET ACCURACY 54.57\n"
     ]
    }
   ],
   "source": [
    "lr_ca_pred=lr.predict(tfs_ca)\n",
    "print(\"LOGISTIC REGRESSION\")\n",
    "print(\"CANADIAN DATASET ACCURACY\",round(accuracy_score(tgt,lr_ca_pred)*100,2))\n",
    "mnb_ca_pred=mnb.predict(tfs_ca)\n",
    "print(\"\\nNAIVE BAYES\")\n",
    "print(\"CANADIAN DATASET ACCURACY\",round(accuracy_score(tgt,mnb_ca_pred)*100,2))\n",
    "knn_ca_pred=knn.predict(tfs_ca)\n",
    "print(\"\\nKNN\")\n",
    "print(\"CANADIAN DATASET ACCURACY\",round(accuracy_score(tgt,knn_ca_pred)*100,2))\n",
    "sgd_ca_pred=mnb.predict(tfs_ca)\n",
    "print(\"\\nSVM-SGD\")\n",
    "print(\"CANADIAN DATASET ACCURACY\",round(accuracy_score(tgt,sgd_ca_pred)*100,2))\n",
    "dt_ca_pred=dt.predict(tfs_ca)\n",
    "print(\"\\nDECISION TREES\")\n",
    "print(\"CANADIAN DATASET ACCURACY\",round(accuracy_score(tgt,dt_ca_pred)*100,2))\n",
    "rf_ca_pred=rf.predict(tfs_ca)\n",
    "print(\"\\nRANDOM FOREST\")\n",
    "print(\"CANADIAN DATASET ACCURACY\",round(accuracy_score(tgt,rf_ca_pred)*100,2))\n",
    "gb_ca_pred=gb.predict(tfs_ca)\n",
    "print(\"\\nGRADIENT BOOSTING\")\n",
    "print(\"CANADIAN DATASET ACCURACY\",round(accuracy_score(tgt,gb_ca_pred)*100,2))\n",
    "xgb_ca_pred=xgb_model.predict(tfs_ca)\n",
    "print(\"\\nXGRADIENT BOOSTING\")\n",
    "print(\"CANADIAN DATASET ACCURACY\",round(accuracy_score(tgt,xgb_ca_pred)*100,2))"
   ]
  },
  {
   "cell_type": "markdown",
   "metadata": {
    "colab_type": "text",
    "id": "EC1b0UdbTj-b"
   },
   "source": [
    "# CANADIAN DATASET ACCURACY\n",
    "**LOGISTIC REGRESSION**   \n",
    "CANADIAN DATASET ACCURACY 52.18  \n",
    "\n",
    "**NAIVE BAYES**   \n",
    "CANADIAN DATASET ACCURACY 51.01  \n",
    "\n",
    "**KNN**   \n",
    "CANADIAN DATASET ACCURACY 48.85  \n",
    "\n",
    "**SVM-SGD**   \n",
    "CANADIAN DATASET ACCURACY 51.01  \n",
    "\n",
    "**DECISION TREES**   \n",
    "CANADIAN DATASET ACCURACY 53.26  \n",
    "\n",
    "**RANDOM FOREST**   \n",
    "CANADIAN DATASET ACCURACY 54.24  \n",
    "\n",
    "**GRADIENT BOOSTING**   \n",
    "CANADIAN DATASET ACCURACY 49.84   \n",
    "\n",
    "**XGRADIENT BOOSTING**  \n",
    "CANADIAN DATASET ACCURACY 54.57  \n",
    "\n",
    "WE SEE THAT **XGBOOST** HAS THE HIGHEST ACCURACY FOLLOWED BY **RANDOM FOREST** AND DECISION TREES"
   ]
  },
  {
   "cell_type": "markdown",
   "metadata": {
    "colab_type": "text",
    "id": "pLyRx8u_Drx2"
   },
   "source": [
    "# XGBOOST ALGORITHM HAS THE BEST PERFORMANCE"
   ]
  },
  {
   "cell_type": "markdown",
   "metadata": {
    "colab_type": "text",
    "id": "BRhkJLGTyZaN"
   },
   "source": [
    "**USING XGBOOST LETS ANALYZE THE PARTY WISE SENTIMENT PREDICTION** "
   ]
  },
  {
   "cell_type": "code",
   "execution_count": 82,
   "metadata": {
    "colab": {},
    "colab_type": "code",
    "id": "I4JIP9X5Edha"
   },
   "outputs": [],
   "source": [
    "pre=xgb_model.predict(tfs_ca)"
   ]
  },
  {
   "cell_type": "code",
   "execution_count": 83,
   "metadata": {
    "colab": {},
    "colab_type": "code",
    "id": "lD_TVdeJEoM9"
   },
   "outputs": [],
   "source": [
    "df1[\"prediction_xgb\"]=pre"
   ]
  },
  {
   "cell_type": "code",
   "execution_count": 84,
   "metadata": {
    "colab": {
     "base_uri": "https://localhost:8080/",
     "height": 85
    },
    "colab_type": "code",
    "id": "OLOJt5GhEC3w",
    "outputId": "84f626e8-cf15-4660-e8be-4514e392d381"
   },
   "outputs": [
    {
     "data": {
      "text/plain": [
       "Index(['sentiment', 'negative_reason', 'text', 'at', 'hsh', 'clean_tweet',\n",
       "       'co', 'li', 'ndp', 'sentiment_le', 'prediction_xgb'],\n",
       "      dtype='object')"
      ]
     },
     "execution_count": 84,
     "metadata": {},
     "output_type": "execute_result"
    }
   ],
   "source": [
    "df1.columns"
   ]
  },
  {
   "cell_type": "code",
   "execution_count": 85,
   "metadata": {},
   "outputs": [
    {
     "name": "stderr",
     "output_type": "stream",
     "text": [
      "C:\\Users\\aditya\\Anaconda3\\lib\\site-packages\\ipykernel_launcher.py:45: UserWarning: Matplotlib is currently using module://ipykernel.pylab.backend_inline, which is a non-GUI backend, so cannot show the figure.\n"
     ]
    },
    {
     "data": {
      "image/png": "[encoded data removed]",
      "text/plain": [
       "<Figure size 1440x1080 with 6 Axes>"
      ]
     },
     "metadata": {
      "needs_background": "light"
     },
     "output_type": "display_data"
    }
   ],
   "source": [
    "# EXTRACTING DATA NEGATIVE SENTIMENT\n",
    "# print(df1.shape)\n",
    "indco=df1[df1.co==1].index\n",
    "dfco=df1.iloc[indco,:]\n",
    "# print(dfco.shape)\n",
    "\n",
    "# EXTRACTING DATA NEGATIVE SENTIMENT\n",
    "# print(df1.shape)\n",
    "indli=df1[df1.li==1].index\n",
    "dfli=df1.iloc[indli,:]\n",
    "# print(dfli.shape)\n",
    "\n",
    "# EXTRACTING DATA NEGATIVE SENTIMENT\n",
    "# print(df1.shape)\n",
    "indndp=df1[df1.ndp==1].index\n",
    "dfndp=df1.iloc[indndp,:]\n",
    "# print(dfndp.shape)\n",
    "\n",
    "\n",
    "fig, ax =plt.subplots(3,2,figsize=(20,15))\n",
    "\n",
    "sns.countplot(\"prediction_xgb\",data=dfco,ax=ax[0,0])\n",
    "sns.countplot(\"sentiment_le\",data=dfco,ax=ax[0,1])\n",
    "sns.countplot(\"prediction_xgb\",data=dfli,ax=ax[1,0])\n",
    "sns.countplot(\"sentiment_le\",data=dfli,ax=ax[1,1])\n",
    "sns.countplot(\"prediction_xgb\",data=dfndp,ax=ax[2,0])\n",
    "sns.countplot(\"sentiment_le\",data=dfndp,ax=ax[2,1])\n",
    "ax[0,0].set_xlabel(\"PREDICTION\")\n",
    "ax[0,1].set_xlabel(\"REAL SENTIMENT\")\n",
    "ax[1,0].set_xlabel(\"PREDICTION\")\n",
    "ax[1,1].set_xlabel(\"REAL SENTIMENT\")\n",
    "ax[2,0].set_xlabel(\"PREDICTION\")\n",
    "ax[2,1].set_xlabel(\"REAL SENTIMENT\")\n",
    "fig.text(0.84, 0.95,'1-POSITIVE', fontsize=15)\n",
    "fig.text(0.84, 0.92,'0-NEGATIVE', fontsize=15)\n",
    "fig.text(0.42, 0.95,'1-POSITIVE', fontsize=15)\n",
    "fig.text(0.42, 0.92,'0-NEGATIVE', fontsize=15)\n",
    "\n",
    "ax[0,0].title.set_text('CONSERVATIVE PARTY OF CANADA')\n",
    "ax[1,0].title.set_text('LIBERAL OF CANADA')\n",
    "ax[2,0].title.set_text('NEW DEMOCRATIC PARTY OF CANADA')\n",
    "\n",
    "fig.tight_layout()\n",
    "# fig.suptitle('CONSERVATIVE PARTY OF CANADA', fontsize=16)\n",
    "fig.show()\n",
    "\n"
   ]
  },
  {
   "cell_type": "markdown",
   "metadata": {},
   "source": [
    "# DISCUSSION:\n",
    "BY OBSERVING THE PLOTS WE CAN SEE THAT FOR CONSERVATIVE PARTY THE MODEL PREDICTION IS MORE OR LESS SIMILAR TO THE REAL SENTIMENT.BUT THE REAL SENTIMENTS HAVE MORE NEGATIVE VALUES COMPARED TO POSITIVE VALUES.\n",
    "\n",
    "FOR LIBERAL PARTY OUR MODEL PREDICTS LESS POSITIVE SENTIMENT COMPARED TO THE REAL SENTIMENTS \n",
    "\n",
    "FOR NEW DEMOCRATIC PARTY THE MODEL PREDICTIONS ARE NOT ACCURATE.\n",
    "\n",
    "EVENTHOUGH THE ACCURACY IS LOW (i.e approximately 50 percent) THE TWITTER DATA ANALYSIS GIVES A GENERAL INSITE ABOUT THE PEOPLES OPINION AND HELPS TO MAKE PREDICTIONS ABOUT UPCOMING ELECTIONS \n",
    "THE CHART BELOW DESCRIBES THE ELECTION RESULTS:(SOURCE:WIKIPEDIA)"
   ]
  },
  {
   "attachments": {
    "image.png": {
     "image/png": "[encoded data removed]"
    }
   },
   "cell_type": "markdown",
   "metadata": {},
   "source": [
    "![image.png](attachment:image.png)"
   ]
  },
  {
   "cell_type": "markdown",
   "metadata": {},
   "source": [
    "IT CAN BE SEEN THE THAT IN OUR PREDICTIONS THE CONSERVATIVE PARTY HAS THE MOST COUNTS OF POSITIVE SENTIMENT ABOUT 300 AND THE LIBERAL PARTY HAS 250 COUNTS OF POSITIVE SENTIMENT AND THE NDP HAS 100 COUNTS WHICH IS SIMILAR TO THE POPULAR VOTE SHARE MENTIONED IN THE CHART ABOVE.\n",
    "\n",
    "THIS SHOWS THAT TWITTER DATA ANALYSIS REALLY CAPTURES THE SENTIMENT OF THE PUBLIC EVEN THOUGH IT HAS A LOW ACCURACY.\n",
    "\n",
    "**ACCURACY:**   \n",
    "THE MODEL ACCURACY ACN BE IMPROVED BY TRAINING THE MODEL ON SIMILAR PAST CANADIAN ELECTION DATASET RATHER THAN A GENERAL SENTIMENT DATASET. THIS WILL HELP THE MODEL CAPTURE THE NEUANCES OF TWEETS BY THE CANADIAN POPULATION AND THUS PREDICTS BETTER \n"
   ]
  },
  {
   "cell_type": "markdown",
   "metadata": {
    "colab_type": "text",
    "id": "ztOcUQrJK6XX"
   },
   "source": [
    "# WORD FREQUENCY:"
   ]
  },
  {
   "cell_type": "code",
   "execution_count": 86,
   "metadata": {
    "colab": {
     "base_uri": "https://localhost:8080/",
     "height": 51
    },
    "colab_type": "code",
    "id": "fPelRMH2V8re",
    "outputId": "dad06e61-03c9-4d75-93a2-54b140f5a238"
   },
   "outputs": [
    {
     "name": "stdout",
     "output_type": "stream",
     "text": [
      "[1 0 1 1 1]\n",
      "(130669,)\n"
     ]
    }
   ],
   "source": [
    "dff.sentiment.unique()\n",
    "s_map={'Positive': 1, 'Negative' :0}\n",
    "target1=dff.sentiment.map(s_map)\n",
    "target1=np.array(target1)\n",
    "print(target1[0:5])\n",
    "print(np.shape(target1))\n",
    "dff[\"sentiment_le\"]=target1"
   ]
  },
  {
   "cell_type": "code",
   "execution_count": 87,
   "metadata": {
    "colab": {},
    "colab_type": "code",
    "id": "tHOltPtTVHOF"
   },
   "outputs": [],
   "source": [
    "feat=dff[\"clean_data\"]\n",
    "vectorizer = CountVectorizer(max_features=1000)\n",
    "array_WF_feat = vectorizer.fit_transform(feat)"
   ]
  },
  {
   "cell_type": "code",
   "execution_count": 88,
   "metadata": {
    "colab": {
     "base_uri": "https://localhost:8080/",
     "height": 34
    },
    "colab_type": "code",
    "id": "tvfOv0vMVvJ_",
    "outputId": "633ae36b-c4b1-4b25-dc00-354b0eece4c5"
   },
   "outputs": [
    {
     "name": "stdout",
     "output_type": "stream",
     "text": [
      "(98001, 1000) (32668, 1000)\n"
     ]
    }
   ],
   "source": [
    "xtrain,xtest,ytrain,ytest=train_test_split(array_WF_feat,target1,random_state=42)\n",
    "print(np.shape(xtrain),np.shape(xtest))"
   ]
  },
  {
   "cell_type": "markdown",
   "metadata": {
    "colab_type": "text",
    "id": "x--A6p8W0nlC"
   },
   "source": [
    " **WE FIT THE WORD FREQUENCY FEATURE VECTOR WITH THE FOLLOWING MODELS\n",
    " LOGISTIC REGRESSION      \n",
    " MULTINOMIAL NAIVE BAYES     \n",
    " KNN  \n",
    " SVM   \n",
    " DECISION TREES  \n",
    " RANDOM FOREST     \n",
    " GRADIENT BOOSTING    \n",
    " XGBOOST**  "
   ]
  },
  {
   "cell_type": "markdown",
   "metadata": {
    "colab_type": "text",
    "id": "IQ_R5BrJ0nlR"
   },
   "source": [
    "# HYPER PARAMETER TUNING: \n",
    "**HYPER PARAMETER TUNING WITH CROSSVALIDATION** IS DONE FOR ALL THESE MODELS AND THE BEST MODEL IS SELECTED FOR ACCURACY CALCULATION.\n",
    "\n",
    "THE HYPERPARAMETER TUNING PART OF THE CODE HAS BEEN CONVERTED TO COMMENTS SINCE IT TAKES LONGER TIME TO RUN\n",
    "\n",
    "THEY CAN BE UNCOMMENTED AND CHECKED IF NEEDED\n",
    "\n"
   ]
  },
  {
   "cell_type": "code",
   "execution_count": 89,
   "metadata": {
    "colab": {},
    "colab_type": "code",
    "id": "rIzl-q0RMAaL"
   },
   "outputs": [],
   "source": [
    "# #List Hyperparameters that we want to tune.\n",
    "# solver= ['newton-cg','lbfgs','liblinear', 'sag', 'saga']\n",
    "# C = [0.001,0.01,0.1,1]\n",
    "\n",
    "# #Convert to dictionary\n",
    "# hyperparameters = dict(solver=solver,C=C)\n",
    "\n",
    "# #Create new model\n",
    "# lr=LogisticRegression(max_iter=300)\n",
    "\n",
    "# #Use GridSearch\n",
    "# clf = GridSearchCV(lr, hyperparameters, cv=5)\n",
    "\n",
    "# #Fit the model\n",
    "# lr_best_model = clf.fit(xtrain,ytrain)\n",
    "\n",
    "# #Print The value of best Hyperparameters\n",
    "# print('Best solver:', lr_best_model.best_estimator_.get_params()['solver'])\n",
    "# print('Best C:', lr_best_model.best_estimator_.get_params()['C'])\n",
    "# print('Best Model score:', lr_best_model.best_score_*100)\n",
    "# print('\\n Best model:',lr_best_model.best_estimator_)"
   ]
  },
  {
   "cell_type": "markdown",
   "metadata": {
    "colab_type": "text",
    "id": "5vpCC5j3Ogek"
   },
   "source": [
    "Best solver: newton-cg  \n",
    "Best C: 0.1   \n",
    "Best Model score: 74.179853016662   \n",
    "\n",
    " Best model: LogisticRegression(C=0.1, class_weight=None, dual=False, fit_intercept=True,\n",
    "                   intercept_scaling=1, l1_ratio=None, max_iter=300,\n",
    "                   multi_class='auto', n_jobs=None, penalty='l2',\n",
    "                   random_state=None, solver='newton-cg', tol=0.0001, verbose=0,\n",
    "                   warm_start=False)\n"
   ]
  },
  {
   "cell_type": "code",
   "execution_count": 90,
   "metadata": {
    "colab": {
     "base_uri": "https://localhost:8080/",
     "height": 85
    },
    "colab_type": "code",
    "id": "Hi9S_v6Qc30B",
    "outputId": "33963b48-b960-4ba0-abd7-c4b8acacecbb"
   },
   "outputs": [
    {
     "name": "stdout",
     "output_type": "stream",
     "text": [
      "\n",
      "LOGISTIC REGRESSION\n",
      "TRAINING ACCURACY 74.92\n",
      "TESTING ACCURACY 74.07\n"
     ]
    }
   ],
   "source": [
    "#LOGISTIC REGRESSION\n",
    "print(\"\\nLOGISTIC REGRESSION\")\n",
    "wf_lr=LogisticRegression(C=0.1,solver='newton-cg')\n",
    "wf_lr_model=wf_lr.fit(xtrain,ytrain)\n",
    "wf_lr_pred=wf_lr.predict(xtrain)\n",
    "print(\"TRAINING ACCURACY\",round(accuracy_score(wf_lr_pred,ytrain)*100,2))\n",
    "wf_lr_pred=wf_lr.predict(xtest)\n",
    "print(\"TESTING ACCURACY\",round(accuracy_score(wf_lr_pred,ytest)*100,2))"
   ]
  },
  {
   "cell_type": "code",
   "execution_count": 91,
   "metadata": {
    "colab": {
     "base_uri": "https://localhost:8080/",
     "height": 85
    },
    "colab_type": "code",
    "id": "YNPAV6wMfCzm",
    "outputId": "85699968-d2b1-47d8-88d9-5cd3f7d0d825"
   },
   "outputs": [
    {
     "name": "stdout",
     "output_type": "stream",
     "text": [
      "\n",
      "MULTINOMIAL NAIVE BAYES\n",
      "TRAINING ACCURACY 73.21\n",
      "TESTING ACCURACY 72.42\n"
     ]
    }
   ],
   "source": [
    "#MULTINOMIAL NAIVE BAYES\n",
    "print(\"\\nMULTINOMIAL NAIVE BAYES\")\n",
    "wf_mnb=MultinomialNB()\n",
    "wf_mnb=wf_mnb.fit(xtrain,ytrain)\n",
    "wf_mnb_pred=wf_mnb.predict(xtrain)\n",
    "print(\"TRAINING ACCURACY\",round(accuracy_score(wf_mnb_pred,ytrain)*100,2))\n",
    "wf_mnb_pred=wf_mnb.predict(xtest)\n",
    "print(\"TESTING ACCURACY\",round(accuracy_score(wf_mnb_pred,ytest)*100,2))"
   ]
  },
  {
   "cell_type": "code",
   "execution_count": 92,
   "metadata": {
    "colab": {},
    "colab_type": "code",
    "id": "VLmDUghfMGHG"
   },
   "outputs": [],
   "source": [
    "# #List Hyperparameters that we want to tune.\n",
    "# n_neighbors = list(range(1,5))\n",
    "\n",
    "# #Convert to dictionary\n",
    "# hyperparameters = dict( n_neighbors=n_neighbors)\n",
    "\n",
    "# #Create new KNN object\n",
    "# knn = KNeighborsClassifier()\n",
    "\n",
    "# #Use GridSearch\n",
    "# clf = GridSearchCV(knn, hyperparameters, cv=5)\n",
    "\n",
    "# #Fit the model\n",
    "# knn_best_model = clf.fit(xtrain,ytrain)\n",
    "\n",
    "# #Print The value of best Hyperparameters\n",
    "# print('Best n_neighbors:', knn_best_model.best_estimator_.get_params()['n_neighbors'])\n",
    "# print('Best Model score:', knn_best_model.best_score_*100)\n",
    "# print('\\n Best model:',knn_best_model.best_estimator_)"
   ]
  },
  {
   "cell_type": "markdown",
   "metadata": {
    "colab_type": "text",
    "id": "IUrIKFtgOkyh"
   },
   "source": [
    "Best n_neighbors: 4  \n",
    "Best Model score: 66.58605600089126  \n",
    "\n",
    " Best model: KNeighborsClassifier(algorithm='auto', leaf_size=30, metric='minkowski',\n",
    "                     metric_params=None, n_jobs=None, n_neighbors=4, p=2,\n",
    "                     weights='uniform')"
   ]
  },
  {
   "cell_type": "code",
   "execution_count": 93,
   "metadata": {
    "colab": {
     "base_uri": "https://localhost:8080/",
     "height": 85
    },
    "colab_type": "code",
    "id": "Jm3en0kqfCz3",
    "outputId": "5417f977-2504-4afd-e140-f22ff3eb57bf"
   },
   "outputs": [
    {
     "name": "stdout",
     "output_type": "stream",
     "text": [
      "\n",
      "K NEAREST NEIGHBOUR-KNN\n",
      "TRAINING ACCURACY 77.71\n",
      "TESTING ACCURACY 66.39\n"
     ]
    }
   ],
   "source": [
    "# K NEAREST NEIGHBOUR-KNN\n",
    "print(\"\\nK NEAREST NEIGHBOUR-KNN\")\n",
    "wf_knn=KNeighborsClassifier(n_neighbors=4)\n",
    "wf_knn.fit(xtrain,ytrain)\n",
    "pred=wf_knn.predict(xtrain)\n",
    "print(\"TRAINING ACCURACY\",round(accuracy_score(pred,ytrain)*100,2))\n",
    "pred=wf_knn.predict(xtest)\n",
    "print(\"TESTING ACCURACY\",round(accuracy_score(pred,ytest)*100,2))"
   ]
  },
  {
   "cell_type": "markdown",
   "metadata": {
    "colab_type": "text",
    "id": "y1alBJqL0nlY"
   },
   "source": [
    "**SVM** IS IMPLEMENTED USING SGD **(Stochastic Gradient Descent)** WITH **HINGE LOSS** "
   ]
  },
  {
   "cell_type": "code",
   "execution_count": 94,
   "metadata": {
    "colab": {},
    "colab_type": "code",
    "id": "Yq0COJ1zMLDX"
   },
   "outputs": [],
   "source": [
    "# #List Hyperparameters that we want to tune.\n",
    "# a = [0.0001,0.001,0.01,0.1,1]\n",
    "\n",
    "# #Convert to dictionary\n",
    "# hyperparameters = dict(alpha=a)\n",
    "\n",
    "# #Create new model\n",
    "# sgd=SGDClassifier(loss='hinge')\n",
    "\n",
    "# #Use GridSearch\n",
    "# clf = GridSearchCV(sgd, hyperparameters, cv=5)\n",
    "\n",
    "# #Fit the model\n",
    "# sgd_best_model = clf.fit(xtrain,ytrain)\n",
    "\n",
    "# #Print The value of best Hyperparameters\n",
    "# print('Best Learning Rate:', sgd_best_model.best_estimator_.get_params()['alpha'])\n",
    "# print('Best Model score:', sgd_best_model.best_score_*100)\n",
    "# print('\\n Best model:',sgd_best_model.best_estimator_)"
   ]
  },
  {
   "cell_type": "markdown",
   "metadata": {
    "colab_type": "text",
    "id": "Ub6lH2KLO03L"
   },
   "source": [
    "Best Learning Rate: 0.0001   \n",
    "Best Model score: 74.0584248617053   \n",
    "\n",
    " Best model: SGDClassifier(alpha=0.0001, average=False, class_weight=None,\n",
    "              early_stopping=False, epsilon=0.1, eta0=0.0, fit_intercept=True,\n",
    "              l1_ratio=0.15, learning_rate='optimal', loss='hinge',\n",
    "              max_iter=1000, n_iter_no_change=5, n_jobs=None, penalty='l2',\n",
    "              power_t=0.5, random_state=None, shuffle=True, tol=0.001,\n",
    "              validation_fraction=0.1, verbose=0, warm_start=False)"
   ]
  },
  {
   "cell_type": "code",
   "execution_count": 95,
   "metadata": {
    "colab": {
     "base_uri": "https://localhost:8080/",
     "height": 85
    },
    "colab_type": "code",
    "id": "CB3BLSWFfCz-",
    "outputId": "45223680-a845-4463-9933-87cc5e2701ac"
   },
   "outputs": [
    {
     "name": "stdout",
     "output_type": "stream",
     "text": [
      "\n",
      "SVM-SGD\n",
      "TRAINING ACCURACY 74.88\n",
      "TESTING ACCURACY 73.83\n"
     ]
    }
   ],
   "source": [
    "# SVM-SGD\n",
    "print(\"\\nSVM-SGD\")\n",
    "wf_sgd=SGDClassifier(alpha=0.0001, loss='hinge')\n",
    "wf_sgd.fit(xtrain,ytrain)\n",
    "pred=wf_sgd.predict(xtrain)\n",
    "print(\"TRAINING ACCURACY\",round(accuracy_score(pred,ytrain)*100,2))\n",
    "pred=wf_sgd.predict(xtest)\n",
    "print(\"TESTING ACCURACY\",round(accuracy_score(pred,ytest)*100,2))"
   ]
  },
  {
   "cell_type": "code",
   "execution_count": 96,
   "metadata": {
    "colab": {},
    "colab_type": "code",
    "id": "pTVmgj1nMVqm"
   },
   "outputs": [],
   "source": [
    "# #List Hyperparameters that we want to tune.\n",
    "# criterion=['gini', 'entropy']\n",
    "# splitter=['best', 'random']\n",
    "\n",
    "# #Convert to dictionary\n",
    "# hyperparameters = dict(criterion=criterion,splitter=splitter)\n",
    "\n",
    "# #Create a new model\n",
    "# dt=DecisionTreeClassifier()\n",
    "\n",
    "# #Use GridSearch\n",
    "# clf = GridSearchCV(dt, hyperparameters, cv=5)\n",
    "\n",
    "# #Fit the model\n",
    "# dt_best_model = clf.fit(xtrain,ytrain)\n",
    "\n",
    "# #Print The value of best Hyperparameters\n",
    "# print('Best Criterion:', dt_best_model.best_estimator_.get_params()['criterion'])\n",
    "# print('Best Splitter:', dt_best_model.best_estimator_.get_params()['splitter'])\n",
    "\n",
    "# print('Best Model score:', dt_best_model.best_score_*100)\n",
    "# print('\\n Best model:',dt_best_model.best_estimator_)"
   ]
  },
  {
   "cell_type": "markdown",
   "metadata": {
    "colab_type": "text",
    "id": "a_GiYjzjO9NK"
   },
   "source": [
    "Best Criterion: entropy  \n",
    "Best Splitter: random  \n",
    "Best Model score: 68.59725789708772  \n",
    "\n",
    " Best model: DecisionTreeClassifier(ccp_alpha=0.0, class_weight=None, criterion='entropy',\n",
    "                       max_depth=None, max_features=None, max_leaf_nodes=None,\n",
    "                       min_impurity_decrease=0.0, min_impurity_split=None,\n",
    "                       min_samples_leaf=1, min_samples_split=2,\n",
    "                       min_weight_fraction_leaf=0.0, presort='deprecated',\n",
    "                       random_state=None, splitter='random')"
   ]
  },
  {
   "cell_type": "code",
   "execution_count": 97,
   "metadata": {
    "colab": {
     "base_uri": "https://localhost:8080/",
     "height": 85
    },
    "colab_type": "code",
    "id": "RzMobdNJfC0F",
    "outputId": "811b5dc8-9ce0-457e-9f2a-42529f8779c6"
   },
   "outputs": [
    {
     "name": "stdout",
     "output_type": "stream",
     "text": [
      "\n",
      "DECISION TREES\n",
      "TRAINING ACCURACY 95.81\n",
      "TESTING ACCURACY 67.69\n"
     ]
    }
   ],
   "source": [
    "# DECISION TREES\n",
    "print(\"\\nDECISION TREES\")\n",
    "wf_dt=DecisionTreeClassifier(criterion='entropy',splitter='random')\n",
    "wf_dt.fit(xtrain,ytrain)\n",
    "pred=wf_dt.predict(xtrain)\n",
    "print(\"TRAINING ACCURACY\",round(accuracy_score(pred,ytrain)*100,2))\n",
    "pred=wf_dt.predict(xtest)\n",
    "print(\"TESTING ACCURACY\",round(accuracy_score(pred,ytest)*100,2))"
   ]
  },
  {
   "cell_type": "code",
   "execution_count": 98,
   "metadata": {
    "colab": {},
    "colab_type": "code",
    "id": "RtBWgQYjMeqS"
   },
   "outputs": [],
   "source": [
    "# #List Hyperparameters that we want to tune.\n",
    "# n_estimators=[25,50,75,100]\n",
    "\n",
    "# #Convert to dictionary\n",
    "# hyperparameters = dict(n_estimators=n_estimators)\n",
    "\n",
    "# #Create new model\n",
    "# rf=RandomForestClassifier()\n",
    "\n",
    "# #Use GridSearch\n",
    "# clf = GridSearchCV(rf, hyperparameters, cv=2)\n",
    "\n",
    "# #Fit the model\n",
    "# rf_best_model = clf.fit(xtrain,ytrain)\n",
    "\n",
    "# #Print The value of best Hyperparameters\n",
    "# print('Best Estimator Count:', rf_best_model.best_estimator_.get_params()['n_estimators'])\n",
    "# print('Best Model score:', rf_best_model.best_score_*100)\n",
    "# print('\\n Best model:',rf_best_model.best_estimator_)"
   ]
  },
  {
   "cell_type": "markdown",
   "metadata": {
    "colab_type": "text",
    "id": "vdCC0ZZLO-dy"
   },
   "source": [
    "Best Estimator Count: 100  \n",
    "Best Model score: 72.0594673203254  \n",
    "\n",
    " Best model: RandomForestClassifier(bootstrap=True, ccp_alpha=0.0, class_weight=None,\n",
    "                       criterion='gini', max_depth=None, max_features='auto',\n",
    "                       max_leaf_nodes=None, max_samples=None,\n",
    "                       min_impurity_decrease=0.0, min_impurity_split=None,\n",
    "                       min_samples_leaf=1, min_samples_split=2,\n",
    "                       min_weight_fraction_leaf=0.0, n_estimators=100,\n",
    "                       n_jobs=None, oob_score=False, random_state=None,\n",
    "                       verbose=0, warm_start=False)"
   ]
  },
  {
   "cell_type": "code",
   "execution_count": 99,
   "metadata": {
    "colab": {
     "base_uri": "https://localhost:8080/",
     "height": 85
    },
    "colab_type": "code",
    "id": "2_RCMU5BfC0L",
    "outputId": "d1d764c9-0650-42be-853a-15826bba2e82"
   },
   "outputs": [
    {
     "name": "stdout",
     "output_type": "stream",
     "text": [
      "\n",
      "RANDOM FOREST\n",
      "TRAINING ACCURACY 95.81\n",
      "TESTING ACCURACY 71.84\n"
     ]
    }
   ],
   "source": [
    "# RANDOM FOREST\n",
    "print(\"\\nRANDOM FOREST\")\n",
    "wf_rf=RandomForestClassifier(n_estimators=100)\n",
    "wf_rf.fit(xtrain,ytrain)\n",
    "pred=wf_rf.predict(xtrain)\n",
    "print(\"TRAINING ACCURACY\",round(accuracy_score(pred,ytrain)*100,2))\n",
    "pred=wf_rf.predict(xtest)\n",
    "print(\"TESTING ACCURACY\",round(accuracy_score(pred,ytest)*100,2))"
   ]
  },
  {
   "cell_type": "code",
   "execution_count": 100,
   "metadata": {
    "colab": {},
    "colab_type": "code",
    "id": "0ETx0EnQMn9f"
   },
   "outputs": [],
   "source": [
    "# #List Hyperparameters that we want to tune.\n",
    "# n_estimators=[25,50,75,100]\n",
    "\n",
    "# #Convert to dictionary\n",
    "# hyperparameters = dict(n_estimators=n_estimators)\n",
    "\n",
    "# #Create new model\n",
    "# gb=GradientBoostingClassifier()\n",
    "\n",
    "# #Use GridSearch\n",
    "# clf = GridSearchCV(gb, hyperparameters, cv=2)\n",
    "\n",
    "# #Fit the model\n",
    "# gb_best_model = clf.fit(xtrain,ytrain)\n",
    "\n",
    "# #Print The value of best Hyperparameters\n",
    "# print('Best Estimator Count:', gb_best_model.best_estimator_.get_params()['n_estimators'])\n",
    "# print('Best Model score:', gb_best_model.best_score_*100)\n",
    "# print('\\n Best model:',gb_best_model.best_estimator_)"
   ]
  },
  {
   "cell_type": "markdown",
   "metadata": {
    "colab_type": "text",
    "id": "1IuULPZKPALr"
   },
   "source": [
    "Best Estimator Count: 100  \n",
    "Best Model score: 66.50033799810001  \n",
    "\n",
    " Best model: GradientBoostingClassifier(ccp_alpha=0.0, criterion='friedman_mse', init=None,\n",
    "                           learning_rate=0.1, loss='deviance', max_depth=3,\n",
    "                           max_features=None, max_leaf_nodes=None,\n",
    "                           min_impurity_decrease=0.0, min_impurity_split=None,\n",
    "                           min_samples_leaf=1, min_samples_split=2,\n",
    "                           min_weight_fraction_leaf=0.0, n_estimators=100,\n",
    "                           n_iter_no_change=None, presort='deprecated',\n",
    "                           random_state=None, subsample=1.0, tol=0.0001,\n",
    "                           validation_fraction=0.1, verbose=0,\n",
    "                           warm_start=False)"
   ]
  },
  {
   "cell_type": "code",
   "execution_count": 101,
   "metadata": {
    "colab": {
     "base_uri": "https://localhost:8080/",
     "height": 85
    },
    "colab_type": "code",
    "id": "Va1HRWHkfC0P",
    "outputId": "d8dd1c6d-d7f4-414c-b018-bcdfda7bdf45"
   },
   "outputs": [
    {
     "name": "stdout",
     "output_type": "stream",
     "text": [
      "\n",
      "GRADIENT BOOSTING\n",
      "TRAINING ACCURACY 66.88\n",
      "TESTING ACCURACY 66.55\n"
     ]
    }
   ],
   "source": [
    "# GRADIENT BOOSTING\n",
    "print(\"\\nGRADIENT BOOSTING\")\n",
    "wf_gb=GradientBoostingClassifier(n_estimators=100)\n",
    "wf_gb.fit(xtrain,ytrain)\n",
    "pred=wf_gb.predict(xtrain)\n",
    "print(\"TRAINING ACCURACY\",round(accuracy_score(pred,ytrain)*100,2))\n",
    "pred=wf_gb.predict(xtest)\n",
    "print(\"TESTING ACCURACY\",round(accuracy_score(pred,ytest)*100,2))"
   ]
  },
  {
   "cell_type": "code",
   "execution_count": 102,
   "metadata": {
    "colab": {},
    "colab_type": "code",
    "id": "MssB05HoBy3Z"
   },
   "outputs": [],
   "source": [
    "# #List Hyperparameters that we want to tune.\n",
    "# n_estimators=[25,50,100]\n",
    "\n",
    "# #Convert to dictionary\n",
    "# hyperparameters = dict(n_estimators=n_estimators)\n",
    "\n",
    "# #Create new model\n",
    "# wf_xgb = XGBClassifier()\n",
    "\n",
    "# #Use GridSearch\n",
    "# clf = GridSearchCV(xgb, hyperparameters, cv=2)\n",
    "\n",
    "# #Fit the model\n",
    "# wf_xgb_best_model = clf.fit(xtrain,ytrain)\n",
    "\n",
    "# #Print The value of best Hyperparameters\n",
    "# print('Best Estimator Count:', wf_xgb_best_model.best_estimator_.get_params()['n_estimators'])\n",
    "# print('Best Model score:', wf_xgb_best_model.best_score_*100)\n",
    "# print('\\n Best model:',wf_xgb_best_model.best_estimator_)"
   ]
  },
  {
   "cell_type": "markdown",
   "metadata": {
    "colab_type": "text",
    "id": "AclD8_wIBy3h"
   },
   "source": [
    "Best Estimator Count: 100  \n",
    "Best Model score: 72.99517283903828   \n",
    "\n",
    " Best model: XGBClassifier(base_score=0.5, booster=None, colsample_bylevel=1,\n",
    "              colsample_bynode=1, colsample_bytree=1, gamma=0, gpu_id=-1,\n",
    "              importance_type='gain', interaction_constraints=None,\n",
    "              learning_rate=0.300000012, max_delta_step=0, max_depth=6,\n",
    "              min_child_weight=1, missing=nan, monotone_constraints=None,\n",
    "              n_estimators=100, n_jobs=0, num_parallel_tree=1,\n",
    "              objective='binary:logistic', random_state=0, reg_alpha=0,\n",
    "              reg_lambda=1, scale_pos_weight=1, subsample=1, tree_method=None,\n",
    "              validate_parameters=False, verbosity=None)"
   ]
  },
  {
   "cell_type": "code",
   "execution_count": 103,
   "metadata": {
    "colab": {
     "base_uri": "https://localhost:8080/",
     "height": 68
    },
    "colab_type": "code",
    "id": "omWNj20UBy3j",
    "outputId": "9b710c4d-2f1e-409e-aa33-555582478630"
   },
   "outputs": [
    {
     "name": "stdout",
     "output_type": "stream",
     "text": [
      "XGBOOST\n",
      "TRAINING ACCURACY 74.7\n",
      "TESTING ACCURACY 73.09\n"
     ]
    }
   ],
   "source": [
    "# xgb_model = XGBClassifier()\n",
    "wf_xgb_model=XGBClassifier(n_estimators=100)\n",
    "wf_xgb_model.fit(xtrain,ytrain)\n",
    "print(\"XGBOOST\")\n",
    "pred=wf_xgb_model.predict(xtrain)\n",
    "print(\"TRAINING ACCURACY\",round(accuracy_score(pred,ytrain)*100,2))\n",
    "pred=wf_xgb_model.predict(xtest)\n",
    "print(\"TESTING ACCURACY\",round(accuracy_score(pred,ytest)*100,2))"
   ]
  },
  {
   "cell_type": "markdown",
   "metadata": {
    "colab_type": "text",
    "id": "zRCSGy4KWch9"
   },
   "source": [
    "# SENTIMENT DATASET ACCURACIES:\n",
    "\n",
    "**LOGISTIC REGRESSION**   \n",
    "TRAINING ACCURACY 74.92  \n",
    "TESTING ACCURACY 74.07  \n",
    "\n",
    "**MULTINOMIAL NAIVE BAYES**  \n",
    "TRAINING ACCURACY 73.21  \n",
    "TESTING ACCURACY 72.42  \n",
    "\n",
    "**K NEAREST NEIGHBOUR-KNN**    \n",
    "TRAINING ACCURACY 77.71  \n",
    "TESTING ACCURACY 66.39  \n",
    "\n",
    "**SVM-SGD** \n",
    "TRAINING ACCURACY 74.89  \n",
    "TESTING ACCURACY 73.82  \n",
    "\n",
    "\n",
    "**DECISION TREES**  \n",
    "TRAINING ACCURACY 95.81  \n",
    "TESTING ACCURACY 67.85  \n",
    "\n",
    "**RANDOM FOREST**  \n",
    "TRAINING ACCURACY 95.81  \n",
    "TESTING ACCURACY 71.99  \n",
    "\n",
    "**GRADIENT BOOSTING**  \n",
    "TRAINING ACCURACY 66.88  \n",
    "TESTING ACCURACY 66.55  \n",
    "\n",
    "**XGBOOST**  \n",
    "TRAINING ACCURACY 74.7  \n",
    "TESTING ACCURACY 73.09  \n",
    "\n",
    "**WE CAN SEE THAT ALMOST ALL MODELS HAVE TESTING ACCURACY IN THE 70'S**     \n",
    " \n",
    "**WE CAN ALSO SEE THAT THE RANDOM FOREST AND DECISON TREES HAVE VERY HIGH TRAINING ACCURACIES COMPARED TO OTHER MODELS EVEN AFTER HYPERPARAMETER TUNING WITH CROSS VALIDATION**\n",
    "\n"
   ]
  },
  {
   "cell_type": "markdown",
   "metadata": {
    "colab_type": "text",
    "id": "kC3PzWg2gOW3"
   },
   "source": [
    "# CANADIAN DATASET:"
   ]
  },
  {
   "cell_type": "markdown",
   "metadata": {
    "colab_type": "text",
    "id": "0dVB_8qs1n4q"
   },
   "source": [
    "**LETS IMPLEMENT THE TRAINED MODEL IN CANADIAN DATASET AND CHECK THE ACCURACY**"
   ]
  },
  {
   "cell_type": "code",
   "execution_count": 104,
   "metadata": {
    "colab": {
     "base_uri": "https://localhost:8080/",
     "height": 136
    },
    "colab_type": "code",
    "id": "uCcuSC_-IIew",
    "outputId": "d2846a85-d96e-4f6e-bcb5-87c7de65d8c2"
   },
   "outputs": [
    {
     "name": "stdout",
     "output_type": "stream",
     "text": [
      "0    0\n",
      "1    1\n",
      "2    0\n",
      "3    1\n",
      "4    0\n",
      "Name: sentiment, dtype: int64\n",
      "(2133,)\n"
     ]
    }
   ],
   "source": [
    "ct1=df1[\"clean_tweet\"]\n",
    "s_map={'Positive': 1, 'Negative' :0}\n",
    "tgt1=df1.sentiment.map(s_map)\n",
    "print(tgt1[0:5])\n",
    "print(np.shape(tgt1))\n"
   ]
  },
  {
   "cell_type": "code",
   "execution_count": 105,
   "metadata": {
    "colab": {},
    "colab_type": "code",
    "id": "oSA8MgD7Io-b"
   },
   "outputs": [],
   "source": [
    "vectorizer = CountVectorizer(max_features=1000)\n",
    "array_WF_feat = vectorizer.fit_transform(ct1)"
   ]
  },
  {
   "cell_type": "code",
   "execution_count": 106,
   "metadata": {
    "colab": {
     "base_uri": "https://localhost:8080/",
     "height": 408
    },
    "colab_type": "code",
    "id": "l6heDJSOgOXC",
    "outputId": "6bb54445-a360-45ec-c777-20d81c40f4cf"
   },
   "outputs": [
    {
     "name": "stdout",
     "output_type": "stream",
     "text": [
      "LOGISTIC REGRESSION\n",
      "CANADIAN DATASET ACCURACY 51.29\n",
      "\n",
      "NAIVE BAYES\n",
      "CANADIAN DATASET ACCURACY 50.63\n",
      "\n",
      "KNN\n",
      "CANADIAN DATASET ACCURACY 50.3\n",
      "\n",
      "SVM-SGD\n",
      "CANADIAN DATASET ACCURACY 50.63\n",
      "\n",
      "DECISION TREES\n",
      "CANADIAN DATASET ACCURACY 51.24\n",
      "\n",
      "RANDOM FOREST\n",
      "CANADIAN DATASET ACCURACY 51.71\n",
      "\n",
      "GRADIENT BOOSTING\n",
      "CANADIAN DATASET ACCURACY 49.13\n",
      "\n",
      "XGBOOST\n",
      "CANADIAN DATASET ACCURACY 54.29\n"
     ]
    }
   ],
   "source": [
    "wf_lr_ca_pred=wf_lr.predict(array_WF_feat)\n",
    "print(\"LOGISTIC REGRESSION\")\n",
    "print(\"CANADIAN DATASET ACCURACY\",round(accuracy_score(tgt1,wf_lr_ca_pred)*100,2))\n",
    "wf_mnb_ca_pred=wf_mnb.predict(array_WF_feat)\n",
    "print(\"\\nNAIVE BAYES\")\n",
    "print(\"CANADIAN DATASET ACCURACY\",round(accuracy_score(tgt1,wf_mnb_ca_pred)*100,2))\n",
    "wf_knn_ca_pred=wf_knn.predict(array_WF_feat)\n",
    "print(\"\\nKNN\")\n",
    "print(\"CANADIAN DATASET ACCURACY\",round(accuracy_score(tgt1,wf_knn_ca_pred)*100,2))\n",
    "wf_sgd_ca_pred=wf_mnb.predict(array_WF_feat)\n",
    "print(\"\\nSVM-SGD\")\n",
    "print(\"CANADIAN DATASET ACCURACY\",round(accuracy_score(tgt1,wf_sgd_ca_pred)*100,2))\n",
    "wf_dt_ca_pred=wf_dt.predict(array_WF_feat)\n",
    "print(\"\\nDECISION TREES\")\n",
    "print(\"CANADIAN DATASET ACCURACY\",round(accuracy_score(tgt1,wf_dt_ca_pred)*100,2))\n",
    "wf_rf_ca_pred=wf_rf.predict(array_WF_feat)\n",
    "print(\"\\nRANDOM FOREST\")\n",
    "print(\"CANADIAN DATASET ACCURACY\",round(accuracy_score(tgt1,wf_rf_ca_pred)*100,2))\n",
    "wf_gb_ca_pred=wf_gb.predict(array_WF_feat)\n",
    "print(\"\\nGRADIENT BOOSTING\")\n",
    "print(\"CANADIAN DATASET ACCURACY\",round(accuracy_score(tgt1,wf_gb_ca_pred)*100,2))\n",
    "wf_xgb_ca_pred=wf_xgb_model.predict(array_WF_feat)\n",
    "print(\"\\nXGBOOST\")\n",
    "print(\"CANADIAN DATASET ACCURACY\",round(accuracy_score(tgt1,wf_xgb_ca_pred)*100,2))"
   ]
  },
  {
   "cell_type": "markdown",
   "metadata": {
    "colab_type": "text",
    "id": "LZuOR_GJJSlY"
   },
   "source": [
    "# CANADIAN DATASET ACCURACY:\n",
    "\n",
    "**LOGISTIC REGRESSION**  \n",
    "CANADIAN DATASET ACCURACY 51.29  \n",
    "\n",
    "**NAIVE BAYES**  \n",
    "CANADIAN DATASET ACCURACY 50.63  \n",
    "\n",
    "**KNN**  \n",
    "CANADIAN DATASET ACCURACY 50.3  \n",
    "\n",
    "**SVM-SGD**  \n",
    "CANADIAN DATASET ACCURACY 50.63  \n",
    "\n",
    "**DECISION TREES**  \n",
    "CANADIAN DATASET ACCURACY 51.66  \n",
    "\n",
    "**RANDOM FOREST**  \n",
    "CANADIAN DATASET ACCURACY 51.15  \n",
    "\n",
    "**GRADIENT BOOSTING**  \n",
    "CANADIAN DATASET ACCURACY 49.13  \n",
    "\n",
    "**XGBOOST**  \n",
    "CANADIAN DATASET ACCURACY 54.29  "
   ]
  },
  {
   "cell_type": "markdown",
   "metadata": {
    "colab_type": "text",
    "id": "3FrNkm4oYRfI"
   },
   "source": [
    "# XGBOOST ALGORITHM HAS THE BEST PERFORMANCE"
   ]
  },
  {
   "cell_type": "code",
   "execution_count": 107,
   "metadata": {
    "colab": {},
    "colab_type": "code",
    "id": "q2lEPNygYRfT"
   },
   "outputs": [],
   "source": [
    "pre=wf_xgb_model.predict(array_WF_feat)"
   ]
  },
  {
   "cell_type": "code",
   "execution_count": 108,
   "metadata": {
    "colab": {},
    "colab_type": "code",
    "id": "GTXqY0oZYRfh"
   },
   "outputs": [],
   "source": [
    "df1[\"prediction_xgb1\"]=pre"
   ]
  },
  {
   "cell_type": "code",
   "execution_count": 109,
   "metadata": {
    "colab": {
     "base_uri": "https://localhost:8080/",
     "height": 85
    },
    "colab_type": "code",
    "id": "Omr9wnDaYRfx",
    "outputId": "93dff779-8e2d-4a35-84c3-0598bbfe3d5c"
   },
   "outputs": [
    {
     "data": {
      "text/plain": [
       "Index(['sentiment', 'negative_reason', 'text', 'at', 'hsh', 'clean_tweet',\n",
       "       'co', 'li', 'ndp', 'sentiment_le', 'prediction_xgb', 'prediction_xgb1'],\n",
       "      dtype='object')"
      ]
     },
     "execution_count": 109,
     "metadata": {},
     "output_type": "execute_result"
    }
   ],
   "source": [
    "df1.columns"
   ]
  },
  {
   "cell_type": "code",
   "execution_count": 110,
   "metadata": {},
   "outputs": [
    {
     "name": "stderr",
     "output_type": "stream",
     "text": [
      "C:\\Users\\aditya\\Anaconda3\\lib\\site-packages\\ipykernel_launcher.py:45: UserWarning: Matplotlib is currently using module://ipykernel.pylab.backend_inline, which is a non-GUI backend, so cannot show the figure.\n"
     ]
    },
    {
     "data": {
      "image/png": "[encoded data removed]",
      "text/plain": [
       "<Figure size 1440x1080 with 6 Axes>"
      ]
     },
     "metadata": {
      "needs_background": "light"
     },
     "output_type": "display_data"
    }
   ],
   "source": [
    "# EXTRACTING DATA NEGATIVE SENTIMENT\n",
    "# print(df1.shape)\n",
    "indco=df1[df1.co==1].index\n",
    "dfco=df1.iloc[indco,:]\n",
    "# print(dfco.shape)\n",
    "\n",
    "# EXTRACTING DATA NEGATIVE SENTIMENT\n",
    "# print(df1.shape)\n",
    "indli=df1[df1.li==1].index\n",
    "dfli=df1.iloc[indli,:]\n",
    "# print(dfli.shape)\n",
    "\n",
    "# EXTRACTING DATA NEGATIVE SENTIMENT\n",
    "# print(df1.shape)\n",
    "indndp=df1[df1.ndp==1].index\n",
    "dfndp=df1.iloc[indndp,:]\n",
    "# print(dfndp.shape)\n",
    "\n",
    "\n",
    "fig, ax =plt.subplots(3,2,figsize=(20,15))\n",
    "\n",
    "sns.countplot(\"prediction_xgb1\",data=dfco,ax=ax[0,0])\n",
    "sns.countplot(\"sentiment_le\",data=dfco,ax=ax[0,1])\n",
    "sns.countplot(\"prediction_xgb1\",data=dfli,ax=ax[1,0])\n",
    "sns.countplot(\"sentiment_le\",data=dfli,ax=ax[1,1])\n",
    "sns.countplot(\"prediction_xgb1\",data=dfndp,ax=ax[2,0])\n",
    "sns.countplot(\"sentiment_le\",data=dfndp,ax=ax[2,1])\n",
    "ax[0,0].set_xlabel(\"PREDICTION\")\n",
    "ax[0,1].set_xlabel(\"REAL SENTIMENT\")\n",
    "ax[1,0].set_xlabel(\"PREDICTION\")\n",
    "ax[1,1].set_xlabel(\"REAL SENTIMENT\")\n",
    "ax[2,0].set_xlabel(\"PREDICTION\")\n",
    "ax[2,1].set_xlabel(\"REAL SENTIMENT\")\n",
    "fig.text(0.84, 0.95,'1-POSITIVE', fontsize=15)\n",
    "fig.text(0.84, 0.92,'0-NEGATIVE', fontsize=15)\n",
    "fig.text(0.42, 0.95,'1-POSITIVE', fontsize=15)\n",
    "fig.text(0.42, 0.92,'0-NEGATIVE', fontsize=15)\n",
    "\n",
    "ax[0,0].title.set_text('CONSERVATIVE PARTY OF CANADA')\n",
    "ax[1,0].title.set_text('LIBERAL OF CANADA')\n",
    "ax[2,0].title.set_text('NEW DEMOCRATIC PARTY OF CANADA')\n",
    "\n",
    "fig.tight_layout()\n",
    "# fig.suptitle('CONSERVATIVE PARTY OF CANADA', fontsize=16)\n",
    "fig.show()\n"
   ]
  },
  {
   "cell_type": "markdown",
   "metadata": {},
   "source": [
    "# DISCUSSION:\n",
    "BY OBSERVING THE PLOTS WE CAN SEE THAT FOR CONSERVATIVE PARTY THE MODEL PREDICTION IS MORE OR LESS SIMILAR TO THE REAL SENTIMENT.BUT THE REAL SENTIMENTS HAVE MORE NEGATIVE VALUES COMPARED TO POSITIVE VALUES.\n",
    "\n",
    "FOR LIBERAL PARTY OUR MODEL PREDICTS LESS POSITIVE SENTIMENT COMPARED TO THE REAL SENTIMENTS \n",
    "\n",
    "FOR NEW DEMOCRATIC PARTY THE MODEL PREDICTIONS ARE NOT ACCURATE.\n",
    "\n",
    "EVENTHOUGH THE ACCURACY IS LOW (i.e approximately 50 percent) THE TWITTER DATA ANALYSIS GIVES A GENERAL INSITE ABOUT THE PEOPLES OPINION AND HELPS TO MAKE PREDICTIONS ABOUT UPCOMING ELECTIONS \n",
    "THE CHART BELOW DESCRIBES THE ELECTION RESULTS:(SOURCE:WIKIPEDIA)"
   ]
  },
  {
   "attachments": {
    "image.png": {
     "image/png": "[encoded data removed]"
    }
   },
   "cell_type": "markdown",
   "metadata": {},
   "source": [
    "![image.png](attachment:image.png)"
   ]
  },
  {
   "cell_type": "markdown",
   "metadata": {},
   "source": [
    "IT CAN BE SEEN THE THAT IN OUR PREDICTIONS THE CONSERVATIVE PARTY HAS THE MOST COUNTS OF POSITIVE SENTIMENT ABOUT 300 AND THE LIBERAL PARTY HAS 250 COUNTS OF POSITIVE SENTIMENT AND THE NDP HAS 100 COUNTS WHICH IS SIMILAR TO THE POPULAR VOTE SHARE MENTIONED IN THE CHART ABOVE.\n",
    "\n",
    "THIS SHOWS THAT TWITTER DATA ANALYSIS REALLY CAPTURES THE SENTIMENT OF THE PUBLIC EVEN THOUGH IT HAS A LOW ACCURACY.\n",
    "\n",
    "**ACCURACY:**   \n",
    "THE MODEL ACCURACY ACN BE IMPROVED BY TRAINING THE MODEL ON SIMILAR PAST CANADIAN ELECTION DATASET RATHER THAN A GENERAL SENTIMENT DATASET. THIS WILL HELP THE MODEL CAPTURE THE NEUANCES OF TWEETS BY THE CANADIAN POPULATION AND THUS PREDICTS BETTER \n"
   ]
  },
  {
   "cell_type": "markdown",
   "metadata": {
    "colab_type": "text",
    "id": "5dLkl76-1AMf"
   },
   "source": [
    "   # BONUS\n",
    "   # WORD EMBEDDINGS"
   ]
  },
  {
   "cell_type": "code",
   "execution_count": 111,
   "metadata": {
    "colab": {
     "base_uri": "https://localhost:8080/",
     "height": 530
    },
    "colab_type": "code",
    "id": "hJ-pAFyc1AMh",
    "outputId": "b033e603-4ec8-4dc2-cdb6-c2f29fdcfcf8"
   },
   "outputs": [
    {
     "name": "stdout",
     "output_type": "stream",
     "text": [
      "Requirement already satisfied: gensim in c:\\users\\aditya\\anaconda3\\lib\\site-packages (3.8.1)\n",
      "Requirement already satisfied: scipy>=0.18.1 in c:\\users\\aditya\\anaconda3\\lib\\site-packages (from gensim) (1.4.1)\n",
      "Requirement already satisfied: numpy>=1.11.3 in c:\\users\\aditya\\anaconda3\\lib\\site-packages (from gensim) (1.16.4)\n",
      "Requirement already satisfied: smart-open>=1.8.1 in c:\\users\\aditya\\anaconda3\\lib\\site-packages (from gensim) (1.9.0)\n",
      "Requirement already satisfied: six>=1.5.0 in c:\\users\\aditya\\anaconda3\\lib\\site-packages (from gensim) (1.12.0)\n",
      "Requirement already satisfied: requests in c:\\users\\aditya\\anaconda3\\lib\\site-packages (from smart-open>=1.8.1->gensim) (2.22.0)\n",
      "Requirement already satisfied: boto3 in c:\\users\\aditya\\anaconda3\\lib\\site-packages (from smart-open>=1.8.1->gensim) (1.12.21)\n",
      "Requirement already satisfied: boto>=2.32 in c:\\users\\aditya\\anaconda3\\lib\\site-packages (from smart-open>=1.8.1->gensim) (2.49.0)\n",
      "Requirement already satisfied: idna<2.9,>=2.5 in c:\\users\\aditya\\anaconda3\\lib\\site-packages (from requests->smart-open>=1.8.1->gensim) (2.8)\n",
      "Requirement already satisfied: chardet<3.1.0,>=3.0.2 in c:\\users\\aditya\\anaconda3\\lib\\site-packages (from requests->smart-open>=1.8.1->gensim) (3.0.4)\n",
      "Requirement already satisfied: urllib3!=1.25.0,!=1.25.1,<1.26,>=1.21.1 in c:\\users\\aditya\\anaconda3\\lib\\site-packages (from requests->smart-open>=1.8.1->gensim) (1.24.2)\n",
      "Requirement already satisfied: certifi>=2017.4.17 in c:\\users\\aditya\\anaconda3\\lib\\site-packages (from requests->smart-open>=1.8.1->gensim) (2019.6.16)\n",
      "Requirement already satisfied: botocore<1.16.0,>=1.15.21 in c:\\users\\aditya\\anaconda3\\lib\\site-packages (from boto3->smart-open>=1.8.1->gensim) (1.15.21)\n",
      "Requirement already satisfied: s3transfer<0.4.0,>=0.3.0 in c:\\users\\aditya\\anaconda3\\lib\\site-packages (from boto3->smart-open>=1.8.1->gensim) (0.3.3)\n",
      "Requirement already satisfied: jmespath<1.0.0,>=0.7.1 in c:\\users\\aditya\\anaconda3\\lib\\site-packages (from boto3->smart-open>=1.8.1->gensim) (0.9.5)\n",
      "Requirement already satisfied: python-dateutil<3.0.0,>=2.1 in c:\\users\\aditya\\anaconda3\\lib\\site-packages (from botocore<1.16.0,>=1.15.21->boto3->smart-open>=1.8.1->gensim) (2.8.0)\n",
      "Requirement already satisfied: docutils<0.16,>=0.10 in c:\\users\\aditya\\anaconda3\\lib\\site-packages (from botocore<1.16.0,>=1.15.21->boto3->smart-open>=1.8.1->gensim) (0.14)\n"
     ]
    }
   ],
   "source": [
    "!pip install gensim\n",
    "from gensim.models import word2vec"
   ]
  },
  {
   "cell_type": "code",
   "execution_count": 112,
   "metadata": {
    "colab": {
     "base_uri": "https://localhost:8080/",
     "height": 51
    },
    "colab_type": "code",
    "id": "B9NAMJy-1AMo",
    "outputId": "acf74e0c-0a1e-4ce2-ee61-88336328d364"
   },
   "outputs": [
    {
     "name": "stdout",
     "output_type": "stream",
     "text": [
      "[1 0 1 1 1]\n",
      "(130669,)\n"
     ]
    }
   ],
   "source": [
    "#LABEL ENCODING TARGETS\n",
    "dff.sentiment.unique()\n",
    "s_map={'Positive': 1, 'Negative' :0}\n",
    "t1=dff.sentiment.map(s_map)\n",
    "t1=np.array(t1)\n",
    "print(t1[0:5])\n",
    "print(np.shape(t1))"
   ]
  },
  {
   "cell_type": "code",
   "execution_count": 113,
   "metadata": {
    "colab": {
     "base_uri": "https://localhost:8080/",
     "height": 102
    },
    "colab_type": "code",
    "id": "ydOb84Y81AMq",
    "outputId": "8c1f48b4-30e0-46cf-8086-6c74c24c68c8"
   },
   "outputs": [
    {
     "name": "stdout",
     "output_type": "stream",
     "text": [
      "1     damn jealous wanna watch fight love ufc one know\n",
      "2                              listening beatles great\n",
      "3    could please get shout anything huge fan wait ...\n",
      "4                      spotted ur message tony replied\n",
      "Name: clean_data, dtype: object\n"
     ]
    }
   ],
   "source": [
    "featu=dff[\"clean_data\"]\n",
    "print(featu[1:5])"
   ]
  },
  {
   "cell_type": "code",
   "execution_count": 114,
   "metadata": {
    "colab": {},
    "colab_type": "code",
    "id": "U5Tfzaln1AMt"
   },
   "outputs": [],
   "source": [
    "#TOKENIZING FAETURES\n",
    "tokenized_sentences = [sentence.split() for sentence in featu]\n",
    "model = word2vec.Word2Vec(tokenized_sentences, size=100, min_count=1)"
   ]
  },
  {
   "cell_type": "code",
   "execution_count": 115,
   "metadata": {
    "colab": {},
    "colab_type": "code",
    "id": "EBU1kMnq1AMu"
   },
   "outputs": [],
   "source": [
    "def buildWordVector(text, size):\n",
    "    vec = np.zeros(size).reshape((1, size))\n",
    "    count = 0.\n",
    "    text = text.split()\n",
    "    for word in text:\n",
    "        vec += model.wv[word].reshape((1, size))\n",
    "        count += 1.\n",
    "    if count != 0:\n",
    "        vec /= count\n",
    "    return vec"
   ]
  },
  {
   "cell_type": "code",
   "execution_count": 116,
   "metadata": {
    "colab": {},
    "colab_type": "code",
    "id": "kwqkaQ_V1AMz"
   },
   "outputs": [],
   "source": [
    "array_wordEmbedding = np.concatenate([buildWordVector(z, 100) for z in featu])"
   ]
  },
  {
   "cell_type": "code",
   "execution_count": 117,
   "metadata": {
    "colab": {},
    "colab_type": "code",
    "id": "TTxfXUc41AM4"
   },
   "outputs": [],
   "source": [
    "# std= StandardScaler()\n",
    "# array_wordEmbedding=std.fit_transform(array_wordEmbedding)"
   ]
  },
  {
   "cell_type": "code",
   "execution_count": 118,
   "metadata": {
    "colab": {
     "base_uri": "https://localhost:8080/",
     "height": 34
    },
    "colab_type": "code",
    "id": "gY3N0ZHs1AM6",
    "outputId": "59dad80c-de73-40b7-c909-33dc5c520bfb"
   },
   "outputs": [
    {
     "name": "stdout",
     "output_type": "stream",
     "text": [
      "(98001, 100) (32668, 100)\n"
     ]
    }
   ],
   "source": [
    "#SPLLITING THE DATA\n",
    "xtrain,xtest,ytrain,ytest=train_test_split(array_wordEmbedding,t1,random_state=42)\n",
    "print(np.shape(xtrain),np.shape(xtest))"
   ]
  },
  {
   "cell_type": "markdown",
   "metadata": {},
   "source": [
    "**NOW LETS APPLY LOGISTIC REGRESSION ON THE DATA**"
   ]
  },
  {
   "cell_type": "code",
   "execution_count": 119,
   "metadata": {
    "colab": {
     "base_uri": "https://localhost:8080/",
     "height": 85
    },
    "colab_type": "code",
    "id": "62lHBZeeiAYT",
    "outputId": "cf260744-f136-432c-d4d1-d7540f75f069"
   },
   "outputs": [
    {
     "name": "stdout",
     "output_type": "stream",
     "text": [
      "\n",
      "LOGISTIC REGRESSION\n",
      "TRAINING ACCURACY 71.92\n",
      "TESTING ACCURACY 71.22\n"
     ]
    }
   ],
   "source": [
    "#LOGISTIC REGRESSION\n",
    "print(\"\\nLOGISTIC REGRESSION\")\n",
    "we_lr=LogisticRegression(solver='newton-cg')\n",
    "we_lr_model=we_lr.fit(xtrain,ytrain)\n",
    "we_lr_pred=we_lr.predict(xtrain)\n",
    "print(\"TRAINING ACCURACY\",round(accuracy_score(we_lr_pred,ytrain)*100,2))\n",
    "we_lr_pred=we_lr.predict(xtest)\n",
    "print(\"TESTING ACCURACY\",round(accuracy_score(we_lr_pred,ytest)*100,2))"
   ]
  },
  {
   "cell_type": "markdown",
   "metadata": {
    "colab_type": "text",
    "id": "0BbJixGV1ANH"
   },
   "source": [
    "**TESTING ON CANADIAN ELECTION DATASET**"
   ]
  },
  {
   "cell_type": "code",
   "execution_count": 120,
   "metadata": {
    "colab": {
     "base_uri": "https://localhost:8080/",
     "height": 136
    },
    "colab_type": "code",
    "id": "ySiIIenI1ANH",
    "outputId": "523daaa2-5634-4a46-b6cf-1cfe3293e64c"
   },
   "outputs": [
    {
     "name": "stdout",
     "output_type": "stream",
     "text": [
      "0    0\n",
      "1    1\n",
      "2    0\n",
      "3    1\n",
      "4    0\n",
      "Name: sentiment, dtype: int64\n",
      "(2133,)\n"
     ]
    }
   ],
   "source": [
    "#LABEL ENCODING TARGETS\n",
    "ct2=df1[\"clean_tweet\"]\n",
    "s_map={'Positive': 1, 'Negative' :0}\n",
    "t2=df1.sentiment.map(s_map)\n",
    "print(t2[0:5])\n",
    "print(np.shape(t2))"
   ]
  },
  {
   "cell_type": "code",
   "execution_count": 121,
   "metadata": {
    "colab": {},
    "colab_type": "code",
    "id": "OPvs63Q41ANJ"
   },
   "outputs": [],
   "source": [
    "#TOKENIZING FAETURES\n",
    "tokenized_sentences = [sentence.split() for sentence in ct2]\n",
    "model = word2vec.Word2Vec(tokenized_sentences, size=100, min_count=1)"
   ]
  },
  {
   "cell_type": "code",
   "execution_count": 122,
   "metadata": {
    "colab": {},
    "colab_type": "code",
    "id": "bQ1PfZeJ1ANO"
   },
   "outputs": [],
   "source": [
    "array_wordEmbedding1 = np.concatenate([buildWordVector(z, 100) for z in ct2])"
   ]
  },
  {
   "cell_type": "code",
   "execution_count": 123,
   "metadata": {
    "colab": {
     "base_uri": "https://localhost:8080/",
     "height": 153
    },
    "colab_type": "code",
    "id": "jl5K76v0jHkc",
    "outputId": "19abde5b-d019-4d20-8b57-7b6503c24029"
   },
   "outputs": [
    {
     "name": "stdout",
     "output_type": "stream",
     "text": [
      "LOGISTIC REGRESSION\n",
      "CANADIAN DATASET ACCURACY 52.84\n"
     ]
    }
   ],
   "source": [
    "we_lr_ca_pred=we_lr.predict(array_wordEmbedding1)\n",
    "print(\"LOGISTIC REGRESSION\")\n",
    "print(\"CANADIAN DATASET ACCURACY\",round(accuracy_score(t2,we_lr_ca_pred)*100,2))\n"
   ]
  },
  {
   "cell_type": "markdown",
   "metadata": {},
   "source": [
    "**WE GET A ACCURACY OF 52.84 FOR LOGISTIC REGRESSION   \n",
    "NOW LET TRY TO FIT A DEEP NEURAL NETWORK ON THE DATA AND SEE ITS PERFORMANCE**"
   ]
  },
  {
   "cell_type": "markdown",
   "metadata": {
    "colab_type": "text",
    "id": "oR2uAzEgD6Jx"
   },
   "source": [
    "# NEURAL NETWORK"
   ]
  },
  {
   "cell_type": "code",
   "execution_count": 124,
   "metadata": {
    "colab": {},
    "colab_type": "code",
    "id": "DUa-qGCva1wo"
   },
   "outputs": [
    {
     "name": "stdout",
     "output_type": "stream",
     "text": [
      "Requirement already satisfied: tensorflow==1.14 in c:\\users\\aditya\\anaconda3\\lib\\site-packages (1.14.0)\n",
      "Requirement already satisfied: keras-preprocessing>=1.0.5 in c:\\users\\aditya\\anaconda3\\lib\\site-packages (from tensorflow==1.14) (1.1.0)\n",
      "Requirement already satisfied: absl-py>=0.7.0 in c:\\users\\aditya\\anaconda3\\lib\\site-packages (from tensorflow==1.14) (0.9.0)\n",
      "Requirement already satisfied: termcolor>=1.1.0 in c:\\users\\aditya\\anaconda3\\lib\\site-packages (from tensorflow==1.14) (1.1.0)\n",
      "Requirement already satisfied: six>=1.10.0 in c:\\users\\aditya\\anaconda3\\lib\\site-packages (from tensorflow==1.14) (1.12.0)\n",
      "Requirement already satisfied: gast>=0.2.0 in c:\\users\\aditya\\anaconda3\\lib\\site-packages (from tensorflow==1.14) (0.2.2)\n",
      "Requirement already satisfied: astor>=0.6.0 in c:\\users\\aditya\\anaconda3\\lib\\site-packages (from tensorflow==1.14) (0.8.1)\n",
      "Requirement already satisfied: numpy<2.0,>=1.14.5 in c:\\users\\aditya\\anaconda3\\lib\\site-packages (from tensorflow==1.14) (1.16.4)\n",
      "Requirement already satisfied: protobuf>=3.6.1 in c:\\users\\aditya\\anaconda3\\lib\\site-packages (from tensorflow==1.14) (3.11.3)\n",
      "Requirement already satisfied: tensorboard<1.15.0,>=1.14.0 in c:\\users\\aditya\\anaconda3\\lib\\site-packages (from tensorflow==1.14) (1.14.0)\n",
      "Requirement already satisfied: tensorflow-estimator<1.15.0rc0,>=1.14.0rc0 in c:\\users\\aditya\\anaconda3\\lib\\site-packages (from tensorflow==1.14) (1.14.0)\n",
      "Requirement already satisfied: wrapt>=1.11.1 in c:\\users\\aditya\\anaconda3\\lib\\site-packages (from tensorflow==1.14) (1.11.2)\n",
      "Requirement already satisfied: grpcio>=1.8.6 in c:\\users\\aditya\\anaconda3\\lib\\site-packages (from tensorflow==1.14) (1.27.2)\n",
      "Requirement already satisfied: wheel>=0.26 in c:\\users\\aditya\\anaconda3\\lib\\site-packages (from tensorflow==1.14) (0.33.4)\n",
      "Requirement already satisfied: google-pasta>=0.1.6 in c:\\users\\aditya\\anaconda3\\lib\\site-packages (from tensorflow==1.14) (0.2.0)\n",
      "Requirement already satisfied: keras-applications>=1.0.6 in c:\\users\\aditya\\anaconda3\\lib\\site-packages (from tensorflow==1.14) (1.0.8)\n",
      "Requirement already satisfied: setuptools in c:\\users\\aditya\\anaconda3\\lib\\site-packages (from protobuf>=3.6.1->tensorflow==1.14) (41.0.1)\n",
      "Requirement already satisfied: werkzeug>=0.11.15 in c:\\users\\aditya\\anaconda3\\lib\\site-packages (from tensorboard<1.15.0,>=1.14.0->tensorflow==1.14) (0.15.4)\n",
      "Requirement already satisfied: markdown>=2.6.8 in c:\\users\\aditya\\anaconda3\\lib\\site-packages (from tensorboard<1.15.0,>=1.14.0->tensorflow==1.14) (3.2.1)\n",
      "Requirement already satisfied: h5py in c:\\users\\aditya\\anaconda3\\lib\\site-packages (from keras-applications>=1.0.6->tensorflow==1.14) (2.9.0)\n"
     ]
    }
   ],
   "source": [
    "# %tensorflow_version 2.x\n",
    "! pip install tensorflow==1.14"
   ]
  },
  {
   "cell_type": "code",
   "execution_count": 125,
   "metadata": {
    "colab": {
     "base_uri": "https://localhost:8080/",
     "height": 63
    },
    "colab_type": "code",
    "id": "7V0DnYK2O8z1",
    "outputId": "99a040b1-7eb6-443f-874a-4069403f4082"
   },
   "outputs": [],
   "source": [
    "# TensorFlow and tf.keras\n",
    "import tensorflow as tf\n",
    "from tensorflow import keras\n",
    "from tensorflow.keras.layers import Dropout, Dense"
   ]
  },
  {
   "cell_type": "code",
   "execution_count": 126,
   "metadata": {
    "colab": {
     "base_uri": "https://localhost:8080/",
     "height": 34
    },
    "colab_type": "code",
    "id": "31LLc4-IR5bp",
    "outputId": "13ba3130-6c15-4408-8ccd-f9a0ebc21bfd"
   },
   "outputs": [
    {
     "name": "stdout",
     "output_type": "stream",
     "text": [
      "(98001, 100) (32668, 100)\n"
     ]
    }
   ],
   "source": [
    "# split into input (X) and output (y) variables\n",
    "X = array_wordEmbedding\n",
    "y = t1\n",
    "\n",
    "xtrain,xtest,ytrain,ytest=train_test_split(X,y,random_state=42)\n",
    "print(np.shape(xtrain),np.shape(xtest))"
   ]
  },
  {
   "cell_type": "code",
   "execution_count": 127,
   "metadata": {
    "colab": {
     "base_uri": "https://localhost:8080/",
     "height": 88
    },
    "colab_type": "code",
    "id": "mB0pVULEO9Af",
    "outputId": "079ec2f9-2c2d-45be-9120-dec1a684e80e"
   },
   "outputs": [
    {
     "name": "stdout",
     "output_type": "stream",
     "text": [
      "WARNING:tensorflow:From C:\\Users\\aditya\\Anaconda3\\lib\\site-packages\\tensorflow\\python\\ops\\init_ops.py:1251: calling VarianceScaling.__init__ (from tensorflow.python.ops.init_ops) with dtype is deprecated and will be removed in a future version.\n",
      "Instructions for updating:\n",
      "Call initializer instance with the dtype argument instead of passing it to the constructor\n"
     ]
    }
   ],
   "source": [
    "#MODEL DEIFINITION\n",
    "model = keras.Sequential()\n",
    "model.add(Dense(40, activation=tf.nn.relu, input_shape=[100]))\n",
    "model.add(Dense(80, activation=tf.nn.relu))\n",
    "model.add(Dense(10, activation=tf.nn.tanh))\n",
    "model.add(Dense(1, activation=tf.nn.tanh))"
   ]
  },
  {
   "cell_type": "code",
   "execution_count": 128,
   "metadata": {
    "colab": {},
    "colab_type": "code",
    "id": "JgBl2wknQzLX"
   },
   "outputs": [],
   "source": [
    "#MODEL COMPILATION\n",
    "model.compile(optimizer=tf.train.AdamOptimizer(),loss='binary_crossentropy',metrics=['accuracy'])"
   ]
  },
  {
   "cell_type": "markdown",
   "metadata": {},
   "source": [
    "WE ARE USING __EARLY STOPPING__ CALL BACK TO __GENERALIZE THE MODEL AND PREVENT OVERFITTING__"
   ]
  },
  {
   "cell_type": "code",
   "execution_count": 129,
   "metadata": {
    "colab": {},
    "colab_type": "code",
    "id": "7VZeCo1JP6de"
   },
   "outputs": [],
   "source": [
    "early_stop = keras.callbacks.EarlyStopping(monitor='val_loss', patience=10)"
   ]
  },
  {
   "cell_type": "code",
   "execution_count": 130,
   "metadata": {
    "colab": {},
    "colab_type": "code",
    "id": "ddNIb8RlVggO"
   },
   "outputs": [],
   "source": [
    "#MODEL CHECK POINT TO SAVE THE BEST MODEL DURING TRAINING\n",
    "from tensorflow.keras.callbacks import ModelCheckpoint\n",
    "mc = ModelCheckpoint('best_model.h5')\n",
    "mc = ModelCheckpoint('best_model.h5', monitor='val_loss', mode='min', save_best_only=True,verbose=1)"
   ]
  },
  {
   "cell_type": "code",
   "execution_count": 131,
   "metadata": {
    "colab": {
     "base_uri": "https://localhost:8080/",
     "height": 1000
    },
    "colab_type": "code",
    "id": "JvxcY7MlP6ac",
    "outputId": "779fdc10-4ad2-4c1c-9c0b-dc41429f9c5f"
   },
   "outputs": [
    {
     "name": "stdout",
     "output_type": "stream",
     "text": [
      "WARNING:tensorflow:From C:\\Users\\aditya\\Anaconda3\\lib\\site-packages\\tensorflow\\python\\ops\\math_grad.py:1250: add_dispatch_support.<locals>.wrapper (from tensorflow.python.ops.array_ops) is deprecated and will be removed in a future version.\n",
      "Instructions for updating:\n",
      "Use tf.where in 2.0, which has the same broadcast rule as np.where\n",
      "\n",
      "Epoch 00001: val_loss improved from inf to 0.57150, saving model to best_model.h5\n",
      "WARNING:tensorflow:TensorFlow optimizers do not make it possible to access optimizer attributes or optimizer state after instantiation. As a result, we cannot save the optimizer as part of the model save file. You will have to compile your model again after loading it. Prefer using a Keras optimizer instead (see keras.io/optimizers).\n",
      "\n",
      "Epoch 00002: val_loss improved from 0.57150 to 0.55648, saving model to best_model.h5\n",
      "WARNING:tensorflow:TensorFlow optimizers do not make it possible to access optimizer attributes or optimizer state after instantiation. As a result, we cannot save the optimizer as part of the model save file. You will have to compile your model again after loading it. Prefer using a Keras optimizer instead (see keras.io/optimizers).\n",
      "\n",
      "Epoch 00003: val_loss improved from 0.55648 to 0.54603, saving model to best_model.h5\n",
      "WARNING:tensorflow:TensorFlow optimizers do not make it possible to access optimizer attributes or optimizer state after instantiation. As a result, we cannot save the optimizer as part of the model save file. You will have to compile your model again after loading it. Prefer using a Keras optimizer instead (see keras.io/optimizers).\n",
      "\n",
      "Epoch 00004: val_loss did not improve from 0.54603\n",
      "\n",
      "Epoch 00005: val_loss did not improve from 0.54603\n",
      "\n",
      "Epoch 00006: val_loss did not improve from 0.54603\n",
      "\n",
      "Epoch 00007: val_loss improved from 0.54603 to 0.54391, saving model to best_model.h5\n",
      "WARNING:tensorflow:TensorFlow optimizers do not make it possible to access optimizer attributes or optimizer state after instantiation. As a result, we cannot save the optimizer as part of the model save file. You will have to compile your model again after loading it. Prefer using a Keras optimizer instead (see keras.io/optimizers).\n",
      "\n",
      "Epoch 00008: val_loss improved from 0.54391 to 0.54224, saving model to best_model.h5\n",
      "WARNING:tensorflow:TensorFlow optimizers do not make it possible to access optimizer attributes or optimizer state after instantiation. As a result, we cannot save the optimizer as part of the model save file. You will have to compile your model again after loading it. Prefer using a Keras optimizer instead (see keras.io/optimizers).\n",
      "\n",
      "Epoch 00009: val_loss improved from 0.54224 to 0.54180, saving model to best_model.h5\n",
      "WARNING:tensorflow:TensorFlow optimizers do not make it possible to access optimizer attributes or optimizer state after instantiation. As a result, we cannot save the optimizer as part of the model save file. You will have to compile your model again after loading it. Prefer using a Keras optimizer instead (see keras.io/optimizers).\n",
      "\n",
      "Epoch 00010: val_loss improved from 0.54180 to 0.53794, saving model to best_model.h5\n",
      "WARNING:tensorflow:TensorFlow optimizers do not make it possible to access optimizer attributes or optimizer state after instantiation. As a result, we cannot save the optimizer as part of the model save file. You will have to compile your model again after loading it. Prefer using a Keras optimizer instead (see keras.io/optimizers).\n",
      "\n",
      "Epoch 00011: val_loss did not improve from 0.53794\n",
      "\n",
      "Epoch 00012: val_loss did not improve from 0.53794\n",
      "\n",
      "Epoch 00013: val_loss improved from 0.53794 to 0.53481, saving model to best_model.h5\n",
      "WARNING:tensorflow:TensorFlow optimizers do not make it possible to access optimizer attributes or optimizer state after instantiation. As a result, we cannot save the optimizer as part of the model save file. You will have to compile your model again after loading it. Prefer using a Keras optimizer instead (see keras.io/optimizers).\n",
      "\n",
      "Epoch 00014: val_loss improved from 0.53481 to 0.53455, saving model to best_model.h5\n",
      "WARNING:tensorflow:TensorFlow optimizers do not make it possible to access optimizer attributes or optimizer state after instantiation. As a result, we cannot save the optimizer as part of the model save file. You will have to compile your model again after loading it. Prefer using a Keras optimizer instead (see keras.io/optimizers).\n",
      "\n",
      "Epoch 00015: val_loss did not improve from 0.53455\n",
      "\n",
      "Epoch 00016: val_loss did not improve from 0.53455\n",
      "\n",
      "Epoch 00017: val_loss did not improve from 0.53455\n",
      "\n",
      "Epoch 00018: val_loss did not improve from 0.53455\n",
      "\n",
      "Epoch 00019: val_loss did not improve from 0.53455\n",
      "\n",
      "Epoch 00020: val_loss did not improve from 0.53455\n",
      "\n",
      "Epoch 00021: val_loss did not improve from 0.53455\n",
      "\n",
      "Epoch 00022: val_loss did not improve from 0.53455\n",
      "\n",
      "Epoch 00023: val_loss did not improve from 0.53455\n",
      "\n",
      "Epoch 00024: val_loss did not improve from 0.53455\n"
     ]
    }
   ],
   "source": [
    "#TRAINING MODEL\n",
    "history = model.fit(xtrain, ytrain, epochs=250, verbose=0, validation_split = 0.3,\n",
    "                    callbacks=[early_stop,mc])"
   ]
  },
  {
   "cell_type": "code",
   "execution_count": 132,
   "metadata": {
    "colab": {},
    "colab_type": "code",
    "id": "we1GZCGgXRxL"
   },
   "outputs": [],
   "source": [
    "# load the saved model\n",
    "model.load_weights('best_model.h5')"
   ]
  },
  {
   "cell_type": "code",
   "execution_count": 133,
   "metadata": {
    "colab": {
     "base_uri": "https://localhost:8080/",
     "height": 119
    },
    "colab_type": "code",
    "id": "aPvRsbQSU7Dr",
    "outputId": "9db237ff-b2c4-4da3-f050-3aed14d2efdc",
    "scrolled": true
   },
   "outputs": [
    {
     "name": "stdout",
     "output_type": "stream",
     "text": [
      "98001/98001 [==============================] - 2s 19us/sample - loss: 0.5276 - acc: 0.7326\n",
      "Training Accuracy: 73.26\n",
      "32668/32668 [==============================] - 1s 19us/sample - loss: 0.5408 - acc: 0.7206\n",
      "Training Accuracy: 72.06\n",
      "2133/2133 [==============================] - 0s 22us/sample - loss: 0.8874 - acc: 0.5284\n",
      "Canadian dataset Testing Accuracy: 52.84\n"
     ]
    }
   ],
   "source": [
    "#ACCURACY\n",
    "train_loss,train_acc = model.evaluate(xtrain, ytrain)\n",
    "print('Training Accuracy: %.2f' % (train_acc*100))\n",
    "\n",
    "test_loss,test_acc = model.evaluate(xtest, ytest)\n",
    "print('Training Accuracy: %.2f' % (test_acc*100))\n",
    "\n",
    "\n",
    "elec_loss, elec_acc = model.evaluate(array_wordEmbedding1, t2)\n",
    "print('Canadian dataset Testing Accuracy: %.2f' % (elec_acc*100))"
   ]
  },
  {
   "cell_type": "markdown",
   "metadata": {},
   "source": [
    "98001/98001 [==============================] - 3s 32us/sample - loss: 0.5329 - acc: 0.73050s - loss: 0.5328 - acc: 0.73   \n",
    "Training Accuracy: 73.05   \n",
    "32668/32668 [==============================] - 1s 30us/sample - loss: 0.5474 - acc: 0.7171   \n",
    "Training Accuracy: 71.71   \n",
    "2133/2133 [==============================] - 0s 28us/sample - loss: 0.7513 - acc: 0.5284   \n",
    "Canadian dataset Testing Accuracy: 52.84   \n",
    "\n",
    "\n",
    "**WE GET A TRAINING ACCURACY OF 52.84 WHICH SAME AS THAT OF LOGISTIC REGRESSION    \n",
    "WE CAN OBSERVE THAT DEEP NEURAL NETWORK IS NOT GIVING BETTER PERFORMANCE COMPARED TO TRADITIONAL MACHINE LEARNING TECHNIQUES SUCH AS LOGISTIC REGRESSION**"
   ]
  },
  {
   "cell_type": "markdown",
   "metadata": {
    "colab_type": "text",
    "id": "UI41p4NrRyTM"
   },
   "source": [
    "# N-GRAMS"
   ]
  },
  {
   "cell_type": "markdown",
   "metadata": {},
   "source": [
    "**LETS APPLY TRIGRAM TO THE FEATURES AND LETS SEE THE PERFORMANCE OF THE MODEL**"
   ]
  },
  {
   "cell_type": "code",
   "execution_count": 134,
   "metadata": {
    "colab": {},
    "colab_type": "code",
    "id": "sSQjsqm-RyTP"
   },
   "outputs": [],
   "source": [
    "#SENTIMENT DATA SET NGRAM\n",
    "vectorizer_ng = CountVectorizer(max_features=1000,ngram_range=(1,3))\n",
    "array_ng_feat = vectorizer_ng.fit_transform(featu)"
   ]
  },
  {
   "cell_type": "code",
   "execution_count": 135,
   "metadata": {
    "colab": {
     "base_uri": "https://localhost:8080/",
     "height": 34
    },
    "colab_type": "code",
    "id": "k-ftdaKLRyTT",
    "outputId": "0cf0247b-3db7-476f-a8ba-ffb7a8db8cd4"
   },
   "outputs": [
    {
     "name": "stdout",
     "output_type": "stream",
     "text": [
      "(98001, 1000) (32668, 1000)\n"
     ]
    }
   ],
   "source": [
    "#SPLITTING THE DATA\n",
    "xtrain,xtest,ytrain,ytest=train_test_split(array_ng_feat,t1)\n",
    "print(np.shape(xtrain),np.shape(xtest))"
   ]
  },
  {
   "cell_type": "code",
   "execution_count": 136,
   "metadata": {
    "colab": {},
    "colab_type": "code",
    "id": "xLX0hbvJV_Mf"
   },
   "outputs": [],
   "source": [
    "#CANADIAN DATASET NGRAM\n",
    "vectorizer_ng = CountVectorizer(max_features=1000,ngram_range=(1,3))\n",
    "cd_ng_feat = vectorizer_ng.fit_transform(ct2)"
   ]
  },
  {
   "cell_type": "markdown",
   "metadata": {},
   "source": [
    "**LETS APPLY XGBOOSTING ALGORITHM TO THE NGRAM FEATURES** "
   ]
  },
  {
   "cell_type": "code",
   "execution_count": 137,
   "metadata": {
    "colab": {
     "base_uri": "https://localhost:8080/",
     "height": 221
    },
    "colab_type": "code",
    "id": "F5_CUM2fRyTl",
    "outputId": "3f03231b-b1ee-40ed-dc0e-8cb6f5f64dab"
   },
   "outputs": [],
   "source": [
    "# #List Hyperparameters that we want to tune.\n",
    "# n_estimators=[25,50,100]\n",
    "\n",
    "# #Convert to dictionary\n",
    "# hyperparameters = dict(n_estimators=n_estimators)\n",
    "\n",
    "# #Create new model\n",
    "# ng_xgb = XGBClassifier()\n",
    "\n",
    "# #Use GridSearch\n",
    "# clf = GridSearchCV(ng_xgb, hyperparameters, cv=2)\n",
    "\n",
    "# #Fit the model\n",
    "# ng_xgb_best_model = clf.fit(xtrain,ytrain)\n",
    "\n",
    "# #Print The value of best Hyperparameters\n",
    "# print('Best Estimator Count:', ng_xgb_best_model.best_estimator_.get_params()['n_estimators'])\n",
    "# print('Best Model score:', ng_xgb_best_model.best_score_*100)\n",
    "# print('\\n Best model:',ng_xgb_best_model.best_estimator_)"
   ]
  },
  {
   "cell_type": "markdown",
   "metadata": {
    "colab_type": "text",
    "id": "AEFgpyMhRyTv"
   },
   "source": [
    "Best Estimator Count: 100  \n",
    "Best Model score: 72.83905095231293  \n",
    "\n",
    " Best model: XGBClassifier(base_score=0.5, booster=None, colsample_bylevel=1,\n",
    "              colsample_bynode=1, colsample_bytree=1, gamma=0, gpu_id=-1,\n",
    "              importance_type='gain', interaction_constraints=None,\n",
    "              learning_rate=0.300000012, max_delta_step=0, max_depth=6,\n",
    "              min_child_weight=1, missing=nan, monotone_constraints=None,\n",
    "              n_estimators=100, n_jobs=0, num_parallel_tree=1,\n",
    "              objective='binary:logistic', random_state=0, reg_alpha=0,\n",
    "              reg_lambda=1, scale_pos_weight=1, subsample=1, tree_method=None,\n",
    "              validate_parameters=False, verbosity=None)"
   ]
  },
  {
   "cell_type": "code",
   "execution_count": 138,
   "metadata": {
    "colab": {
     "base_uri": "https://localhost:8080/",
     "height": 85
    },
    "colab_type": "code",
    "id": "5GTQ_qDNRyTy",
    "outputId": "21e95201-27c8-412f-acfd-389ff53ba628"
   },
   "outputs": [
    {
     "name": "stdout",
     "output_type": "stream",
     "text": [
      "XGBOOST\n",
      "TRAINING ACCURACY 74.73\n",
      "TESTING ACCURACY 72.76\n",
      "Canadian dataset Testing Accuracy: 52.32\n"
     ]
    }
   ],
   "source": [
    "# xgb_model = XGBClassifier()\n",
    "ng_xgb=XGBClassifier(n_estimators=100)\n",
    "ng_xgb.fit(xtrain,ytrain)\n",
    "print(\"XGBOOST\")\n",
    "pred=ng_xgb.predict(xtrain)\n",
    "print(\"TRAINING ACCURACY\",round(accuracy_score(ytrain,pred)*100,2))\n",
    "pred=ng_xgb.predict(xtest)\n",
    "print(\"TESTING ACCURACY\",round(accuracy_score( ytest,pred)*100,2))\n",
    "pred=ng_xgb.predict(cd_ng_feat)\n",
    "print('Canadian dataset Testing Accuracy:',round(accuracy_score(t2,pred)*100,2))"
   ]
  },
  {
   "cell_type": "markdown",
   "metadata": {},
   "source": [
    "**XGBOOST HAS A TRAINING ACCURACY OF 51.76    \n",
    "LETS APPLY NEURAL NETWORK MODEL AND SEE HOW IT PERFORMS**"
   ]
  },
  {
   "cell_type": "markdown",
   "metadata": {
    "colab_type": "text",
    "id": "eJwShVQFRyT5"
   },
   "source": [
    "# NEURAL NETWORK"
   ]
  },
  {
   "cell_type": "code",
   "execution_count": 139,
   "metadata": {
    "colab": {},
    "colab_type": "code",
    "id": "EQ9MofXIRyUF"
   },
   "outputs": [],
   "source": [
    "# TensorFlow and tf.keras\n",
    "import tensorflow as tf\n",
    "from tensorflow import keras\n",
    "from tensorflow.keras.layers import  Dropout, Dense"
   ]
  },
  {
   "cell_type": "code",
   "execution_count": 140,
   "metadata": {
    "colab": {
     "base_uri": "https://localhost:8080/",
     "height": 34
    },
    "colab_type": "code",
    "id": "Em5dc8EnRyUN",
    "outputId": "2d83ec45-65ab-4c26-ded6-bd4c719cd2f0"
   },
   "outputs": [
    {
     "name": "stdout",
     "output_type": "stream",
     "text": [
      "(98001, 1000) (32668, 1000)\n"
     ]
    }
   ],
   "source": [
    "# split into input (X) and output (y) variables\n",
    "X = array_ng_feat\n",
    "y = t1\n",
    "\n",
    "xtrain,xtest,ytrain,ytest=train_test_split(X,y,random_state=42)\n",
    "print(np.shape(xtrain),np.shape(xtest))"
   ]
  },
  {
   "cell_type": "code",
   "execution_count": 141,
   "metadata": {
    "colab": {},
    "colab_type": "code",
    "id": "hmu9egmfRyUW"
   },
   "outputs": [],
   "source": [
    "# MODEL DEFINITION\n",
    "model = keras.Sequential()\n",
    "model.add(Dense(20, activation=tf.nn.tanh, input_shape=[1000]))\n",
    "model.add(Dense(30, activation=tf.nn.tanh))\n",
    "model.add(Dense(10, activation=tf.nn.tanh))\n",
    "model.add(Dropout(0.25))\n",
    "model.add(Dense(1, activation=tf.nn.tanh))"
   ]
  },
  {
   "cell_type": "code",
   "execution_count": 142,
   "metadata": {
    "colab": {},
    "colab_type": "code",
    "id": "fubPge6HRyUa"
   },
   "outputs": [],
   "source": [
    "#COMPILING MODEL\n",
    "model.compile(optimizer=tf.train.AdamOptimizer(),loss='binary_crossentropy',metrics=['accuracy'])"
   ]
  },
  {
   "cell_type": "code",
   "execution_count": 143,
   "metadata": {
    "colab": {},
    "colab_type": "code",
    "id": "Nx7qr9n1RyUo"
   },
   "outputs": [],
   "source": [
    "#EARLY STOPPING TO PREVENT OVERFITTING\n",
    "early_stop = keras.callbacks.EarlyStopping(monitor='val_loss', patience=10)"
   ]
  },
  {
   "cell_type": "code",
   "execution_count": 144,
   "metadata": {
    "colab": {},
    "colab_type": "code",
    "id": "ic197FDbRyUg"
   },
   "outputs": [],
   "source": [
    "#MODEL CHECKPOINT TO SAVE THE BEST MODEL DURING TRAINING\n",
    "from tensorflow.keras.callbacks import ModelCheckpoint\n",
    "mc = ModelCheckpoint('best_model.h5')\n",
    "mc = ModelCheckpoint('best_model.h5', monitor='val_loss', mode='min', save_best_only=True,verbose=1)"
   ]
  },
  {
   "cell_type": "code",
   "execution_count": 145,
   "metadata": {
    "colab": {
     "base_uri": "https://localhost:8080/",
     "height": 666
    },
    "colab_type": "code",
    "id": "86TmqTf3RyUs",
    "outputId": "11632482-3ab7-47e7-a658-9588bd68c46a"
   },
   "outputs": [
    {
     "name": "stdout",
     "output_type": "stream",
     "text": [
      "\n",
      "Epoch 00001: val_loss improved from inf to 0.62923, saving model to best_model.h5\n",
      "WARNING:tensorflow:TensorFlow optimizers do not make it possible to access optimizer attributes or optimizer state after instantiation. As a result, we cannot save the optimizer as part of the model save file. You will have to compile your model again after loading it. Prefer using a Keras optimizer instead (see keras.io/optimizers).\n",
      "\n",
      "Epoch 00002: val_loss improved from 0.62923 to 0.58039, saving model to best_model.h5\n",
      "WARNING:tensorflow:TensorFlow optimizers do not make it possible to access optimizer attributes or optimizer state after instantiation. As a result, we cannot save the optimizer as part of the model save file. You will have to compile your model again after loading it. Prefer using a Keras optimizer instead (see keras.io/optimizers).\n",
      "\n",
      "Epoch 00003: val_loss did not improve from 0.58039\n",
      "\n",
      "Epoch 00004: val_loss improved from 0.58039 to 0.57658, saving model to best_model.h5\n",
      "WARNING:tensorflow:TensorFlow optimizers do not make it possible to access optimizer attributes or optimizer state after instantiation. As a result, we cannot save the optimizer as part of the model save file. You will have to compile your model again after loading it. Prefer using a Keras optimizer instead (see keras.io/optimizers).\n",
      "\n",
      "Epoch 00005: val_loss improved from 0.57658 to 0.56400, saving model to best_model.h5\n",
      "WARNING:tensorflow:TensorFlow optimizers do not make it possible to access optimizer attributes or optimizer state after instantiation. As a result, we cannot save the optimizer as part of the model save file. You will have to compile your model again after loading it. Prefer using a Keras optimizer instead (see keras.io/optimizers).\n",
      "\n",
      "Epoch 00006: val_loss improved from 0.56400 to 0.55837, saving model to best_model.h5\n",
      "WARNING:tensorflow:TensorFlow optimizers do not make it possible to access optimizer attributes or optimizer state after instantiation. As a result, we cannot save the optimizer as part of the model save file. You will have to compile your model again after loading it. Prefer using a Keras optimizer instead (see keras.io/optimizers).\n",
      "\n",
      "Epoch 00007: val_loss did not improve from 0.55837\n",
      "\n",
      "Epoch 00008: val_loss improved from 0.55837 to 0.53494, saving model to best_model.h5\n",
      "WARNING:tensorflow:TensorFlow optimizers do not make it possible to access optimizer attributes or optimizer state after instantiation. As a result, we cannot save the optimizer as part of the model save file. You will have to compile your model again after loading it. Prefer using a Keras optimizer instead (see keras.io/optimizers).\n",
      "\n",
      "Epoch 00009: val_loss improved from 0.53494 to 0.53228, saving model to best_model.h5\n",
      "WARNING:tensorflow:TensorFlow optimizers do not make it possible to access optimizer attributes or optimizer state after instantiation. As a result, we cannot save the optimizer as part of the model save file. You will have to compile your model again after loading it. Prefer using a Keras optimizer instead (see keras.io/optimizers).\n",
      "\n",
      "Epoch 00010: val_loss did not improve from 0.53228\n",
      "\n",
      "Epoch 00011: val_loss did not improve from 0.53228\n",
      "\n",
      "Epoch 00012: val_loss did not improve from 0.53228\n",
      "\n",
      "Epoch 00013: val_loss did not improve from 0.53228\n",
      "\n",
      "Epoch 00014: val_loss did not improve from 0.53228\n",
      "\n",
      "Epoch 00015: val_loss did not improve from 0.53228\n",
      "\n",
      "Epoch 00016: val_loss improved from 0.53228 to 0.52989, saving model to best_model.h5\n",
      "WARNING:tensorflow:TensorFlow optimizers do not make it possible to access optimizer attributes or optimizer state after instantiation. As a result, we cannot save the optimizer as part of the model save file. You will have to compile your model again after loading it. Prefer using a Keras optimizer instead (see keras.io/optimizers).\n",
      "\n",
      "Epoch 00017: val_loss did not improve from 0.52989\n",
      "\n",
      "Epoch 00018: val_loss did not improve from 0.52989\n",
      "\n",
      "Epoch 00019: val_loss did not improve from 0.52989\n",
      "\n",
      "Epoch 00020: val_loss did not improve from 0.52989\n",
      "\n",
      "Epoch 00021: val_loss did not improve from 0.52989\n",
      "\n",
      "Epoch 00022: val_loss did not improve from 0.52989\n",
      "\n",
      "Epoch 00023: val_loss did not improve from 0.52989\n",
      "\n",
      "Epoch 00024: val_loss did not improve from 0.52989\n",
      "\n",
      "Epoch 00025: val_loss did not improve from 0.52989\n",
      "\n",
      "Epoch 00026: val_loss did not improve from 0.52989\n"
     ]
    }
   ],
   "source": [
    "#MODEL FITTING\n",
    "history = model.fit(xtrain, ytrain, epochs=100, verbose=0,validation_split = 0.3,callbacks=[early_stop,mc])"
   ]
  },
  {
   "cell_type": "code",
   "execution_count": 146,
   "metadata": {
    "colab": {},
    "colab_type": "code",
    "id": "Tc1qQ7lZRyUy"
   },
   "outputs": [],
   "source": [
    "# load the saved model\n",
    "model.load_weights('best_model.h5')"
   ]
  },
  {
   "cell_type": "code",
   "execution_count": 147,
   "metadata": {
    "colab": {
     "base_uri": "https://localhost:8080/",
     "height": 153
    },
    "colab_type": "code",
    "id": "W0LDeP0bRyU0",
    "outputId": "eb323caf-af36-45a9-e862-5e04e6a80a6a"
   },
   "outputs": [
    {
     "name": "stdout",
     "output_type": "stream",
     "text": [
      "98001/98001 [==============================] - 4s 43us/sample - loss: 0.5010 - acc: 0.7545\n",
      "Training Accuracy: 75.45 \n",
      "\n",
      "32668/32668 [==============================] - 1s 37us/sample - loss: 0.5312 - acc: 0.7360\n",
      "Training Accuracy: 73.60 \n",
      "\n",
      "2133/2133 [==============================] - 0s 41us/sample - loss: 1.5372 - acc: 0.5129\n",
      "Canadian dataset Testing Accuracy: 51.29\n"
     ]
    }
   ],
   "source": [
    "#ACCURACY\n",
    "train_loss,train_acc = model.evaluate(xtrain, ytrain)\n",
    "print('Training Accuracy: %.2f' % (train_acc*100),'\\n')\n",
    "\n",
    "test_loss,test_acc = model.evaluate(xtest, ytest)\n",
    "print('Training Accuracy: %.2f' % (test_acc*100),'\\n')\n",
    "\n",
    "elec_loss, elec_acc = model.evaluate(cd_ng_feat, t2)\n",
    "print('Canadian dataset Testing Accuracy: %.2f' % (elec_acc*100))"
   ]
  },
  {
   "cell_type": "markdown",
   "metadata": {},
   "source": [
    "98001/98001 [==============================] - 5s 55us/sample - loss: 0.5016 - acc: 0.75571s - los\n",
    "Training Accuracy: 75.57 \n",
    "\n",
    "32668/32668 [==============================] - 2s 57us/sample - loss: 0.5277 - acc: 0.7378\n",
    "Training Accuracy: 73.78 \n",
    "\n",
    "2133/2133 [==============================] - 0s 92us/sample - loss: 1.0651 - acc: 0.5021\n",
    "Canadian dataset Testing Accuracy: 50.21\n",
    "\n",
    "**WE GET A TRAINING ACCURACY OF 50.21 WHICH IS LESS THAN 51.76 OBTAINED FOR XGBOOST    \n",
    "WE CAN OBSERVE THAT DEEP NEURAL NETWORK IS NOT GIVING BETTER PERFORMANCE COMPARED TO XGBOOST**"
   ]
  },
  {
   "cell_type": "markdown",
   "metadata": {
    "colab_type": "text",
    "id": "J0AzZJpP5Aor"
   },
   "source": [
    "# CANADIAN DATASET:  NEGATIVE REASON'S"
   ]
  },
  {
   "cell_type": "markdown",
   "metadata": {
    "colab_type": "text",
    "id": "vxvs9NTq31Y_"
   },
   "source": [
    "**LETS TAKE THE NEGATIVE TWEETS IN THE CANADIAN DATASET AND LETS TRY TO CLASSIFY THEM INTO DIFFERENT CALSSES BASED ON REASONS**"
   ]
  },
  {
   "cell_type": "code",
   "execution_count": 148,
   "metadata": {
    "colab": {
     "base_uri": "https://localhost:8080/",
     "height": 428
    },
    "colab_type": "code",
    "id": "bvton1ntK5go",
    "outputId": "314f319e-31eb-4a11-ad94-76e43f56c8d0"
   },
   "outputs": [
    {
     "data": {
      "text/html": [
       "<div>\n",
       "<style scoped>\n",
       "    .dataframe tbody tr th:only-of-type {\n",
       "        vertical-align: middle;\n",
       "    }\n",
       "\n",
       "    .dataframe tbody tr th {\n",
       "        vertical-align: top;\n",
       "    }\n",
       "\n",
       "    .dataframe thead th {\n",
       "        text-align: right;\n",
       "    }\n",
       "</style>\n",
       "<table border=\"1\" class=\"dataframe\">\n",
       "  <thead>\n",
       "    <tr style=\"text-align: right;\">\n",
       "      <th></th>\n",
       "      <th>sentiment</th>\n",
       "      <th>negative_reason</th>\n",
       "      <th>text</th>\n",
       "      <th>at</th>\n",
       "      <th>hsh</th>\n",
       "      <th>clean_tweet</th>\n",
       "      <th>co</th>\n",
       "      <th>li</th>\n",
       "      <th>ndp</th>\n",
       "      <th>sentiment_le</th>\n",
       "      <th>prediction_xgb</th>\n",
       "      <th>prediction_xgb1</th>\n",
       "    </tr>\n",
       "  </thead>\n",
       "  <tbody>\n",
       "    <tr>\n",
       "      <th>0</th>\n",
       "      <td>Negative</td>\n",
       "      <td>Women Reproductive right and Racism</td>\n",
       "      <td>b\"@RosieBarton So instead of your suggestion, ...</td>\n",
       "      <td>rosiebarton</td>\n",
       "      <td>canadian  women  andrewscheer  conservatives  ...</td>\n",
       "      <td>instead suggestion agree canadian woman trust ...</td>\n",
       "      <td>True</td>\n",
       "      <td>False</td>\n",
       "      <td>False</td>\n",
       "      <td>0</td>\n",
       "      <td>1</td>\n",
       "      <td>1</td>\n",
       "    </tr>\n",
       "    <tr>\n",
       "      <th>1</th>\n",
       "      <td>Positive</td>\n",
       "      <td>NaN</td>\n",
       "      <td>b\"#AllWomanSpacewalk it's real!\\n@Space_Statio...</td>\n",
       "      <td></td>\n",
       "      <td>allwomanspacewalk  cityofto  onpoli  cdnpoli  ...</td>\n",
       "      <td>allwomanspacewalk real n netobicokenorth cityo...</td>\n",
       "      <td>False</td>\n",
       "      <td>False</td>\n",
       "      <td>False</td>\n",
       "      <td>1</td>\n",
       "      <td>0</td>\n",
       "      <td>0</td>\n",
       "    </tr>\n",
       "    <tr>\n",
       "      <th>2</th>\n",
       "      <td>Negative</td>\n",
       "      <td>Economy</td>\n",
       "      <td>b\"#Brantford It's going to cost YOU $94 BILLIO...</td>\n",
       "      <td></td>\n",
       "      <td>brantford  elxn43  cdnpoli  canada</td>\n",
       "      <td>brantford going cost billion next year ask jus...</td>\n",
       "      <td>False</td>\n",
       "      <td>False</td>\n",
       "      <td>False</td>\n",
       "      <td>0</td>\n",
       "      <td>0</td>\n",
       "      <td>0</td>\n",
       "    </tr>\n",
       "    <tr>\n",
       "      <th>3</th>\n",
       "      <td>Positive</td>\n",
       "      <td>NaN</td>\n",
       "      <td>b\"#Canada #CanadaElection2019 #CanadaVotes \\n#...</td>\n",
       "      <td></td>\n",
       "      <td>canada  canadaelection2019  canadavotes</td>\n",
       "      <td>canada canadavotes n ncan decide help n n</td>\n",
       "      <td>False</td>\n",
       "      <td>False</td>\n",
       "      <td>False</td>\n",
       "      <td>1</td>\n",
       "      <td>0</td>\n",
       "      <td>0</td>\n",
       "    </tr>\n",
       "    <tr>\n",
       "      <th>4</th>\n",
       "      <td>Negative</td>\n",
       "      <td>Economy</td>\n",
       "      <td>b\"#Canada #taxpayers are sick &amp;amp; tired of h...</td>\n",
       "      <td>snclavalin  sheila_copps</td>\n",
       "      <td>canada  taxpayers  trudeaumustgo.  canada  snc...</td>\n",
       "      <td>canada taxpayer sick amp tired hard earned don...</td>\n",
       "      <td>False</td>\n",
       "      <td>True</td>\n",
       "      <td>False</td>\n",
       "      <td>0</td>\n",
       "      <td>1</td>\n",
       "      <td>1</td>\n",
       "    </tr>\n",
       "  </tbody>\n",
       "</table>\n",
       "</div>"
      ],
      "text/plain": [
       "  sentiment                      negative_reason  \\\n",
       "0  Negative  Women Reproductive right and Racism   \n",
       "1  Positive                                  NaN   \n",
       "2  Negative                              Economy   \n",
       "3  Positive                                  NaN   \n",
       "4  Negative                              Economy   \n",
       "\n",
       "                                                text  \\\n",
       "0  b\"@RosieBarton So instead of your suggestion, ...   \n",
       "1  b\"#AllWomanSpacewalk it's real!\\n@Space_Statio...   \n",
       "2  b\"#Brantford It's going to cost YOU $94 BILLIO...   \n",
       "3  b\"#Canada #CanadaElection2019 #CanadaVotes \\n#...   \n",
       "4  b\"#Canada #taxpayers are sick &amp; tired of h...   \n",
       "\n",
       "                         at  \\\n",
       "0               rosiebarton   \n",
       "1                             \n",
       "2                             \n",
       "3                             \n",
       "4  snclavalin  sheila_copps   \n",
       "\n",
       "                                                 hsh  \\\n",
       "0  canadian  women  andrewscheer  conservatives  ...   \n",
       "1  allwomanspacewalk  cityofto  onpoli  cdnpoli  ...   \n",
       "2                 brantford  elxn43  cdnpoli  canada   \n",
       "3            canada  canadaelection2019  canadavotes   \n",
       "4  canada  taxpayers  trudeaumustgo.  canada  snc...   \n",
       "\n",
       "                                         clean_tweet     co     li    ndp  \\\n",
       "0  instead suggestion agree canadian woman trust ...   True  False  False   \n",
       "1  allwomanspacewalk real n netobicokenorth cityo...  False  False  False   \n",
       "2  brantford going cost billion next year ask jus...  False  False  False   \n",
       "3          canada canadavotes n ncan decide help n n  False  False  False   \n",
       "4  canada taxpayer sick amp tired hard earned don...  False   True  False   \n",
       "\n",
       "   sentiment_le  prediction_xgb  prediction_xgb1  \n",
       "0             0               1                1  \n",
       "1             1               0                0  \n",
       "2             0               0                0  \n",
       "3             1               0                0  \n",
       "4             0               1                1  "
      ]
     },
     "execution_count": 148,
     "metadata": {},
     "output_type": "execute_result"
    }
   ],
   "source": [
    "df1.head()"
   ]
  },
  {
   "cell_type": "code",
   "execution_count": 149,
   "metadata": {
    "colab": {
     "base_uri": "https://localhost:8080/",
     "height": 34
    },
    "colab_type": "code",
    "id": "9Sm1jLOxI5Az",
    "outputId": "a45c2bdc-687c-4133-d705-714e68a71129"
   },
   "outputs": [
    {
     "name": "stdout",
     "output_type": "stream",
     "text": [
      "(1006, 12)\n"
     ]
    }
   ],
   "source": [
    "# EXTRACTING DATA NEGATIVE SENTIMENT\n",
    "ind=df1[df1.sentiment==\"Negative\"].index\n",
    "dfc=df1.iloc[ind,:]\n",
    "print(dfc.shape)"
   ]
  },
  {
   "cell_type": "code",
   "execution_count": 150,
   "metadata": {
    "colab": {
     "base_uri": "https://localhost:8080/",
     "height": 85
    },
    "colab_type": "code",
    "id": "-ju00NvILLk0",
    "outputId": "49aee20c-8241-4e4a-8b30-10a8ac6bb2f8"
   },
   "outputs": [
    {
     "data": {
      "text/plain": [
       "array(['Women Reproductive right and Racism', 'Economy', 'Others',\n",
       "       'Scandal', 'Tell lies', 'Privilege', 'Climate Problem',\n",
       "       'Healthcare', 'Separation', 'Healthcare and Marijuana'],\n",
       "      dtype=object)"
      ]
     },
     "execution_count": 150,
     "metadata": {},
     "output_type": "execute_result"
    }
   ],
   "source": [
    "dfc.negative_reason.unique()"
   ]
  },
  {
   "cell_type": "code",
   "execution_count": 151,
   "metadata": {
    "colab": {
     "base_uri": "https://localhost:8080/",
     "height": 204
    },
    "colab_type": "code",
    "id": "qFZqCK2OM1Nu",
    "outputId": "4fc3a656-c7ca-4621-e6c7-ee82a78cb945"
   },
   "outputs": [
    {
     "data": {
      "text/plain": [
       "Others                                 364\n",
       "Scandal                                270\n",
       "Tell lies                              198\n",
       "Economy                                 51\n",
       "Women Reproductive right and Racism     45\n",
       "Climate Problem                         41\n",
       "Separation                              16\n",
       "Privilege                               12\n",
       "Healthcare                               5\n",
       "Healthcare and Marijuana                 4\n",
       "Name: negative_reason, dtype: int64"
      ]
     },
     "execution_count": 151,
     "metadata": {},
     "output_type": "execute_result"
    }
   ],
   "source": [
    "dfc.negative_reason.value_counts()"
   ]
  },
  {
   "cell_type": "markdown",
   "metadata": {
    "colab_type": "text",
    "id": "72BeJt98Mmzv"
   },
   "source": [
    "**WE CAN COMBINE  'Healthcare' AND 'Healthcare and Marijuana' INTO A SINGLE CLASS   \n",
    "NOW LETS LABEL ENCODE THE CLASSES**\n",
    "\n"
   ]
  },
  {
   "cell_type": "code",
   "execution_count": 152,
   "metadata": {
    "colab": {
     "base_uri": "https://localhost:8080/",
     "height": 34
    },
    "colab_type": "code",
    "id": "XNJ7zlYhL4bW",
    "outputId": "a30497b9-e919-44c6-ce83-97e738176f35"
   },
   "outputs": [
    {
     "name": "stdout",
     "output_type": "stream",
     "text": [
      "[0 1 2 3 4 5 6 7 8]\n"
     ]
    }
   ],
   "source": [
    "c_map={'Women Reproductive right and Racism':0, 'Economy':1, 'Others':2,\n",
    "       'Scandal':3, 'Tell lies':4, 'Privilege':5, 'Climate Problem':6,\n",
    "       'Healthcare and Marijuana':7, 'Separation':8,\"Healthcare\":7 }\n",
    "labels=dfc.negative_reason.map(c_map)\n",
    "print(np.unique(labels))"
   ]
  },
  {
   "cell_type": "code",
   "execution_count": 153,
   "metadata": {
    "colab": {
     "base_uri": "https://localhost:8080/",
     "height": 34
    },
    "colab_type": "code",
    "id": "DRZqpkRFQPQq",
    "outputId": "e77ba576-9aee-4f3d-fb29-5864662cefdf"
   },
   "outputs": [
    {
     "data": {
      "text/plain": [
       "(1006,)"
      ]
     },
     "execution_count": 153,
     "metadata": {},
     "output_type": "execute_result"
    }
   ],
   "source": [
    "#EXTRACTING FEATURES\n",
    "features=dfc.clean_tweet\n",
    "features.shape"
   ]
  },
  {
   "cell_type": "markdown",
   "metadata": {
    "colab_type": "text",
    "id": "MrHrkSqcQn3G"
   },
   "source": [
    "# TF-IDF :"
   ]
  },
  {
   "cell_type": "markdown",
   "metadata": {
    "colab_type": "text",
    "id": "AX21pV5E4Fwx"
   },
   "source": [
    "**WE USE TF-IDF FOR FEATURE TRANSFORMATION\n",
    "THE FOLLOWING MODELS WERE IMPLEMENTED IN TF- BASED FEATURE VECTOR\n",
    " LOGISTIC REGRESSION      \n",
    " MULTINOMIAL NAIVE BAYES     \n",
    " KNN  \n",
    " SVM   \n",
    " DECISION TREES  \n",
    " RANDOM FOREST     \n",
    " GRADIENT BOOSTING    \n",
    " XGBOOST**  "
   ]
  },
  {
   "cell_type": "markdown",
   "metadata": {
    "colab_type": "text",
    "id": "VDajFV9Q4neJ"
   },
   "source": [
    "**HYPERPARAMETER TUNING WITH CROSS VALIDATION** HAS BEEN DONE FOR ALL THESE MODELS\n",
    "\n",
    "THE HYPER PARAMETER TUNING PART HAS BEEN COMMENTED OUT BECAUSE IT TAKES LONGER TIME TO RUN AND CAN BE UNCOMMENTED AND CHECKED IF NEEDED"
   ]
  },
  {
   "cell_type": "code",
   "execution_count": 154,
   "metadata": {
    "colab": {
     "base_uri": "https://localhost:8080/",
     "height": 34
    },
    "colab_type": "code",
    "id": "v9X_VdoKQm6a",
    "outputId": "a4492891-0fc6-487f-acb8-59bf6e9e6685"
   },
   "outputs": [
    {
     "name": "stdout",
     "output_type": "stream",
     "text": [
      "(754, 1000) (252, 1000)\n"
     ]
    }
   ],
   "source": [
    "tfidf = TfidfVectorizer(use_idf=True,max_features=1000)\n",
    "tfs = tfidf.fit_transform(features)\n",
    "\n",
    "# std=StandardScaler()\n",
    "# tfs=std.fit_transform(tfs)\n",
    "\n",
    "xtrain,xtest,ytrain,ytest=train_test_split(tfs,labels,random_state=42)\n",
    "print(np.shape (xtrain),np.shape(xtest))"
   ]
  },
  {
   "cell_type": "code",
   "execution_count": 155,
   "metadata": {
    "colab": {
     "base_uri": "https://localhost:8080/",
     "height": 374
    },
    "colab_type": "code",
    "id": "I4TxztWhmtwD",
    "outputId": "1f204dd0-77f8-46ba-a936-ee1028b16c6e"
   },
   "outputs": [],
   "source": [
    "# #List Hyperparameters that we want to tune.\n",
    "# solver= ['newton-cg','lbfgs','liblinear', 'sag', 'saga']\n",
    "# C = [0.001,0.01,0.1,1]\n",
    "\n",
    "# #Convert to dictionary\n",
    "# hyperparameters = dict(solver=solver,C=C)\n",
    "\n",
    "# #Create new model\n",
    "# lr=LogisticRegression(max_iter=200)\n",
    "\n",
    "# #Use GridSearch\n",
    "# clf = GridSearchCV(lr, hyperparameters, cv=5)\n",
    "\n",
    "# #Fit the model\n",
    "# lr_best_model = clf.fit(xtrain,ytrain)\n",
    "\n",
    "# #Print The value of best Hyperparameters\n",
    "# print('Best solver:', lr_best_model.best_estimator_.get_params()['solver'])\n",
    "# print('Best C:', lr_best_model.best_estimator_.get_params()['C'])\n",
    "# print('Best Model score:', lr_best_model.best_score_*100)\n",
    "# print('\\n Best model:',lr_best_model.best_estimator_)"
   ]
  },
  {
   "cell_type": "markdown",
   "metadata": {
    "colab_type": "text",
    "id": "hYzQdtgeFM15"
   },
   "source": [
    "Best solver: newton-cg  \n",
    "Best C: 1  \n",
    "Best Model score: 51.19646799116998  \n",
    "\n",
    " Best model: LogisticRegression(C=1, class_weight=None, dual=False, fit_intercept=True,\n",
    "                   intercept_scaling=1, l1_ratio=None, max_iter=200,\n",
    "                   multi_class='auto', n_jobs=None, penalty='l2',\n",
    "                   random_state=None, solver='newton-cg', tol=0.0001, verbose=0,\n",
    "                   warm_start=False)"
   ]
  },
  {
   "cell_type": "code",
   "execution_count": 156,
   "metadata": {
    "colab": {
     "base_uri": "https://localhost:8080/",
     "height": 68
    },
    "colab_type": "code",
    "id": "zFsKL3iJRlNV",
    "outputId": "ade62ffa-e009-4b36-a6d2-372760f36783"
   },
   "outputs": [
    {
     "name": "stdout",
     "output_type": "stream",
     "text": [
      "LOGISTIC REGRESSION:\n",
      "TRAIN ACCURACY 74.4\n",
      "TEST ACCURACY 51.59\n"
     ]
    },
    {
     "name": "stderr",
     "output_type": "stream",
     "text": [
      "C:\\Users\\aditya\\Anaconda3\\lib\\site-packages\\sklearn\\linear_model\\logistic.py:469: FutureWarning: Default multi_class will be changed to 'auto' in 0.22. Specify the multi_class option to silence this warning.\n",
      "  \"this warning.\", FutureWarning)\n"
     ]
    }
   ],
   "source": [
    "# lr=lr_best_model.best_estimator_\n",
    "lr=LogisticRegression(C=1,solver='newton-cg')\n",
    "lr.fit(xtrain,ytrain)\n",
    "print(\"LOGISTIC REGRESSION:\")\n",
    "print(\"TRAIN ACCURACY\",round(accuracy_score(ytrain,lr.predict(xtrain))*100,2))\n",
    "print(\"TEST ACCURACY\",round(accuracy_score(ytest,lr.predict(xtest))*100,2))"
   ]
  },
  {
   "cell_type": "code",
   "execution_count": 157,
   "metadata": {
    "colab": {
     "base_uri": "https://localhost:8080/",
     "height": 68
    },
    "colab_type": "code",
    "id": "Xdr-3OsBSUbK",
    "outputId": "2ff87575-5770-453f-d765-c3c3ff315dda"
   },
   "outputs": [
    {
     "name": "stdout",
     "output_type": "stream",
     "text": [
      "MULTINOMIAL NAIVE BAYES\n",
      "TRAIN ACCURACY 71.88\n",
      "TEST ACCURACY 48.81\n"
     ]
    }
   ],
   "source": [
    "# from sklearn.naive_bayes import MultinomialNB\n",
    "mnb=MultinomialNB()\n",
    "mnb.fit(xtrain,ytrain)\n",
    "print(\"MULTINOMIAL NAIVE BAYES\")\n",
    "print(\"TRAIN ACCURACY\",round(accuracy_score(ytrain,mnb.predict(xtrain))*100,2))\n",
    "print(\"TEST ACCURACY\",round(accuracy_score(ytest,mnb.predict(xtest))*100,2))"
   ]
  },
  {
   "cell_type": "code",
   "execution_count": 158,
   "metadata": {
    "colab": {
     "base_uri": "https://localhost:8080/",
     "height": 119
    },
    "colab_type": "code",
    "id": "6sizZ9PHmtwU",
    "outputId": "ac865b16-2d22-40f2-f01e-41888cb1b6bc"
   },
   "outputs": [],
   "source": [
    "# #List Hyperparameters that we want to tune.\n",
    "# n_neighbors = list(range(1,5))\n",
    "\n",
    "# #Convert to dictionary\n",
    "# hyperparameters = dict( n_neighbors=n_neighbors)\n",
    "\n",
    "# #Create new KNN object\n",
    "# knn = KNeighborsClassifier()\n",
    "\n",
    "# #Use GridSearch\n",
    "# clf = GridSearchCV(knn, hyperparameters, cv=5)\n",
    "\n",
    "# #Fit the model\n",
    "# knn_best_model = clf.fit(xtrain,ytrain)\n",
    "\n",
    "# #Print The value of best Hyperparameters\n",
    "# print('Best n_neighbors:', knn_best_model.best_estimator_.get_params()['n_neighbors'])\n",
    "# print('Best Model score:', knn_best_model.best_score_*100)\n",
    "# print('\\n Best model:',knn_best_model.best_estimator_)"
   ]
  },
  {
   "cell_type": "markdown",
   "metadata": {
    "colab_type": "text",
    "id": "1PQ2kEwAFThk"
   },
   "source": [
    "Best n_neighbors: 4   \n",
    "Best Model score: 37.66622516556291\n",
    "\n",
    " Best model: KNeighborsClassifier(algorithm='auto', leaf_size=30, metric='minkowski',\n",
    "                     metric_params=None, n_jobs=None, n_neighbors=4, p=2,\n",
    "                     weights='uniform')"
   ]
  },
  {
   "cell_type": "code",
   "execution_count": 159,
   "metadata": {
    "colab": {
     "base_uri": "https://localhost:8080/",
     "height": 68
    },
    "colab_type": "code",
    "id": "zt0vUix5Valv",
    "outputId": "9d556376-a747-4b3c-ba87-f570bfe59d5d"
   },
   "outputs": [
    {
     "name": "stdout",
     "output_type": "stream",
     "text": [
      "KNN\n",
      "TRAIN ACCURACY 59.28\n",
      "TEST ACCURACY 33.33\n"
     ]
    }
   ],
   "source": [
    "# knn=knn_best_model.best_estimator_\n",
    "knn=KNeighborsClassifier( n_neighbors=4)\n",
    "knn.fit(xtrain,ytrain)\n",
    "print(\"KNN\")\n",
    "print(\"TRAIN ACCURACY\",round(accuracy_score(ytrain,knn.predict(xtrain))*100,2))\n",
    "print(\"TEST ACCURACY\",round(accuracy_score(ytest,knn.predict(xtest))*100,2))"
   ]
  },
  {
   "cell_type": "code",
   "execution_count": 160,
   "metadata": {
    "colab": {
     "base_uri": "https://localhost:8080/",
     "height": 170
    },
    "colab_type": "code",
    "id": "mMPHQn3nmtwd",
    "outputId": "60aa1706-fd91-4ce8-b0d4-a30b6a3d1968"
   },
   "outputs": [],
   "source": [
    "# #List Hyperparameters that we want to tune.\n",
    "# a = [0.0001,0.001,0.01,0.1,1]\n",
    "\n",
    "# #Convert to dictionary\n",
    "# hyperparameters = dict(alpha=a)\n",
    "\n",
    "# #Create new model\n",
    "# sgd=SGDClassifier(loss='hinge')\n",
    "\n",
    "# #Use GridSearch\n",
    "# clf = GridSearchCV(sgd, hyperparameters, cv=5)\n",
    "\n",
    "# #Fit the model\n",
    "# sgd_best_model = clf.fit(xtrain,ytrain)\n",
    "\n",
    "# #Print The value of best Hyperparameters\n",
    "# print('Best Learning Rate:', sgd_best_model.best_estimator_.get_params()['alpha'])\n",
    "# print('Best Model score:', sgd_best_model.best_score_*100)\n",
    "# print('\\n Best model:',sgd_best_model.best_estimator_)"
   ]
  },
  {
   "cell_type": "markdown",
   "metadata": {
    "colab_type": "text",
    "id": "4bg7SQMDFgfI"
   },
   "source": [
    "Best Learning Rate: 0.01  \n",
    "Best Model score: 55.441059602649  \n",
    "\n",
    " Best model: SGDClassifier(alpha=0.01, average=False, class_weight=None,\n",
    "              early_stopping=False, epsilon=0.1, eta0=0.0, fit_intercept=True,\n",
    "              l1_ratio=0.15, learning_rate='optimal', loss='hinge',\n",
    "              max_iter=1000, n_iter_no_change=5, n_jobs=None, penalty='l2',\n",
    "              power_t=0.5, random_state=None, shuffle=True, tol=0.001,\n",
    "              validation_fraction=0.1, verbose=0, warm_start=False)"
   ]
  },
  {
   "cell_type": "code",
   "execution_count": 161,
   "metadata": {
    "colab": {
     "base_uri": "https://localhost:8080/",
     "height": 68
    },
    "colab_type": "code",
    "id": "yAT0S7TEUFwK",
    "outputId": "368621a1-3267-475f-d87b-9c336a9f7ba0"
   },
   "outputs": [
    {
     "name": "stdout",
     "output_type": "stream",
     "text": [
      "SVM-SGD\n",
      "TRAIN ACCURACY 86.34\n",
      "TEST ACCURACY 54.76\n"
     ]
    }
   ],
   "source": [
    "# sgd=sgd_best_model.best_estimator_\n",
    "sgd=SGDClassifier(alpha=0.01,loss='hinge')\n",
    "sgd.fit(xtrain,ytrain)\n",
    "print(\"SVM-SGD\")\n",
    "print(\"TRAIN ACCURACY\",round(accuracy_score(ytrain,sgd.predict(xtrain))*100,2))\n",
    "print(\"TEST ACCURACY\",round(accuracy_score(ytest,sgd.predict(xtest))*100,2))"
   ]
  },
  {
   "cell_type": "code",
   "execution_count": 162,
   "metadata": {
    "colab": {
     "base_uri": "https://localhost:8080/",
     "height": 187
    },
    "colab_type": "code",
    "id": "-Us6qTRSmtwl",
    "outputId": "02e332f7-11d5-47cc-9260-2e8a1ffdd3af"
   },
   "outputs": [],
   "source": [
    "# #List Hyperparameters that we want to tune.\n",
    "# criterion=['gini', 'entropy']\n",
    "# splitter=['best', 'random']\n",
    "\n",
    "# #Convert to dictionary\n",
    "# hyperparameters = dict(criterion=criterion,splitter=splitter)\n",
    "\n",
    "# #Create a new model\n",
    "# dt=DecisionTreeClassifier()\n",
    "\n",
    "# #Use GridSearch\n",
    "# clf = GridSearchCV(dt, hyperparameters, cv=5)\n",
    "\n",
    "# #Fit the model\n",
    "# dt_best_model = clf.fit(xtrain,ytrain)\n",
    "\n",
    "# #Print The value of best Hyperparameters\n",
    "# print('Best Criterion:', dt_best_model.best_estimator_.get_params()['criterion'])\n",
    "# print('Best Splitter:', dt_best_model.best_estimator_.get_params()['splitter'])\n",
    "\n",
    "# print('Best Model score:', dt_best_model.best_score_*100)\n",
    "# print('\\n Best model:',dt_best_model.best_estimator_)"
   ]
  },
  {
   "cell_type": "markdown",
   "metadata": {
    "colab_type": "text",
    "id": "fR1O2p4oFkwp"
   },
   "source": [
    "Best Criterion: entropy  \n",
    "Best Splitter: random  \n",
    "Best Model score: 49.46931567328918   \n",
    "\n",
    " Best model: DecisionTreeClassifier(ccp_alpha=0.0, class_weight=None, criterion='entropy',\n",
    "                       max_depth=None, max_features=None, max_leaf_nodes=None,\n",
    "                       min_impurity_decrease=0.0, min_impurity_split=None,\n",
    "                       min_samples_leaf=1, min_samples_split=2,\n",
    "                       min_weight_fraction_leaf=0.0, presort='deprecated',\n",
    "                       random_state=None, splitter='random')"
   ]
  },
  {
   "cell_type": "code",
   "execution_count": 163,
   "metadata": {
    "colab": {
     "base_uri": "https://localhost:8080/",
     "height": 68
    },
    "colab_type": "code",
    "id": "vUVltoxlp5ln",
    "outputId": "bea55fc6-106b-4f28-e738-11105d5b150c"
   },
   "outputs": [
    {
     "name": "stdout",
     "output_type": "stream",
     "text": [
      "DECISION TREES\n",
      "TRAIN ACCURACY 99.87\n",
      "TEST ACCURACY 46.03\n"
     ]
    }
   ],
   "source": [
    "# dt=dt_best_model.best_estimator_\n",
    "dt=DecisionTreeClassifier(criterion='entropy', splitter='random')\n",
    "dt.fit(xtrain,ytrain)\n",
    "print(\"DECISION TREES\")\n",
    "print(\"TRAIN ACCURACY\",round(accuracy_score(ytrain,dt.predict(xtrain))*100,2))\n",
    "print(\"TEST ACCURACY\",round(accuracy_score(ytest,dt.predict(xtest))*100,2))"
   ]
  },
  {
   "cell_type": "code",
   "execution_count": 164,
   "metadata": {
    "colab": {
     "base_uri": "https://localhost:8080/",
     "height": 204
    },
    "colab_type": "code",
    "id": "SE8NgeDAmtws",
    "outputId": "23fa5868-9ab4-489d-87c8-bcf89d2a7903"
   },
   "outputs": [],
   "source": [
    "# #List Hyperparameters that we want to tune.\n",
    "# n_estimators=[25,50,75,100]\n",
    "\n",
    "# #Convert to dictionary\n",
    "# hyperparameters = dict(n_estimators=n_estimators)\n",
    "\n",
    "# #Create new model\n",
    "# rf=RandomForestClassifier()\n",
    "\n",
    "# #Use GridSearch\n",
    "# clf = GridSearchCV(rf, hyperparameters, cv=2)\n",
    "\n",
    "# #Fit the model\n",
    "# rf_best_model = clf.fit(xtrain,ytrain)\n",
    "\n",
    "# #Print The value of best Hyperparameters\n",
    "# print('Best Estimator Count:', rf_best_model.best_estimator_.get_params()['n_estimators'])\n",
    "# print('Best Model score:', rf_best_model.best_score_*100)\n",
    "# print('\\n Best model:',rf_best_model.best_estimator_)"
   ]
  },
  {
   "cell_type": "markdown",
   "metadata": {
    "colab_type": "text",
    "id": "GLj847LMFoeW"
   },
   "source": [
    "Best Estimator Count: 75  \n",
    "Best Model score: 51.45888594164456   \n",
    "\n",
    " Best model: RandomForestClassifier(bootstrap=True, ccp_alpha=0.0, class_weight=None,\n",
    "                       criterion='gini', max_depth=None, max_features='auto',\n",
    "                       max_leaf_nodes=None, max_samples=None,\n",
    "                       min_impurity_decrease=0.0, min_impurity_split=None,\n",
    "                       min_samples_leaf=1, min_samples_split=2,\n",
    "                       min_weight_fraction_leaf=0.0, n_estimators=75,\n",
    "                       n_jobs=None, oob_score=False, random_state=None,\n",
    "                       verbose=0, warm_start=False)"
   ]
  },
  {
   "cell_type": "code",
   "execution_count": 165,
   "metadata": {
    "colab": {
     "base_uri": "https://localhost:8080/",
     "height": 68
    },
    "colab_type": "code",
    "id": "mN4jvTQoTuJI",
    "outputId": "ac2493f9-dcdd-4d81-c453-adc9c476748e"
   },
   "outputs": [
    {
     "name": "stdout",
     "output_type": "stream",
     "text": [
      "RANDOM FOREST\n",
      "TRAIN ACCURACY 99.87\n",
      "TEST ACCURACY 57.94\n"
     ]
    }
   ],
   "source": [
    "# rf=rf_best_model.best_estimator_\n",
    "rf=RandomForestClassifier(n_estimators=75)\n",
    "rf.fit(xtrain,ytrain)\n",
    "print(\"RANDOM FOREST\")\n",
    "print(\"TRAIN ACCURACY\",round(accuracy_score(ytrain,rf.predict(xtrain))*100,2))\n",
    "print(\"TEST ACCURACY\",round(accuracy_score(ytest,rf.predict(xtest))*100,2))"
   ]
  },
  {
   "cell_type": "code",
   "execution_count": 166,
   "metadata": {
    "colab": {
     "base_uri": "https://localhost:8080/",
     "height": 238
    },
    "colab_type": "code",
    "id": "3o06u0Ymmtw3",
    "outputId": "296f8a50-0910-45a9-fc28-ca9156deab5c"
   },
   "outputs": [],
   "source": [
    "# #List Hyperparameters that we want to tune.\n",
    "# n_estimators=[25,50,75,100]\n",
    "\n",
    "# #Convert to dictionary\n",
    "# hyperparameters = dict(n_estimators=n_estimators)\n",
    "\n",
    "# #Create new model\n",
    "# gb=GradientBoostingClassifier()\n",
    "\n",
    "# #Use GridSearch\n",
    "# clf = GridSearchCV(gb, hyperparameters, cv=2)\n",
    "\n",
    "# #Fit the model\n",
    "# gb_best_model = clf.fit(xtrain,ytrain)\n",
    "\n",
    "# #Print The value of best Hyperparameters\n",
    "# print('Best Estimator Count:', gb_best_model.best_estimator_.get_params()['n_estimators'])\n",
    "# print('Best Model score:', gb_best_model.best_score_*100)\n",
    "# print('\\n Best model:',gb_best_model.best_estimator_)"
   ]
  },
  {
   "cell_type": "markdown",
   "metadata": {
    "colab_type": "text",
    "id": "-yV4qPpJFsEl"
   },
   "source": [
    "Best Estimator Count: 50  \n",
    "Best Model score: 53.9787798408488  \n",
    "\n",
    " Best model: GradientBoostingClassifier(ccp_alpha=0.0, criterion='friedman_mse', init=None,\n",
    "                           learning_rate=0.1, loss='deviance', max_depth=3,\n",
    "                           max_features=None, max_leaf_nodes=None,\n",
    "                           min_impurity_decrease=0.0, min_impurity_split=None,\n",
    "                           min_samples_leaf=1, min_samples_split=2,\n",
    "                           min_weight_fraction_leaf=0.0, n_estimators=50,\n",
    "                           n_iter_no_change=None, presort='deprecated',\n",
    "                           random_state=None, subsample=1.0, tol=0.0001,\n",
    "                           validation_fraction=0.1, verbose=0,\n",
    "                           warm_start=False)"
   ]
  },
  {
   "cell_type": "code",
   "execution_count": 167,
   "metadata": {
    "colab": {
     "base_uri": "https://localhost:8080/",
     "height": 68
    },
    "colab_type": "code",
    "id": "lnfZnwWbVObQ",
    "outputId": "9a36c93a-e2bd-462b-fe29-0f2b73f7bf8f"
   },
   "outputs": [
    {
     "name": "stdout",
     "output_type": "stream",
     "text": [
      "GRADIENT BOOSTING\n",
      "TRAIN ACCURACY 88.99\n",
      "TEST ACCURACY 55.95\n"
     ]
    }
   ],
   "source": [
    "# gb=gb_best_model.best_estimator_\n",
    "gb=GradientBoostingClassifier(n_estimators=50)\n",
    "gb.fit(xtrain,ytrain)\n",
    "print(\"GRADIENT BOOSTING\")\n",
    "print(\"TRAIN ACCURACY\",round(accuracy_score(ytrain,gb.predict(xtrain))*100,2))\n",
    "print(\"TEST ACCURACY\",round(accuracy_score(ytest,gb.predict(xtest))*100,2))"
   ]
  },
  {
   "cell_type": "code",
   "execution_count": 168,
   "metadata": {
    "colab": {
     "base_uri": "https://localhost:8080/",
     "height": 221
    },
    "colab_type": "code",
    "id": "mIX01ZyYd9z8",
    "outputId": "d32f18a7-8596-4719-b61b-319c0f07351f"
   },
   "outputs": [],
   "source": [
    "# #List Hyperparameters that we want to tune.\n",
    "# n_estimators=[25,50,100]\n",
    "\n",
    "# #Convert to dictionary\n",
    "# hyperparameters = dict(n_estimators=n_estimators)\n",
    "\n",
    "# #Create new model\n",
    "# xgb = XGBClassifier()\n",
    "\n",
    "# #Use GridSearch\n",
    "# clf = GridSearchCV(xgb, hyperparameters, cv=2)\n",
    "\n",
    "# #Fit the model\n",
    "# xgb_best_model = clf.fit(xtrain,ytrain)\n",
    "\n",
    "# #Print The value of best Hyperparameters\n",
    "# print('Best Estimator Count:', wf_xgb_best_model.best_estimator_.get_params()['n_estimators'])\n",
    "# print('Best Model score:', wf_xgb_best_model.best_score_*100)\n",
    "# print('\\n Best model:',wf_xgb_best_model.best_estimator_)"
   ]
  },
  {
   "cell_type": "markdown",
   "metadata": {
    "colab_type": "text",
    "id": "e_bP_NO5d90R"
   },
   "source": [
    "Best Estimator Count: 100\n",
    "Best Model score: 72.99517283903828\n",
    "\n",
    " Best model: XGBClassifier(base_score=0.5, booster=None, colsample_bylevel=1,\n",
    "              colsample_bynode=1, colsample_bytree=1, gamma=0, gpu_id=-1,\n",
    "              importance_type='gain', interaction_constraints=None,\n",
    "              learning_rate=0.300000012, max_delta_step=0, max_depth=6,\n",
    "              min_child_weight=1, missing=nan, monotone_constraints=None,\n",
    "              n_estimators=100, n_jobs=0, num_parallel_tree=1,\n",
    "              objective='binary:logistic', random_state=0, reg_alpha=0,\n",
    "              reg_lambda=1, scale_pos_weight=1, subsample=1, tree_method=None,\n",
    "              validate_parameters=False, verbosity=None)"
   ]
  },
  {
   "cell_type": "code",
   "execution_count": 169,
   "metadata": {
    "colab": {
     "base_uri": "https://localhost:8080/",
     "height": 68
    },
    "colab_type": "code",
    "id": "0D5c0V3ud90W",
    "outputId": "9b03a462-d9d7-40bc-cde4-441c999d0121"
   },
   "outputs": [
    {
     "name": "stdout",
     "output_type": "stream",
     "text": [
      "XGBOOST\n",
      "TRAINING ACCURACY 99.2\n",
      "TESTING ACCURACY 53.97\n"
     ]
    }
   ],
   "source": [
    "# xgb_model = XGBClassifier()\n",
    "xgb_model=XGBClassifier(n_estimators=100)\n",
    "xgb_model.fit(xtrain,ytrain)\n",
    "print(\"XGBOOST\")\n",
    "pred=xgb_model.predict(xtrain)\n",
    "print(\"TRAINING ACCURACY\",round(accuracy_score(pred,ytrain)*100,2))\n",
    "pred=xgb_model.predict(xtest)\n",
    "print(\"TESTING ACCURACY\",round(accuracy_score(pred,ytest)*100,2))"
   ]
  },
  {
   "cell_type": "markdown",
   "metadata": {
    "colab_type": "text",
    "id": "X6DtXG-gfwoH"
   },
   "source": [
    "# NEGATIVE REASONS CLASSIFICATION ACCURACIES:\n",
    "**LOGISTIC REGRESSION:**  \n",
    "TRAIN ACCURACY 74.4  \n",
    "TEST ACCURACY 51.59  \n",
    "\n",
    "**MULTINOMIAL NAIVE BAYES**  \n",
    "TRAIN ACCURACY 71.88  \n",
    "TEST ACCURACY 48.81  \n",
    "\n",
    "**KNN**  \n",
    "TRAIN ACCURACY 59.42  \n",
    "TEST ACCURACY 33.33  \n",
    "\n",
    "**SVM-SGD**  \n",
    "TRAIN ACCURACY 87.14  \n",
    "TEST ACCURACY 54.76  \n",
    "\n",
    "**DECISION TREES**  \n",
    "TRAIN ACCURACY 99.87  \n",
    "TEST ACCURACY 49.63  \n",
    "\n",
    "**RANDOM FOREST**  \n",
    "TRAIN ACCURACY 99.87  \n",
    "TEST ACCURACY 57.14  \n",
    "\n",
    "**GRADIENT BOOSTING**  \n",
    "TRAIN ACCURACY 89.26  \n",
    "TEST ACCURACY 56.75  \n",
    "\n",
    "**XGBOOST**  \n",
    "TRAINING ACCURACY 99.2  \n",
    "TESTING ACCURACY 53.97  "
   ]
  },
  {
   "cell_type": "markdown",
   "metadata": {
    "colab_type": "text",
    "id": "ke5yPmU75ynX"
   },
   "source": [
    " **BEST TESTING ACCURACIES WERE OBTAINED FOR RANDOM FOREST**"
   ]
  },
  {
   "cell_type": "code",
   "execution_count": 170,
   "metadata": {},
   "outputs": [
    {
     "data": {
      "image/png": "[encoded data removed]",
      "text/plain": [
       "<Figure size 576x576 with 2 Axes>"
      ]
     },
     "metadata": {
      "needs_background": "light"
     },
     "output_type": "display_data"
    }
   ],
   "source": [
    "pdn=rf.predict(tfs)\n",
    "fig,ax=plt.subplots(2,1,figsize=(8,8))\n",
    "sns.set(style=\"darkgrid\")\n",
    "sns.countplot(y=pdn,ax=ax[0])\n",
    "sns.countplot(y=labels,ax=ax[1])\n",
    "ax[0].title.set_text('PREDICTION')\n",
    "ax[1].title.set_text('ACTUAL')\n",
    "ax[0].set_ylabel(\"NEGATIVE REASONS\")\n",
    "ax[1].set_ylabel(\"NEGATIVE REASONS\")\n",
    "ax[0].set_xlabel(\"COUNTS\")\n",
    "ax[1].set_xlabel(\"COUNTS\")\n",
    "# fig.suptitle('CANADIAN DATASET-NEGATIVE REASONS', fontsize=16)\n",
    "fig.tight_layout()\n",
    "plt.show()"
   ]
  },
  {
   "cell_type": "markdown",
   "metadata": {},
   "source": [
    "**we see that lot of labels are misclassified as 2 which stands for \"OTHERS\"\n",
    "lets inspect the tweets and try to figure out why this is happening**"
   ]
  },
  {
   "cell_type": "code",
   "execution_count": 171,
   "metadata": {},
   "outputs": [
    {
     "name": "stdout",
     "output_type": "stream",
     "text": [
      "RANDOM FOREST PREDICTION\n",
      "[3 2 2 3 2 2 3 2 3 3]\n",
      "RANDOM FOREST LABELS\n",
      "1952    2\n",
      "1181    2\n",
      "1314    2\n",
      "935     3\n",
      "680     3\n",
      "1242    4\n",
      "1243    1\n",
      "961     2\n",
      "598     3\n",
      "115     3\n",
      "Name: negative_reason, dtype: int64\n"
     ]
    }
   ],
   "source": [
    "# xgb_model = XGBClassifier()\n",
    "print(\"RANDOM FOREST PREDICTION\")\n",
    "predn=rf.predict(xtest)\n",
    "print(predn[0:10])\n",
    "print(\"RANDOM FOREST LABELS\")\n",
    "print(ytest[0:10])"
   ]
  },
  {
   "cell_type": "markdown",
   "metadata": {},
   "source": [
    "'Women Reproductive right and Racism':0, 'Economy':1, 'Others':2,'Scandal':3, 'Tell lies':4, 'Privilege':5, 'Climate Problem':6,'Healthcare and Marijuana':7, 'Separation':8,\"Healthcare\":7 "
   ]
  },
  {
   "cell_type": "code",
   "execution_count": 172,
   "metadata": {},
   "outputs": [
    {
     "name": "stdout",
     "output_type": "stream",
     "text": [
      "b toddler informed prime minister canceleday\n",
      "b hey scheerrepublican trump calling stay hell canadian cdnpoli bcpoli onpoli quepoli\n",
      "b canada deserves better hope every conservative canada wake fact cpc pack wolf sheep clothing nothing conservative n nvote\n"
     ]
    }
   ],
   "source": [
    "print(features[1952])\n",
    "print(features[680])\n",
    "print(features[1242])\n"
   ]
  },
  {
   "cell_type": "markdown",
   "metadata": {},
   "source": [
    "# DISCUSSION\n",
    "THE MODEL HAS WORSE ACCURACY BECAUSE IT OVERFITS THE TRAINING DATA EVEN AFTER CROSSVALIDATION    \n",
    "THIS LEADS TO DECREASE IN ACCURACY OF TEST DATA   \n",
    "WE CAN OVERCOME THIS OVER FITTING PROBLEM BY INCREASING THE SIZE OF TRAINING SET, WE HAVE 700 TRAINING SAMPLES   \n",
    "IF THERE ARE MORE TRAINING INSTANCES IT WILL HELP TO GENERALIZE THE DATA\n",
    " \n",
    "\n",
    "THE MODEL MISCLASSIFIES ALOT OF THE LABELS AS CLASS 2(\"OTHERS\"). IF WE CAN EXPAND CLASS 2 INTO DIFFERENT CATEGORIES OUR ACCURACY MIGHT INCREASE       \n"
   ]
  },
  {
   "cell_type": "markdown",
   "metadata": {
    "colab_type": "text",
    "id": "2TWEEiS-4Acx"
   },
   "source": [
    "   # BONUS\n",
    "   # WORD EMBEDDINGS- NEGATIVE REASONS CLASSIFICATION"
   ]
  },
  {
   "cell_type": "code",
   "execution_count": 173,
   "metadata": {
    "colab": {
     "base_uri": "https://localhost:8080/",
     "height": 530
    },
    "colab_type": "code",
    "id": "nPBZSXaQ5feb",
    "outputId": "bd5c0683-3e0d-4aeb-d14d-e762601e49d1",
    "scrolled": true
   },
   "outputs": [
    {
     "name": "stdout",
     "output_type": "stream",
     "text": [
      "Requirement already satisfied: gensim in c:\\users\\aditya\\anaconda3\\lib\\site-packages (3.8.1)\n",
      "Requirement already satisfied: numpy>=1.11.3 in c:\\users\\aditya\\anaconda3\\lib\\site-packages (from gensim) (1.16.4)\n",
      "Requirement already satisfied: smart-open>=1.8.1 in c:\\users\\aditya\\anaconda3\\lib\\site-packages (from gensim) (1.9.0)\n",
      "Requirement already satisfied: scipy>=0.18.1 in c:\\users\\aditya\\anaconda3\\lib\\site-packages (from gensim) (1.4.1)\n",
      "Requirement already satisfied: six>=1.5.0 in c:\\users\\aditya\\anaconda3\\lib\\site-packages (from gensim) (1.12.0)\n",
      "Requirement already satisfied: requests in c:\\users\\aditya\\anaconda3\\lib\\site-packages (from smart-open>=1.8.1->gensim) (2.22.0)\n",
      "Requirement already satisfied: boto3 in c:\\users\\aditya\\anaconda3\\lib\\site-packages (from smart-open>=1.8.1->gensim) (1.12.21)\n",
      "Requirement already satisfied: boto>=2.32 in c:\\users\\aditya\\anaconda3\\lib\\site-packages (from smart-open>=1.8.1->gensim) (2.49.0)\n",
      "Requirement already satisfied: certifi>=2017.4.17 in c:\\users\\aditya\\anaconda3\\lib\\site-packages (from requests->smart-open>=1.8.1->gensim) (2019.6.16)\n",
      "Requirement already satisfied: chardet<3.1.0,>=3.0.2 in c:\\users\\aditya\\anaconda3\\lib\\site-packages (from requests->smart-open>=1.8.1->gensim) (3.0.4)\n",
      "Requirement already satisfied: urllib3!=1.25.0,!=1.25.1,<1.26,>=1.21.1 in c:\\users\\aditya\\anaconda3\\lib\\site-packages (from requests->smart-open>=1.8.1->gensim) (1.24.2)\n",
      "Requirement already satisfied: idna<2.9,>=2.5 in c:\\users\\aditya\\anaconda3\\lib\\site-packages (from requests->smart-open>=1.8.1->gensim) (2.8)\n",
      "Requirement already satisfied: s3transfer<0.4.0,>=0.3.0 in c:\\users\\aditya\\anaconda3\\lib\\site-packages (from boto3->smart-open>=1.8.1->gensim) (0.3.3)\n",
      "Requirement already satisfied: botocore<1.16.0,>=1.15.21 in c:\\users\\aditya\\anaconda3\\lib\\site-packages (from boto3->smart-open>=1.8.1->gensim) (1.15.21)\n",
      "Requirement already satisfied: jmespath<1.0.0,>=0.7.1 in c:\\users\\aditya\\anaconda3\\lib\\site-packages (from boto3->smart-open>=1.8.1->gensim) (0.9.5)\n",
      "Requirement already satisfied: python-dateutil<3.0.0,>=2.1 in c:\\users\\aditya\\anaconda3\\lib\\site-packages (from botocore<1.16.0,>=1.15.21->boto3->smart-open>=1.8.1->gensim) (2.8.0)\n",
      "Requirement already satisfied: docutils<0.16,>=0.10 in c:\\users\\aditya\\anaconda3\\lib\\site-packages (from botocore<1.16.0,>=1.15.21->boto3->smart-open>=1.8.1->gensim) (0.14)\n"
     ]
    }
   ],
   "source": [
    "!pip install gensim\n",
    "from gensim.models import word2vec"
   ]
  },
  {
   "cell_type": "code",
   "execution_count": 174,
   "metadata": {
    "colab": {},
    "colab_type": "code",
    "id": "vJE1Ld7F4AdH"
   },
   "outputs": [],
   "source": [
    "#WORD EMBEDDING FEATURE TRANSFORMATION\n",
    "tokenized_sentences = [sentence.split() for sentence in features]\n",
    "model = word2vec.Word2Vec(tokenized_sentences, size=100, min_count=1)"
   ]
  },
  {
   "cell_type": "code",
   "execution_count": 175,
   "metadata": {
    "colab": {},
    "colab_type": "code",
    "id": "U8RbFOjW7Jpa"
   },
   "outputs": [],
   "source": [
    "def buildWordVector(text, size):\n",
    "    vec = np.zeros(size).reshape((1, size))\n",
    "    count = 0.\n",
    "    text = text.split()\n",
    "    for word in text:\n",
    "        vec += model.wv[word].reshape((1, size))\n",
    "        count += 1.\n",
    "    if count != 0:\n",
    "        vec /= count\n",
    "    return vec"
   ]
  },
  {
   "cell_type": "code",
   "execution_count": 176,
   "metadata": {
    "colab": {},
    "colab_type": "code",
    "id": "IP-Ablx64AdP"
   },
   "outputs": [],
   "source": [
    "array_wordEmbedding = np.concatenate([buildWordVector(z, 100) for z in features])"
   ]
  },
  {
   "cell_type": "code",
   "execution_count": 177,
   "metadata": {
    "colab": {},
    "colab_type": "code",
    "id": "RlIMBg3lCeHz"
   },
   "outputs": [],
   "source": [
    "std= StandardScaler()\n",
    "array_wordEmbedding =std.fit_transform(array_wordEmbedding)"
   ]
  },
  {
   "cell_type": "code",
   "execution_count": 178,
   "metadata": {
    "colab": {
     "base_uri": "https://localhost:8080/",
     "height": 34
    },
    "colab_type": "code",
    "id": "zzOEDrKb4AdX",
    "outputId": "3d0690ca-e8bb-4eac-8d76-6487066ccda7"
   },
   "outputs": [
    {
     "name": "stdout",
     "output_type": "stream",
     "text": [
      "(754, 100) (252, 100)\n"
     ]
    }
   ],
   "source": [
    "#DATA SPLITTING\n",
    "xtrain,xtest,ytrain,ytest=train_test_split(array_wordEmbedding,labels,random_state=42)\n",
    "print(np.shape(xtrain),np.shape(xtest))"
   ]
  },
  {
   "cell_type": "markdown",
   "metadata": {},
   "source": [
    "**HYPERPARAMETER TRAINING:**"
   ]
  },
  {
   "cell_type": "code",
   "execution_count": 179,
   "metadata": {
    "colab": {
     "base_uri": "https://localhost:8080/",
     "height": 510
    },
    "colab_type": "code",
    "id": "6Ww_sjgKIQz8",
    "outputId": "9bb1e056-4654-40cb-e993-138fd95bd7d9"
   },
   "outputs": [],
   "source": [
    "# #List Hyperparameters that we want to tune.\n",
    "# solver= ['newton-cg','lbfgs','liblinear', 'saga']\n",
    "# C = [0.001,0.01,0.1,1]\n",
    "\n",
    "# #Convert to dictionary\n",
    "# hyperparameters = dict(solver=solver,C=C)\n",
    "\n",
    "# #Create new model\n",
    "# we_lr=LogisticRegression(max_iter=300)\n",
    "\n",
    "# #Use GridSearch\n",
    "# clf = GridSearchCV(we_lr, hyperparameters, cv=5)\n",
    "\n",
    "# #Fit the model\n",
    "# we_lr_best_model = clf.fit(xtrain,ytrain)\n",
    "\n",
    "# #Print The value of best Hyperparameters\n",
    "# print('Best solver:', we_lr_best_model.best_estimator_.get_params()['solver'])\n",
    "# print('Best C:', we_lr_best_model.best_estimator_.get_params()['C'])\n",
    "# print('Best Model score:', we_lr_best_model.best_score_*100)\n",
    "# print('\\n Best model:',we_lr_best_model.best_estimator_)"
   ]
  },
  {
   "cell_type": "markdown",
   "metadata": {
    "colab_type": "text",
    "id": "mFmsIxgLI0EK"
   },
   "source": [
    "Best solver: liblinear  \n",
    "Best C: 0.01  \n",
    "Best Model score: 42.57395143487859\n",
    "\n",
    " Best model: LogisticRegression(C=0.01, class_weight=None, dual=False, fit_intercept=True,\n",
    "                   intercept_scaling=1, l1_ratio=None, max_iter=300,\n",
    "                   multi_class='auto', n_jobs=None, penalty='l2',\n",
    "                   random_state=None, solver='liblinear', tol=0.0001, verbose=0,\n",
    "                   warm_start=False)"
   ]
  },
  {
   "cell_type": "code",
   "execution_count": 180,
   "metadata": {
    "colab": {},
    "colab_type": "code",
    "id": "qLSg1JaV4AdZ"
   },
   "outputs": [
    {
     "name": "stderr",
     "output_type": "stream",
     "text": [
      "C:\\Users\\aditya\\Anaconda3\\lib\\site-packages\\sklearn\\linear_model\\logistic.py:469: FutureWarning: Default multi_class will be changed to 'auto' in 0.22. Specify the multi_class option to silence this warning.\n",
      "  \"this warning.\", FutureWarning)\n"
     ]
    }
   ],
   "source": [
    "#LOGISTIC REGRESSION\n",
    "we_lr=LogisticRegression(C=0.01, solver='liblinear')\n",
    "we_lr_model=we_lr.fit(xtrain,ytrain)"
   ]
  },
  {
   "cell_type": "code",
   "execution_count": 181,
   "metadata": {
    "colab": {
     "base_uri": "https://localhost:8080/",
     "height": 51
    },
    "colab_type": "code",
    "id": "0bCjdubl4Adc",
    "outputId": "dde58f14-cc11-4ecd-ea14-1338861cf1f8"
   },
   "outputs": [
    {
     "name": "stdout",
     "output_type": "stream",
     "text": [
      "TRAINING ACCURACY 0.4761273209549072\n",
      "TESTING ACCURACY 0.42063492063492064\n"
     ]
    }
   ],
   "source": [
    "#ACCURACY\n",
    "we_lr_pred=we_lr.predict(xtrain)\n",
    "print(\"TRAINING ACCURACY\",accuracy_score(we_lr_pred,ytrain))\n",
    "we_lr_pred=we_lr.predict(xtest)\n",
    "print(\"TESTING ACCURACY\",accuracy_score(we_lr_pred,ytest))"
   ]
  },
  {
   "cell_type": "markdown",
   "metadata": {},
   "source": [
    "**LOGISTIC REGRESSION GIVES A ACCURACY OF 41 PERCENT    \n",
    "LETS APPLY NEURAL NETWORK AND CHECK ITS PERFORMANCE**\n"
   ]
  },
  {
   "cell_type": "markdown",
   "metadata": {
    "colab_type": "text",
    "id": "PDQJlqIu_NhQ"
   },
   "source": [
    "# NEURAL NETWORK"
   ]
  },
  {
   "cell_type": "code",
   "execution_count": 182,
   "metadata": {
    "colab": {},
    "colab_type": "code",
    "id": "c-WOQgcX7upv"
   },
   "outputs": [],
   "source": [
    "# TensorFlow and tf.keras\n",
    "import tensorflow as tf\n",
    "from tensorflow import keras\n",
    "from tensorflow.keras.layers import  Dropout, Dense"
   ]
  },
  {
   "cell_type": "code",
   "execution_count": 183,
   "metadata": {
    "colab": {
     "base_uri": "https://localhost:8080/",
     "height": 34
    },
    "colab_type": "code",
    "id": "ZwzX8uPh7up9",
    "outputId": "bbc681fd-0a10-4c69-b608-737614262b5b"
   },
   "outputs": [
    {
     "name": "stdout",
     "output_type": "stream",
     "text": [
      "(754, 100) (252, 100)\n"
     ]
    }
   ],
   "source": [
    "# split into input (X) and output (y) variables\n",
    "X = array_wordEmbedding\n",
    "y1 = labels\n",
    "\n",
    "from tensorflow.keras.utils import to_categorical\n",
    "y= to_categorical(y1)\n",
    "\n",
    "xtrain,xtest,ytrain,ytest=train_test_split(X,y,random_state=42)\n",
    "print(np.shape(xtrain),np.shape(xtest))"
   ]
  },
  {
   "cell_type": "code",
   "execution_count": 184,
   "metadata": {
    "colab": {},
    "colab_type": "code",
    "id": "1YHmtOmH7uqC"
   },
   "outputs": [],
   "source": [
    "#MODEL DEFINITION\n",
    "model = keras.Sequential()\n",
    "model.add(Dense(40, activation=tf.nn.tanh, input_shape=[100]))\n",
    "model.add(Dense(80, activation=tf.nn.tanh))\n",
    "model.add(Dense(10, activation=tf.nn.tanh))\n",
    "model.add(Dense(9, activation=tf.nn.softmax))"
   ]
  },
  {
   "cell_type": "code",
   "execution_count": 185,
   "metadata": {
    "colab": {},
    "colab_type": "code",
    "id": "rYjINI2D7uqI"
   },
   "outputs": [],
   "source": [
    "#MODEL COMPILATION\n",
    "model.compile(optimizer=tf.train.AdamOptimizer(),loss='categorical_crossentropy',metrics=['accuracy'])"
   ]
  },
  {
   "cell_type": "code",
   "execution_count": 186,
   "metadata": {
    "colab": {},
    "colab_type": "code",
    "id": "nDvEeuj97uqZ"
   },
   "outputs": [],
   "source": [
    "#EARLY STOPPING TO GENERALIZE THE DATA\n",
    "early_stop = keras.callbacks.EarlyStopping(monitor='val_loss', patience=50)"
   ]
  },
  {
   "cell_type": "code",
   "execution_count": 187,
   "metadata": {
    "colab": {},
    "colab_type": "code",
    "id": "ntBt89O47uqM"
   },
   "outputs": [],
   "source": [
    "# #SAVE BEST MODEL USING MODEL CHECKPOINT\n",
    "from tensorflow.keras.callbacks import ModelCheckpoint\n",
    "mc = ModelCheckpoint('best_model.h5')\n",
    "mc = ModelCheckpoint('best_model.h5', monitor='val_loss', mode='min', save_best_only=True,verbose=1)"
   ]
  },
  {
   "cell_type": "code",
   "execution_count": 188,
   "metadata": {
    "colab": {
     "base_uri": "https://localhost:8080/",
     "height": 1000
    },
    "colab_type": "code",
    "id": "iO_ecQs77uqd",
    "outputId": "a1203478-063d-4e45-fde2-6fdd26f0bb2f"
   },
   "outputs": [
    {
     "name": "stdout",
     "output_type": "stream",
     "text": [
      "\n",
      "Epoch 00001: val_loss improved from inf to 2.11430, saving model to best_model.h5\n",
      "WARNING:tensorflow:TensorFlow optimizers do not make it possible to access optimizer attributes or optimizer state after instantiation. As a result, we cannot save the optimizer as part of the model save file. You will have to compile your model again after loading it. Prefer using a Keras optimizer instead (see keras.io/optimizers).\n",
      "\n",
      "Epoch 00002: val_loss improved from 2.11430 to 2.01687, saving model to best_model.h5\n",
      "WARNING:tensorflow:TensorFlow optimizers do not make it possible to access optimizer attributes or optimizer state after instantiation. As a result, we cannot save the optimizer as part of the model save file. You will have to compile your model again after loading it. Prefer using a Keras optimizer instead (see keras.io/optimizers).\n",
      "\n",
      "Epoch 00003: val_loss improved from 2.01687 to 1.93091, saving model to best_model.h5\n",
      "WARNING:tensorflow:TensorFlow optimizers do not make it possible to access optimizer attributes or optimizer state after instantiation. As a result, we cannot save the optimizer as part of the model save file. You will have to compile your model again after loading it. Prefer using a Keras optimizer instead (see keras.io/optimizers).\n",
      "\n",
      "Epoch 00004: val_loss improved from 1.93091 to 1.83627, saving model to best_model.h5\n",
      "WARNING:tensorflow:TensorFlow optimizers do not make it possible to access optimizer attributes or optimizer state after instantiation. As a result, we cannot save the optimizer as part of the model save file. You will have to compile your model again after loading it. Prefer using a Keras optimizer instead (see keras.io/optimizers).\n",
      "\n",
      "Epoch 00005: val_loss improved from 1.83627 to 1.76494, saving model to best_model.h5\n",
      "WARNING:tensorflow:TensorFlow optimizers do not make it possible to access optimizer attributes or optimizer state after instantiation. As a result, we cannot save the optimizer as part of the model save file. You will have to compile your model again after loading it. Prefer using a Keras optimizer instead (see keras.io/optimizers).\n",
      "\n",
      "Epoch 00006: val_loss improved from 1.76494 to 1.70213, saving model to best_model.h5\n",
      "WARNING:tensorflow:TensorFlow optimizers do not make it possible to access optimizer attributes or optimizer state after instantiation. As a result, we cannot save the optimizer as part of the model save file. You will have to compile your model again after loading it. Prefer using a Keras optimizer instead (see keras.io/optimizers).\n",
      "\n",
      "Epoch 00007: val_loss improved from 1.70213 to 1.69087, saving model to best_model.h5\n",
      "WARNING:tensorflow:TensorFlow optimizers do not make it possible to access optimizer attributes or optimizer state after instantiation. As a result, we cannot save the optimizer as part of the model save file. You will have to compile your model again after loading it. Prefer using a Keras optimizer instead (see keras.io/optimizers).\n",
      "\n",
      "Epoch 00008: val_loss improved from 1.69087 to 1.64595, saving model to best_model.h5\n",
      "WARNING:tensorflow:TensorFlow optimizers do not make it possible to access optimizer attributes or optimizer state after instantiation. As a result, we cannot save the optimizer as part of the model save file. You will have to compile your model again after loading it. Prefer using a Keras optimizer instead (see keras.io/optimizers).\n",
      "\n",
      "Epoch 00009: val_loss improved from 1.64595 to 1.62899, saving model to best_model.h5\n",
      "WARNING:tensorflow:TensorFlow optimizers do not make it possible to access optimizer attributes or optimizer state after instantiation. As a result, we cannot save the optimizer as part of the model save file. You will have to compile your model again after loading it. Prefer using a Keras optimizer instead (see keras.io/optimizers).\n",
      "\n",
      "Epoch 00010: val_loss improved from 1.62899 to 1.61804, saving model to best_model.h5\n",
      "WARNING:tensorflow:TensorFlow optimizers do not make it possible to access optimizer attributes or optimizer state after instantiation. As a result, we cannot save the optimizer as part of the model save file. You will have to compile your model again after loading it. Prefer using a Keras optimizer instead (see keras.io/optimizers).\n",
      "\n",
      "Epoch 00011: val_loss improved from 1.61804 to 1.61315, saving model to best_model.h5\n",
      "WARNING:tensorflow:TensorFlow optimizers do not make it possible to access optimizer attributes or optimizer state after instantiation. As a result, we cannot save the optimizer as part of the model save file. You will have to compile your model again after loading it. Prefer using a Keras optimizer instead (see keras.io/optimizers).\n",
      "\n",
      "Epoch 00012: val_loss improved from 1.61315 to 1.60281, saving model to best_model.h5\n",
      "WARNING:tensorflow:TensorFlow optimizers do not make it possible to access optimizer attributes or optimizer state after instantiation. As a result, we cannot save the optimizer as part of the model save file. You will have to compile your model again after loading it. Prefer using a Keras optimizer instead (see keras.io/optimizers).\n",
      "\n",
      "Epoch 00013: val_loss did not improve from 1.60281\n",
      "\n",
      "Epoch 00014: val_loss did not improve from 1.60281\n",
      "\n",
      "Epoch 00015: val_loss improved from 1.60281 to 1.60279, saving model to best_model.h5\n",
      "WARNING:tensorflow:TensorFlow optimizers do not make it possible to access optimizer attributes or optimizer state after instantiation. As a result, we cannot save the optimizer as part of the model save file. You will have to compile your model again after loading it. Prefer using a Keras optimizer instead (see keras.io/optimizers).\n",
      "\n",
      "Epoch 00016: val_loss did not improve from 1.60279\n",
      "\n",
      "Epoch 00017: val_loss did not improve from 1.60279\n",
      "\n",
      "Epoch 00018: val_loss did not improve from 1.60279\n",
      "\n",
      "Epoch 00019: val_loss did not improve from 1.60279\n",
      "\n",
      "Epoch 00020: val_loss did not improve from 1.60279\n",
      "\n",
      "Epoch 00021: val_loss did not improve from 1.60279\n",
      "\n",
      "Epoch 00022: val_loss did not improve from 1.60279\n",
      "\n",
      "Epoch 00023: val_loss did not improve from 1.60279\n",
      "\n",
      "Epoch 00024: val_loss did not improve from 1.60279\n",
      "\n",
      "Epoch 00025: val_loss did not improve from 1.60279\n",
      "\n",
      "Epoch 00026: val_loss did not improve from 1.60279\n",
      "\n",
      "Epoch 00027: val_loss did not improve from 1.60279\n",
      "\n",
      "Epoch 00028: val_loss did not improve from 1.60279\n",
      "\n",
      "Epoch 00029: val_loss did not improve from 1.60279\n",
      "\n",
      "Epoch 00030: val_loss did not improve from 1.60279\n",
      "\n",
      "Epoch 00031: val_loss did not improve from 1.60279\n",
      "\n",
      "Epoch 00032: val_loss did not improve from 1.60279\n",
      "\n",
      "Epoch 00033: val_loss did not improve from 1.60279\n",
      "\n",
      "Epoch 00034: val_loss did not improve from 1.60279\n",
      "\n",
      "Epoch 00035: val_loss did not improve from 1.60279\n",
      "\n",
      "Epoch 00036: val_loss did not improve from 1.60279\n",
      "\n",
      "Epoch 00037: val_loss did not improve from 1.60279\n",
      "\n",
      "Epoch 00038: val_loss did not improve from 1.60279\n",
      "\n",
      "Epoch 00039: val_loss did not improve from 1.60279\n",
      "\n",
      "Epoch 00040: val_loss did not improve from 1.60279\n",
      "\n",
      "Epoch 00041: val_loss did not improve from 1.60279\n",
      "\n",
      "Epoch 00042: val_loss did not improve from 1.60279\n",
      "\n",
      "Epoch 00043: val_loss did not improve from 1.60279\n",
      "\n",
      "Epoch 00044: val_loss did not improve from 1.60279\n",
      "\n",
      "Epoch 00045: val_loss did not improve from 1.60279\n",
      "\n",
      "Epoch 00046: val_loss did not improve from 1.60279\n",
      "\n",
      "Epoch 00047: val_loss did not improve from 1.60279\n",
      "\n",
      "Epoch 00048: val_loss did not improve from 1.60279\n",
      "\n",
      "Epoch 00049: val_loss did not improve from 1.60279\n",
      "\n",
      "Epoch 00050: val_loss did not improve from 1.60279\n",
      "\n",
      "Epoch 00051: val_loss did not improve from 1.60279\n",
      "\n",
      "Epoch 00052: val_loss did not improve from 1.60279\n",
      "\n",
      "Epoch 00053: val_loss did not improve from 1.60279\n",
      "\n",
      "Epoch 00054: val_loss did not improve from 1.60279\n",
      "\n",
      "Epoch 00055: val_loss did not improve from 1.60279\n",
      "\n",
      "Epoch 00056: val_loss did not improve from 1.60279\n",
      "\n",
      "Epoch 00057: val_loss did not improve from 1.60279\n",
      "\n",
      "Epoch 00058: val_loss did not improve from 1.60279\n",
      "\n",
      "Epoch 00059: val_loss did not improve from 1.60279\n",
      "\n",
      "Epoch 00060: val_loss did not improve from 1.60279\n",
      "\n",
      "Epoch 00061: val_loss did not improve from 1.60279\n",
      "\n",
      "Epoch 00062: val_loss did not improve from 1.60279\n",
      "\n",
      "Epoch 00063: val_loss did not improve from 1.60279\n",
      "\n",
      "Epoch 00064: val_loss did not improve from 1.60279\n",
      "\n",
      "Epoch 00065: val_loss did not improve from 1.60279\n"
     ]
    }
   ],
   "source": [
    "#MODEL FITTING\n",
    "history = model.fit(xtrain, ytrain, epochs=300, verbose=0,validation_split = 0.3,callbacks=[early_stop,mc])"
   ]
  },
  {
   "cell_type": "code",
   "execution_count": 189,
   "metadata": {
    "colab": {},
    "colab_type": "code",
    "id": "6WKgAz3b7uqr"
   },
   "outputs": [],
   "source": [
    "# load the saved model\n",
    "model.load_weights('best_model.h5')"
   ]
  },
  {
   "cell_type": "code",
   "execution_count": 190,
   "metadata": {
    "colab": {
     "base_uri": "https://localhost:8080/",
     "height": 119
    },
    "colab_type": "code",
    "id": "uZqIZZ8t7uqx",
    "outputId": "62bfdf95-e398-498c-b84c-c29054245066"
   },
   "outputs": [
    {
     "name": "stdout",
     "output_type": "stream",
     "text": [
      "754/754 [==============================] - 0s 34us/sample - loss: 1.3571 - acc: 0.5066\n",
      "Training Accuracy: 50.66 \n",
      "\n",
      "252/252 [==============================] - 0s 44us/sample - loss: 1.5076 - acc: 0.4683\n",
      "Training Accuracy: 46.83 \n",
      "\n"
     ]
    }
   ],
   "source": [
    "#ACCURACY \n",
    "train_loss,train_acc = model.evaluate(xtrain, ytrain)\n",
    "print('Training Accuracy: %.2f' % (train_acc*100),'\\n')\n",
    "\n",
    "test_loss,test_acc = model.evaluate(xtest, ytest)\n",
    "print('Training Accuracy: %.2f' % (test_acc*100),'\\n')\n"
   ]
  },
  {
   "cell_type": "markdown",
   "metadata": {},
   "source": [
    "754/754 [==============================] - 0s 54us/sample - loss: 1.3640 - acc: 0.5265   \n",
    "Training Accuracy: 52.65    \n",
    "  \n",
    "252/252 [==============================] - 0s 55us/sample - loss: 1.6162 - acc: 0.3651  \n",
    "Training Accuracy: 36.51  \n",
    "\n",
    "**ACCURACY OF NEURAL NETWORK IS THAN THAT OF LOGISTIC REGRESSION**"
   ]
  },
  {
   "cell_type": "markdown",
   "metadata": {
    "colab_type": "text",
    "id": "dRFKbCJjDMCH"
   },
   "source": [
    "# N-GRAMS"
   ]
  },
  {
   "cell_type": "code",
   "execution_count": 191,
   "metadata": {
    "colab": {},
    "colab_type": "code",
    "id": "BX2-8Dji-0RQ"
   },
   "outputs": [],
   "source": [
    "#NGRAM FEATURE TRANSFORMATION\n",
    "vectorizer_ng = CountVectorizer(max_features=2000,ngram_range=(1,3))\n",
    "array_ng_feat = vectorizer_ng.fit_transform(features)"
   ]
  },
  {
   "cell_type": "code",
   "execution_count": 192,
   "metadata": {
    "colab": {
     "base_uri": "https://localhost:8080/",
     "height": 34
    },
    "colab_type": "code",
    "id": "YVn4EJKaDM2O",
    "outputId": "e2b5522f-1db1-4309-99ea-382b291866f4"
   },
   "outputs": [
    {
     "name": "stdout",
     "output_type": "stream",
     "text": [
      "(754, 2000) (252, 2000)\n"
     ]
    }
   ],
   "source": [
    "#SPLITTING DATA\n",
    "xtrain,xtest,ytrain,ytest=train_test_split(array_ng_feat,labels)\n",
    "print(np.shape(xtrain),np.shape(xtest))"
   ]
  },
  {
   "cell_type": "markdown",
   "metadata": {},
   "source": [
    "**HYPERPARAMETER TUNING:**"
   ]
  },
  {
   "cell_type": "code",
   "execution_count": 193,
   "metadata": {
    "colab": {},
    "colab_type": "code",
    "id": "QDF5quWuFDjZ"
   },
   "outputs": [],
   "source": [
    "# #List Hyperparameters that we want to tune.\n",
    "# n_estimators=[25,50,100]\n",
    "\n",
    "# #Convert to dictionary\n",
    "# hyperparameters = dict(n_estimators=n_estimators)\n",
    "\n",
    "# #Create new model\n",
    "# ng_xgb = XGBClassifier()\n",
    "\n",
    "# #Use GridSearch\n",
    "# clf = GridSearchCV(ng_xgb, hyperparameters, cv=2)\n",
    "\n",
    "# #Fit the model\n",
    "# ng_xgb_best_model = clf.fit(xtrain,ytrain)\n",
    "\n",
    "# #Print The value of best Hyperparameters\n",
    "# print('Best Estimator Count:', ng_xgb_best_model.best_estimator_.get_params()['n_estimators'])\n",
    "# print('Best Model score:', ng_xgb_best_model.best_score_*100)\n",
    "# print('\\n Best model:',ng_xgb_best_model.best_estimator_)"
   ]
  },
  {
   "cell_type": "markdown",
   "metadata": {
    "colab_type": "text",
    "id": "l5yyBITKFDjo"
   },
   "source": [
    "Best Estimator Count: 25  \n",
    "Best Model score: 53.05039787798409  \n",
    "\n",
    " Best model: XGBClassifier(base_score=0.5, booster=None, colsample_bylevel=1,\n",
    "              colsample_bynode=1, colsample_bytree=1, gamma=0, gpu_id=-1,\n",
    "              importance_type='gain', interaction_constraints=None,\n",
    "              learning_rate=0.300000012, max_delta_step=0, max_depth=6,\n",
    "              min_child_weight=1, missing=nan, monotone_constraints=None,\n",
    "              n_estimators=25, n_jobs=0, num_parallel_tree=1,\n",
    "              objective='multi:softprob', random_state=0, reg_alpha=0,\n",
    "              reg_lambda=1, scale_pos_weight=None, subsample=1,\n",
    "              tree_method=None, validate_parameters=False, verbosity=None)"
   ]
  },
  {
   "cell_type": "code",
   "execution_count": 194,
   "metadata": {
    "colab": {
     "base_uri": "https://localhost:8080/",
     "height": 68
    },
    "colab_type": "code",
    "id": "yCc1jqaFFDjq",
    "outputId": "e270cfc0-4e88-4e7e-9b22-ac71699b7d63"
   },
   "outputs": [
    {
     "name": "stdout",
     "output_type": "stream",
     "text": [
      "XGBOOST\n",
      "TRAINING ACCURACY 84.75\n",
      "TESTING ACCURACY 60.32\n"
     ]
    }
   ],
   "source": [
    "# xgb_model = XGBClassifier()\n",
    "ng_xgb=XGBClassifier(n_estimators=25)\n",
    "ng_xgb.fit(xtrain,ytrain)\n",
    "print(\"XGBOOST\")\n",
    "pred=ng_xgb.predict(xtrain)\n",
    "print(\"TRAINING ACCURACY\",round(accuracy_score(pred,ytrain)*100,2))\n",
    "pred=ng_xgb.predict(xtest)\n",
    "print(\"TESTING ACCURACY\",round(accuracy_score(pred,ytest)*100,2))"
   ]
  },
  {
   "cell_type": "markdown",
   "metadata": {},
   "source": [
    "XGBOOST GIVES A ACCURACY OF 57.94   \n",
    "LETS APPLY NEURAL NETWORK AND CHECK ITS PERFORMANCE "
   ]
  },
  {
   "cell_type": "markdown",
   "metadata": {
    "colab_type": "text",
    "id": "NWZnponfDM2v"
   },
   "source": [
    "# NEURAL NETWORK"
   ]
  },
  {
   "cell_type": "code",
   "execution_count": 195,
   "metadata": {
    "colab": {},
    "colab_type": "code",
    "id": "rtcjtrFbDM29"
   },
   "outputs": [],
   "source": [
    "# TensorFlow and tf.keras\n",
    "import tensorflow as tf\n",
    "from tensorflow import keras\n",
    "from tensorflow.keras.layers import  Dropout, Dense"
   ]
  },
  {
   "cell_type": "code",
   "execution_count": 196,
   "metadata": {
    "colab": {
     "base_uri": "https://localhost:8080/",
     "height": 34
    },
    "colab_type": "code",
    "id": "4V-c6jDtDM3J",
    "outputId": "8b62400b-2301-4e62-c882-03ed99cfab0d"
   },
   "outputs": [
    {
     "name": "stdout",
     "output_type": "stream",
     "text": [
      "(754, 2000) (252, 2000)\n"
     ]
    }
   ],
   "source": [
    "# split into input (X) and output (y) variables\n",
    "X = array_ng_feat\n",
    "y1 = labels\n",
    "\n",
    "from tensorflow.keras.utils import to_categorical\n",
    "y= to_categorical(y1)\n",
    "\n",
    "xtrain,xtest,ytrain,ytest=train_test_split(X,y,random_state=42)\n",
    "print(np.shape(xtrain),np.shape(xtest))"
   ]
  },
  {
   "cell_type": "code",
   "execution_count": 197,
   "metadata": {
    "colab": {},
    "colab_type": "code",
    "id": "cKBUJYkjDM3c"
   },
   "outputs": [],
   "source": [
    "# MODEL DEFINITION\n",
    "model = keras.Sequential()\n",
    "model.add(Dense(20, activation=tf.nn.tanh, input_shape=[2000]))\n",
    "model.add(Dense(30, activation=tf.nn.tanh))\n",
    "model.add(Dense(10, activation=tf.nn.tanh))\n",
    "model.add(Dense(9, activation=tf.nn.softmax))"
   ]
  },
  {
   "cell_type": "code",
   "execution_count": 198,
   "metadata": {
    "colab": {},
    "colab_type": "code",
    "id": "3nkal1JpDM3p"
   },
   "outputs": [],
   "source": [
    "#MODEL COMPILATION\n",
    "model.compile(optimizer=tf.train.AdamOptimizer(),loss='categorical_crossentropy',metrics=['accuracy'])"
   ]
  },
  {
   "cell_type": "code",
   "execution_count": 199,
   "metadata": {
    "colab": {},
    "colab_type": "code",
    "id": "XZwhORVqDM4O"
   },
   "outputs": [],
   "source": [
    "# EARLY STOPPING TO GENERALIZE THE MODEL\n",
    "early_stop = keras.callbacks.EarlyStopping(monitor='val_loss', patience=10)"
   ]
  },
  {
   "cell_type": "code",
   "execution_count": 200,
   "metadata": {
    "colab": {},
    "colab_type": "code",
    "id": "lM3Q2JEMDM32"
   },
   "outputs": [],
   "source": [
    "# MODEL CHECKPOINT TO SAVE THE MODEL\n",
    "from tensorflow.keras.callbacks import ModelCheckpoint\n",
    "mc = ModelCheckpoint('best_model.h5')\n",
    "mc = ModelCheckpoint('best_model.h5', monitor='val_loss', mode='min', save_best_only=True,verbose=1)"
   ]
  },
  {
   "cell_type": "code",
   "execution_count": 201,
   "metadata": {
    "colab": {
     "base_uri": "https://localhost:8080/",
     "height": 785
    },
    "colab_type": "code",
    "id": "hGvhbjdNDM4i",
    "outputId": "6f61452b-3cc4-44f0-b620-1d0cb9fa855e"
   },
   "outputs": [
    {
     "name": "stdout",
     "output_type": "stream",
     "text": [
      "\n",
      "Epoch 00001: val_loss improved from inf to 2.08598, saving model to best_model.h5\n",
      "WARNING:tensorflow:TensorFlow optimizers do not make it possible to access optimizer attributes or optimizer state after instantiation. As a result, we cannot save the optimizer as part of the model save file. You will have to compile your model again after loading it. Prefer using a Keras optimizer instead (see keras.io/optimizers).\n",
      "\n",
      "Epoch 00002: val_loss improved from 2.08598 to 1.97483, saving model to best_model.h5\n",
      "WARNING:tensorflow:TensorFlow optimizers do not make it possible to access optimizer attributes or optimizer state after instantiation. As a result, we cannot save the optimizer as part of the model save file. You will have to compile your model again after loading it. Prefer using a Keras optimizer instead (see keras.io/optimizers).\n",
      "\n",
      "Epoch 00003: val_loss improved from 1.97483 to 1.85970, saving model to best_model.h5\n",
      "WARNING:tensorflow:TensorFlow optimizers do not make it possible to access optimizer attributes or optimizer state after instantiation. As a result, we cannot save the optimizer as part of the model save file. You will have to compile your model again after loading it. Prefer using a Keras optimizer instead (see keras.io/optimizers).\n",
      "\n",
      "Epoch 00004: val_loss improved from 1.85970 to 1.75395, saving model to best_model.h5\n",
      "WARNING:tensorflow:TensorFlow optimizers do not make it possible to access optimizer attributes or optimizer state after instantiation. As a result, we cannot save the optimizer as part of the model save file. You will have to compile your model again after loading it. Prefer using a Keras optimizer instead (see keras.io/optimizers).\n",
      "\n",
      "Epoch 00005: val_loss improved from 1.75395 to 1.67648, saving model to best_model.h5\n",
      "WARNING:tensorflow:TensorFlow optimizers do not make it possible to access optimizer attributes or optimizer state after instantiation. As a result, we cannot save the optimizer as part of the model save file. You will have to compile your model again after loading it. Prefer using a Keras optimizer instead (see keras.io/optimizers).\n",
      "\n",
      "Epoch 00006: val_loss improved from 1.67648 to 1.64357, saving model to best_model.h5\n",
      "WARNING:tensorflow:TensorFlow optimizers do not make it possible to access optimizer attributes or optimizer state after instantiation. As a result, we cannot save the optimizer as part of the model save file. You will have to compile your model again after loading it. Prefer using a Keras optimizer instead (see keras.io/optimizers).\n",
      "\n",
      "Epoch 00007: val_loss improved from 1.64357 to 1.62988, saving model to best_model.h5\n",
      "WARNING:tensorflow:TensorFlow optimizers do not make it possible to access optimizer attributes or optimizer state after instantiation. As a result, we cannot save the optimizer as part of the model save file. You will have to compile your model again after loading it. Prefer using a Keras optimizer instead (see keras.io/optimizers).\n",
      "\n",
      "Epoch 00008: val_loss did not improve from 1.62988\n",
      "\n",
      "Epoch 00009: val_loss did not improve from 1.62988\n",
      "\n",
      "Epoch 00010: val_loss did not improve from 1.62988\n",
      "\n",
      "Epoch 00011: val_loss did not improve from 1.62988\n",
      "\n",
      "Epoch 00012: val_loss did not improve from 1.62988\n",
      "\n",
      "Epoch 00013: val_loss did not improve from 1.62988\n",
      "\n",
      "Epoch 00014: val_loss did not improve from 1.62988\n",
      "\n",
      "Epoch 00015: val_loss did not improve from 1.62988\n",
      "\n",
      "Epoch 00016: val_loss did not improve from 1.62988\n",
      "\n",
      "Epoch 00017: val_loss did not improve from 1.62988\n"
     ]
    }
   ],
   "source": [
    "#TRAINING THE MODEL\n",
    "history = model.fit(xtrain, ytrain, epochs=1000, verbose=0, validation_split = 0.3,\n",
    "                    callbacks=[early_stop,mc])"
   ]
  },
  {
   "cell_type": "code",
   "execution_count": 202,
   "metadata": {
    "colab": {},
    "colab_type": "code",
    "id": "AQAbBuTLDM4q"
   },
   "outputs": [],
   "source": [
    "# load the saved model\n",
    "model.load_weights('best_model.h5')"
   ]
  },
  {
   "cell_type": "code",
   "execution_count": 203,
   "metadata": {
    "colab": {
     "base_uri": "https://localhost:8080/",
     "height": 119
    },
    "colab_type": "code",
    "id": "gmbhSEePDM4z",
    "outputId": "6c0886b8-817f-4742-d5fa-25bb929bb7b1"
   },
   "outputs": [
    {
     "name": "stdout",
     "output_type": "stream",
     "text": [
      "754/754 [==============================] - 0s 63us/sample - loss: 1.0166 - acc: 0.7560\n",
      "Training Accuracy: 75.60 \n",
      "\n",
      "252/252 [==============================] - 0s 75us/sample - loss: 1.6072 - acc: 0.4802\n",
      "Training Accuracy: 48.02 \n",
      "\n"
     ]
    }
   ],
   "source": [
    "#ACCURACY\n",
    "train_loss,train_acc = model.evaluate(xtrain, ytrain)\n",
    "print('Training Accuracy: %.2f' % (train_acc*100),'\\n')\n",
    "\n",
    "test_loss,test_acc = model.evaluate(xtest, ytest)\n",
    "print('Training Accuracy: %.2f' % (test_acc*100),'\\n')\n"
   ]
  },
  {
   "cell_type": "markdown",
   "metadata": {},
   "source": [
    "**WE SEE THAT THE NEURAL NETWORKS PERFORMANCE IS LESS THAN THE XGBOOSTS ACCURACY**"
   ]
  }
 ],
 "metadata": {
  "colab": {
   "collapsed_sections": [],
   "machine_shape": "hm",
   "name": "MIE1624 ASSIGNMENT-2 final.ipynb",
   "provenance": []
  },
  "kernelspec": {
   "display_name": "Python 3",
   "language": "python",
   "name": "python3"
  },
  "language_info": {
   "codemirror_mode": {
    "name": "ipython",
    "version": 3
   },
   "file_extension": ".py",
   "mimetype": "text/x-python",
   "name": "python",
   "nbconvert_exporter": "python",
   "pygments_lexer": "ipython3",
   "version": "3.8.8"
  }
 },
 "nbformat": 4,
 "nbformat_minor": 1
}
